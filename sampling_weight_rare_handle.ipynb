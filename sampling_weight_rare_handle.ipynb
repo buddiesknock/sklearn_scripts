{
 "cells": [
  {
   "cell_type": "code",
   "execution_count": 1,
   "metadata": {},
   "outputs": [
    {
     "data": {
      "text/html": [
       "<style>.container { width:100% !important; }</style>"
      ],
      "text/plain": [
       "<IPython.core.display.HTML object>"
      ]
     },
     "metadata": {},
     "output_type": "display_data"
    }
   ],
   "source": [
    "from IPython.core.display import display, HTML\n",
    "display(HTML(\"<style>.container { width:100% !important; }</style>\"))"
   ]
  },
  {
   "cell_type": "code",
   "execution_count": 2,
   "metadata": {},
   "outputs": [],
   "source": [
    "import pandas as pd\n",
    "import numpy as np"
   ]
  },
  {
   "cell_type": "code",
   "execution_count": 3,
   "metadata": {},
   "outputs": [],
   "source": [
    "pd.set_option('display.max_rows', 500)\n",
    "pd.set_option('display.max_columns', 500)\n",
    "pd.set_option('display.width', 1000)"
   ]
  },
  {
   "cell_type": "code",
   "execution_count": 4,
   "metadata": {},
   "outputs": [],
   "source": [
    "df_brands = pd.read_csv('Rt8ETleD0l2G_one')\n",
    "df_led_disb = pd.read_csv('led_disbursements.csv')"
   ]
  },
  {
   "cell_type": "code",
   "execution_count": 5,
   "metadata": {},
   "outputs": [
    {
     "data": {
      "text/html": [
       "<div>\n",
       "<style scoped>\n",
       "    .dataframe tbody tr th:only-of-type {\n",
       "        vertical-align: middle;\n",
       "    }\n",
       "\n",
       "    .dataframe tbody tr th {\n",
       "        vertical-align: top;\n",
       "    }\n",
       "\n",
       "    .dataframe thead th {\n",
       "        text-align: right;\n",
       "    }\n",
       "</style>\n",
       "<table border=\"1\" class=\"dataframe\">\n",
       "  <thead>\n",
       "    <tr style=\"text-align: right;\">\n",
       "      <th></th>\n",
       "      <th>Unnamed: 0</th>\n",
       "      <th>CUSTOMER_ID</th>\n",
       "      <th>AGREEMENT_NO</th>\n",
       "      <th>DISBURSEMENT_DATE</th>\n",
       "      <th>PRODUCT_ID</th>\n",
       "      <th>MODEL_ID</th>\n",
       "      <th>AMT_FIN</th>\n",
       "      <th>EMI</th>\n",
       "      <th>AGE</th>\n",
       "      <th>EMPLOYMENTTYPE</th>\n",
       "      <th>GENDER</th>\n",
       "      <th>MARITALSTATUS</th>\n",
       "      <th>CITY</th>\n",
       "    </tr>\n",
       "  </thead>\n",
       "  <tbody>\n",
       "    <tr>\n",
       "      <th>0</th>\n",
       "      <td>0</td>\n",
       "      <td>69992537</td>\n",
       "      <td>4W2RCD94212620</td>\n",
       "      <td>20181113</td>\n",
       "      <td>RCD</td>\n",
       "      <td>97839</td>\n",
       "      <td>20500.0</td>\n",
       "      <td>1709.0</td>\n",
       "      <td>NaN</td>\n",
       "      <td>NaN</td>\n",
       "      <td>NaN</td>\n",
       "      <td>NaN</td>\n",
       "      <td>NaN</td>\n",
       "    </tr>\n",
       "    <tr>\n",
       "      <th>1</th>\n",
       "      <td>1</td>\n",
       "      <td>66045861</td>\n",
       "      <td>4380CD70492193</td>\n",
       "      <td>20180410</td>\n",
       "      <td>CD</td>\n",
       "      <td>89206</td>\n",
       "      <td>25500.0</td>\n",
       "      <td>2125.0</td>\n",
       "      <td>30.0</td>\n",
       "      <td>SELF EMPLOYED</td>\n",
       "      <td>Male</td>\n",
       "      <td>MARRIED</td>\n",
       "      <td>JALANDHAR</td>\n",
       "    </tr>\n",
       "    <tr>\n",
       "      <th>2</th>\n",
       "      <td>2</td>\n",
       "      <td>59748755</td>\n",
       "      <td>4290CD89566138</td>\n",
       "      <td>20180930</td>\n",
       "      <td>CD</td>\n",
       "      <td>97855</td>\n",
       "      <td>45000.0</td>\n",
       "      <td>2500.0</td>\n",
       "      <td>33.0</td>\n",
       "      <td>SELF EMPLOYED</td>\n",
       "      <td>Female</td>\n",
       "      <td>MARRIED</td>\n",
       "      <td>ERODE</td>\n",
       "    </tr>\n",
       "    <tr>\n",
       "      <th>3</th>\n",
       "      <td>3</td>\n",
       "      <td>105045977</td>\n",
       "      <td>4D30CD93426426</td>\n",
       "      <td>20181108</td>\n",
       "      <td>CD</td>\n",
       "      <td>95606</td>\n",
       "      <td>21300.0</td>\n",
       "      <td>1775.0</td>\n",
       "      <td>NaN</td>\n",
       "      <td>NaN</td>\n",
       "      <td>NaN</td>\n",
       "      <td>NaN</td>\n",
       "      <td>NaN</td>\n",
       "    </tr>\n",
       "    <tr>\n",
       "      <th>4</th>\n",
       "      <td>4</td>\n",
       "      <td>67682737</td>\n",
       "      <td>4400CD73400787</td>\n",
       "      <td>20180430</td>\n",
       "      <td>CD</td>\n",
       "      <td>82245</td>\n",
       "      <td>12750.0</td>\n",
       "      <td>1063.0</td>\n",
       "      <td>60.0</td>\n",
       "      <td>SELF EMPLOYED</td>\n",
       "      <td>Male</td>\n",
       "      <td>MARRIED</td>\n",
       "      <td>AMBALA</td>\n",
       "    </tr>\n",
       "  </tbody>\n",
       "</table>\n",
       "</div>"
      ],
      "text/plain": [
       "   Unnamed: 0  CUSTOMER_ID    AGREEMENT_NO  DISBURSEMENT_DATE PRODUCT_ID  MODEL_ID  AMT_FIN     EMI   AGE EMPLOYMENTTYPE  GENDER MARITALSTATUS       CITY\n",
       "0           0     69992537  4W2RCD94212620           20181113        RCD     97839  20500.0  1709.0   NaN            NaN     NaN           NaN        NaN\n",
       "1           1     66045861  4380CD70492193           20180410         CD     89206  25500.0  2125.0  30.0  SELF EMPLOYED    Male       MARRIED  JALANDHAR\n",
       "2           2     59748755  4290CD89566138           20180930         CD     97855  45000.0  2500.0  33.0  SELF EMPLOYED  Female       MARRIED      ERODE\n",
       "3           3    105045977  4D30CD93426426           20181108         CD     95606  21300.0  1775.0   NaN            NaN     NaN           NaN        NaN\n",
       "4           4     67682737  4400CD73400787           20180430         CD     82245  12750.0  1063.0  60.0  SELF EMPLOYED    Male       MARRIED     AMBALA"
      ]
     },
     "execution_count": 5,
     "metadata": {},
     "output_type": "execute_result"
    }
   ],
   "source": [
    "df_led_disb.head()"
   ]
  },
  {
   "cell_type": "code",
   "execution_count": 6,
   "metadata": {},
   "outputs": [],
   "source": [
    "df_led_brand =df_brands[df_brands['CATEGORY_DESC'] == 'LED']"
   ]
  },
  {
   "cell_type": "code",
   "execution_count": 7,
   "metadata": {},
   "outputs": [],
   "source": [
    "joined = df_led_disb.merge(df_led_brand,left_on='MODEL_ID',right_on='MODEL_ID',how='inner')"
   ]
  },
  {
   "cell_type": "code",
   "execution_count": 8,
   "metadata": {},
   "outputs": [],
   "source": [
    "del joined['MD5_VALUE']"
   ]
  },
  {
   "cell_type": "code",
   "execution_count": 9,
   "metadata": {},
   "outputs": [],
   "source": [
    "joined = joined.dropna()"
   ]
  },
  {
   "cell_type": "code",
   "execution_count": 10,
   "metadata": {},
   "outputs": [],
   "source": [
    "state_data = pd.read_csv('Season_BFL_LED - Sheet14.csv')"
   ]
  },
  {
   "cell_type": "code",
   "execution_count": 11,
   "metadata": {},
   "outputs": [
    {
     "data": {
      "text/plain": [
       "Index(['city', 'SUM of count', 'State', 'Unnamed: 3', 'Unnamed: 4'], dtype='object')"
      ]
     },
     "execution_count": 11,
     "metadata": {},
     "output_type": "execute_result"
    }
   ],
   "source": [
    "state_data.columns"
   ]
  },
  {
   "cell_type": "code",
   "execution_count": 12,
   "metadata": {},
   "outputs": [],
   "source": [
    "del state_data['Unnamed: 3']\n",
    "del state_data['Unnamed: 4']\n",
    "del state_data['SUM of count']"
   ]
  },
  {
   "cell_type": "code",
   "execution_count": 13,
   "metadata": {},
   "outputs": [
    {
     "data": {
      "text/html": [
       "<div>\n",
       "<style scoped>\n",
       "    .dataframe tbody tr th:only-of-type {\n",
       "        vertical-align: middle;\n",
       "    }\n",
       "\n",
       "    .dataframe tbody tr th {\n",
       "        vertical-align: top;\n",
       "    }\n",
       "\n",
       "    .dataframe thead th {\n",
       "        text-align: right;\n",
       "    }\n",
       "</style>\n",
       "<table border=\"1\" class=\"dataframe\">\n",
       "  <thead>\n",
       "    <tr style=\"text-align: right;\">\n",
       "      <th></th>\n",
       "      <th>city</th>\n",
       "      <th>State</th>\n",
       "    </tr>\n",
       "  </thead>\n",
       "  <tbody>\n",
       "    <tr>\n",
       "      <th>0</th>\n",
       "      <td>Grand Total</td>\n",
       "      <td>NaN</td>\n",
       "    </tr>\n",
       "    <tr>\n",
       "      <th>1</th>\n",
       "      <td>HYDERABAD</td>\n",
       "      <td>AP</td>\n",
       "    </tr>\n",
       "    <tr>\n",
       "      <th>2</th>\n",
       "      <td>BANGALORE</td>\n",
       "      <td>KA</td>\n",
       "    </tr>\n",
       "    <tr>\n",
       "      <th>3</th>\n",
       "      <td>MUMBAI</td>\n",
       "      <td>MH</td>\n",
       "    </tr>\n",
       "    <tr>\n",
       "      <th>4</th>\n",
       "      <td>CHENNAI</td>\n",
       "      <td>TN</td>\n",
       "    </tr>\n",
       "  </tbody>\n",
       "</table>\n",
       "</div>"
      ],
      "text/plain": [
       "          city State\n",
       "0  Grand Total   NaN\n",
       "1    HYDERABAD    AP\n",
       "2    BANGALORE    KA\n",
       "3       MUMBAI    MH\n",
       "4      CHENNAI    TN"
      ]
     },
     "execution_count": 13,
     "metadata": {},
     "output_type": "execute_result"
    }
   ],
   "source": [
    "state_data.head()"
   ]
  },
  {
   "cell_type": "code",
   "execution_count": 14,
   "metadata": {},
   "outputs": [],
   "source": [
    "state_data = state_data.dropna()"
   ]
  },
  {
   "cell_type": "code",
   "execution_count": 15,
   "metadata": {},
   "outputs": [],
   "source": [
    "#state_data.to_csv('state_list.csv',index=None)"
   ]
  },
  {
   "cell_type": "code",
   "execution_count": 16,
   "metadata": {},
   "outputs": [],
   "source": [
    "#joined"
   ]
  },
  {
   "cell_type": "code",
   "execution_count": 17,
   "metadata": {},
   "outputs": [],
   "source": [
    "#state_data = pd.merge(df_clean, state_data, on='city')"
   ]
  },
  {
   "cell_type": "code",
   "execution_count": 18,
   "metadata": {},
   "outputs": [
    {
     "data": {
      "text/plain": [
       "(1333563, 42)"
      ]
     },
     "execution_count": 18,
     "metadata": {},
     "output_type": "execute_result"
    }
   ],
   "source": [
    "joined.shape"
   ]
  },
  {
   "cell_type": "code",
   "execution_count": 19,
   "metadata": {
    "scrolled": true
   },
   "outputs": [],
   "source": [
    "#joined.isna().sum()"
   ]
  },
  {
   "cell_type": "code",
   "execution_count": 20,
   "metadata": {},
   "outputs": [],
   "source": [
    "df_clean = pd.DataFrame()\n",
    "df_clean[['customer_id','age','etype','gender', 'maritalstatus', 'city','manu_name','dis_data']] = joined[['CUSTOMER_ID','AGE','EMPLOYMENTTYPE','GENDER', 'MARITALSTATUS', 'CITY','MANUFACTURER_NAME','DISBURSEMENT_DATE']]"
   ]
  },
  {
   "cell_type": "code",
   "execution_count": 21,
   "metadata": {},
   "outputs": [
    {
     "data": {
      "text/html": [
       "<div>\n",
       "<style scoped>\n",
       "    .dataframe tbody tr th:only-of-type {\n",
       "        vertical-align: middle;\n",
       "    }\n",
       "\n",
       "    .dataframe tbody tr th {\n",
       "        vertical-align: top;\n",
       "    }\n",
       "\n",
       "    .dataframe thead th {\n",
       "        text-align: right;\n",
       "    }\n",
       "</style>\n",
       "<table border=\"1\" class=\"dataframe\">\n",
       "  <thead>\n",
       "    <tr style=\"text-align: right;\">\n",
       "      <th></th>\n",
       "      <th>customer_id</th>\n",
       "      <th>age</th>\n",
       "      <th>etype</th>\n",
       "      <th>gender</th>\n",
       "      <th>maritalstatus</th>\n",
       "      <th>city</th>\n",
       "      <th>manu_name</th>\n",
       "      <th>dis_data</th>\n",
       "    </tr>\n",
       "  </thead>\n",
       "  <tbody>\n",
       "    <tr>\n",
       "      <th>1</th>\n",
       "      <td>65592179</td>\n",
       "      <td>43.0</td>\n",
       "      <td>SELF EMPLOYED</td>\n",
       "      <td>Male</td>\n",
       "      <td>MARRIED</td>\n",
       "      <td>COIMBATORE</td>\n",
       "      <td>LG ELECTRONICS INDIA PVT.LTD</td>\n",
       "      <td>20181130</td>\n",
       "    </tr>\n",
       "    <tr>\n",
       "      <th>3</th>\n",
       "      <td>20686212</td>\n",
       "      <td>30.0</td>\n",
       "      <td>SELF EMPLOYED</td>\n",
       "      <td>Male</td>\n",
       "      <td>UNMARRIED</td>\n",
       "      <td>JALANDHAR</td>\n",
       "      <td>LG ELECTRONICS INDIA PVT.LTD</td>\n",
       "      <td>20180925</td>\n",
       "    </tr>\n",
       "    <tr>\n",
       "      <th>4</th>\n",
       "      <td>21550688</td>\n",
       "      <td>50.0</td>\n",
       "      <td>SELF EMPLOYED</td>\n",
       "      <td>Male</td>\n",
       "      <td>MARRIED</td>\n",
       "      <td>NAGPUR</td>\n",
       "      <td>LG ELECTRONICS INDIA PVT.LTD</td>\n",
       "      <td>20181129</td>\n",
       "    </tr>\n",
       "    <tr>\n",
       "      <th>5</th>\n",
       "      <td>18152487</td>\n",
       "      <td>57.0</td>\n",
       "      <td>SALARIED</td>\n",
       "      <td>Female</td>\n",
       "      <td>MARRIED</td>\n",
       "      <td>KOTTAYAM</td>\n",
       "      <td>LG ELECTRONICS INDIA PVT.LTD</td>\n",
       "      <td>20181208</td>\n",
       "    </tr>\n",
       "    <tr>\n",
       "      <th>6</th>\n",
       "      <td>52374870</td>\n",
       "      <td>38.0</td>\n",
       "      <td>SELF EMPLOYED</td>\n",
       "      <td>Male</td>\n",
       "      <td>MARRIED</td>\n",
       "      <td>SANGLI</td>\n",
       "      <td>LG ELECTRONICS INDIA PVT.LTD</td>\n",
       "      <td>20181231</td>\n",
       "    </tr>\n",
       "  </tbody>\n",
       "</table>\n",
       "</div>"
      ],
      "text/plain": [
       "   customer_id   age          etype  gender maritalstatus        city                     manu_name  dis_data\n",
       "1     65592179  43.0  SELF EMPLOYED    Male       MARRIED  COIMBATORE  LG ELECTRONICS INDIA PVT.LTD  20181130\n",
       "3     20686212  30.0  SELF EMPLOYED    Male     UNMARRIED   JALANDHAR  LG ELECTRONICS INDIA PVT.LTD  20180925\n",
       "4     21550688  50.0  SELF EMPLOYED    Male       MARRIED      NAGPUR  LG ELECTRONICS INDIA PVT.LTD  20181129\n",
       "5     18152487  57.0       SALARIED  Female       MARRIED    KOTTAYAM  LG ELECTRONICS INDIA PVT.LTD  20181208\n",
       "6     52374870  38.0  SELF EMPLOYED    Male       MARRIED      SANGLI  LG ELECTRONICS INDIA PVT.LTD  20181231"
      ]
     },
     "execution_count": 21,
     "metadata": {},
     "output_type": "execute_result"
    }
   ],
   "source": [
    "df_clean.head()"
   ]
  },
  {
   "cell_type": "code",
   "execution_count": 22,
   "metadata": {},
   "outputs": [],
   "source": [
    "df = pd.merge(df_clean, state_data, on='city')\n",
    "del df_clean"
   ]
  },
  {
   "cell_type": "code",
   "execution_count": 23,
   "metadata": {},
   "outputs": [
    {
     "data": {
      "text/html": [
       "<div>\n",
       "<style scoped>\n",
       "    .dataframe tbody tr th:only-of-type {\n",
       "        vertical-align: middle;\n",
       "    }\n",
       "\n",
       "    .dataframe tbody tr th {\n",
       "        vertical-align: top;\n",
       "    }\n",
       "\n",
       "    .dataframe thead th {\n",
       "        text-align: right;\n",
       "    }\n",
       "</style>\n",
       "<table border=\"1\" class=\"dataframe\">\n",
       "  <thead>\n",
       "    <tr style=\"text-align: right;\">\n",
       "      <th></th>\n",
       "      <th>customer_id</th>\n",
       "      <th>age</th>\n",
       "      <th>etype</th>\n",
       "      <th>gender</th>\n",
       "      <th>maritalstatus</th>\n",
       "      <th>city</th>\n",
       "      <th>manu_name</th>\n",
       "      <th>dis_data</th>\n",
       "      <th>State</th>\n",
       "    </tr>\n",
       "  </thead>\n",
       "  <tbody>\n",
       "    <tr>\n",
       "      <th>0</th>\n",
       "      <td>65592179</td>\n",
       "      <td>43.0</td>\n",
       "      <td>SELF EMPLOYED</td>\n",
       "      <td>Male</td>\n",
       "      <td>MARRIED</td>\n",
       "      <td>COIMBATORE</td>\n",
       "      <td>LG ELECTRONICS INDIA PVT.LTD</td>\n",
       "      <td>20181130</td>\n",
       "      <td>TN</td>\n",
       "    </tr>\n",
       "    <tr>\n",
       "      <th>1</th>\n",
       "      <td>40986359</td>\n",
       "      <td>36.0</td>\n",
       "      <td>SELF EMPLOYED</td>\n",
       "      <td>Male</td>\n",
       "      <td>MARRIED</td>\n",
       "      <td>COIMBATORE</td>\n",
       "      <td>LG ELECTRONICS INDIA PVT.LTD</td>\n",
       "      <td>20181211</td>\n",
       "      <td>TN</td>\n",
       "    </tr>\n",
       "    <tr>\n",
       "      <th>2</th>\n",
       "      <td>52417053</td>\n",
       "      <td>41.0</td>\n",
       "      <td>SALARIED</td>\n",
       "      <td>Male</td>\n",
       "      <td>MARRIED</td>\n",
       "      <td>COIMBATORE</td>\n",
       "      <td>LG ELECTRONICS INDIA PVT.LTD</td>\n",
       "      <td>20180929</td>\n",
       "      <td>TN</td>\n",
       "    </tr>\n",
       "    <tr>\n",
       "      <th>3</th>\n",
       "      <td>40907074</td>\n",
       "      <td>47.0</td>\n",
       "      <td>SELF EMPLOYED</td>\n",
       "      <td>Male</td>\n",
       "      <td>MARRIED</td>\n",
       "      <td>COIMBATORE</td>\n",
       "      <td>LG ELECTRONICS INDIA PVT.LTD</td>\n",
       "      <td>20181031</td>\n",
       "      <td>TN</td>\n",
       "    </tr>\n",
       "    <tr>\n",
       "      <th>4</th>\n",
       "      <td>50100344</td>\n",
       "      <td>37.0</td>\n",
       "      <td>SALARIED</td>\n",
       "      <td>Male</td>\n",
       "      <td>MARRIED</td>\n",
       "      <td>COIMBATORE</td>\n",
       "      <td>LG ELECTRONICS INDIA PVT.LTD</td>\n",
       "      <td>20181116</td>\n",
       "      <td>TN</td>\n",
       "    </tr>\n",
       "  </tbody>\n",
       "</table>\n",
       "</div>"
      ],
      "text/plain": [
       "   customer_id   age          etype gender maritalstatus        city                     manu_name  dis_data State\n",
       "0     65592179  43.0  SELF EMPLOYED   Male       MARRIED  COIMBATORE  LG ELECTRONICS INDIA PVT.LTD  20181130    TN\n",
       "1     40986359  36.0  SELF EMPLOYED   Male       MARRIED  COIMBATORE  LG ELECTRONICS INDIA PVT.LTD  20181211    TN\n",
       "2     52417053  41.0       SALARIED   Male       MARRIED  COIMBATORE  LG ELECTRONICS INDIA PVT.LTD  20180929    TN\n",
       "3     40907074  47.0  SELF EMPLOYED   Male       MARRIED  COIMBATORE  LG ELECTRONICS INDIA PVT.LTD  20181031    TN\n",
       "4     50100344  37.0       SALARIED   Male       MARRIED  COIMBATORE  LG ELECTRONICS INDIA PVT.LTD  20181116    TN"
      ]
     },
     "execution_count": 23,
     "metadata": {},
     "output_type": "execute_result"
    }
   ],
   "source": [
    "df.head()"
   ]
  },
  {
   "cell_type": "code",
   "execution_count": 24,
   "metadata": {},
   "outputs": [
    {
     "data": {
      "text/plain": [
       "(995237, 9)"
      ]
     },
     "execution_count": 24,
     "metadata": {},
     "output_type": "execute_result"
    }
   ],
   "source": [
    "df.shape"
   ]
  },
  {
   "cell_type": "code",
   "execution_count": 25,
   "metadata": {},
   "outputs": [],
   "source": [
    "df = df[df['State'].notnull()]"
   ]
  },
  {
   "cell_type": "code",
   "execution_count": 26,
   "metadata": {},
   "outputs": [
    {
     "data": {
      "text/plain": [
       "(995237, 9)"
      ]
     },
     "execution_count": 26,
     "metadata": {},
     "output_type": "execute_result"
    }
   ],
   "source": [
    "df.shape"
   ]
  },
  {
   "cell_type": "code",
   "execution_count": 27,
   "metadata": {},
   "outputs": [],
   "source": [
    "# Binnig age\n",
    "g = []\n",
    "for elem in range(100):\n",
    "    if elem % 5 == 0:\n",
    "        #print(elem)\n",
    "        g.append(elem)\n",
    "df['AgeRange'] = pd.cut(df['age'], g)"
   ]
  },
  {
   "cell_type": "code",
   "execution_count": 28,
   "metadata": {},
   "outputs": [
    {
     "data": {
      "text/html": [
       "<div>\n",
       "<style scoped>\n",
       "    .dataframe tbody tr th:only-of-type {\n",
       "        vertical-align: middle;\n",
       "    }\n",
       "\n",
       "    .dataframe tbody tr th {\n",
       "        vertical-align: top;\n",
       "    }\n",
       "\n",
       "    .dataframe thead th {\n",
       "        text-align: right;\n",
       "    }\n",
       "</style>\n",
       "<table border=\"1\" class=\"dataframe\">\n",
       "  <thead>\n",
       "    <tr style=\"text-align: right;\">\n",
       "      <th></th>\n",
       "      <th>customer_id</th>\n",
       "      <th>age</th>\n",
       "      <th>etype</th>\n",
       "      <th>gender</th>\n",
       "      <th>maritalstatus</th>\n",
       "      <th>city</th>\n",
       "      <th>manu_name</th>\n",
       "      <th>dis_data</th>\n",
       "      <th>State</th>\n",
       "      <th>AgeRange</th>\n",
       "    </tr>\n",
       "  </thead>\n",
       "  <tbody>\n",
       "    <tr>\n",
       "      <th>0</th>\n",
       "      <td>65592179</td>\n",
       "      <td>43.0</td>\n",
       "      <td>SELF EMPLOYED</td>\n",
       "      <td>Male</td>\n",
       "      <td>MARRIED</td>\n",
       "      <td>COIMBATORE</td>\n",
       "      <td>LG ELECTRONICS INDIA PVT.LTD</td>\n",
       "      <td>20181130</td>\n",
       "      <td>TN</td>\n",
       "      <td>(40, 45]</td>\n",
       "    </tr>\n",
       "    <tr>\n",
       "      <th>1</th>\n",
       "      <td>40986359</td>\n",
       "      <td>36.0</td>\n",
       "      <td>SELF EMPLOYED</td>\n",
       "      <td>Male</td>\n",
       "      <td>MARRIED</td>\n",
       "      <td>COIMBATORE</td>\n",
       "      <td>LG ELECTRONICS INDIA PVT.LTD</td>\n",
       "      <td>20181211</td>\n",
       "      <td>TN</td>\n",
       "      <td>(35, 40]</td>\n",
       "    </tr>\n",
       "    <tr>\n",
       "      <th>2</th>\n",
       "      <td>52417053</td>\n",
       "      <td>41.0</td>\n",
       "      <td>SALARIED</td>\n",
       "      <td>Male</td>\n",
       "      <td>MARRIED</td>\n",
       "      <td>COIMBATORE</td>\n",
       "      <td>LG ELECTRONICS INDIA PVT.LTD</td>\n",
       "      <td>20180929</td>\n",
       "      <td>TN</td>\n",
       "      <td>(40, 45]</td>\n",
       "    </tr>\n",
       "    <tr>\n",
       "      <th>3</th>\n",
       "      <td>40907074</td>\n",
       "      <td>47.0</td>\n",
       "      <td>SELF EMPLOYED</td>\n",
       "      <td>Male</td>\n",
       "      <td>MARRIED</td>\n",
       "      <td>COIMBATORE</td>\n",
       "      <td>LG ELECTRONICS INDIA PVT.LTD</td>\n",
       "      <td>20181031</td>\n",
       "      <td>TN</td>\n",
       "      <td>(45, 50]</td>\n",
       "    </tr>\n",
       "    <tr>\n",
       "      <th>4</th>\n",
       "      <td>50100344</td>\n",
       "      <td>37.0</td>\n",
       "      <td>SALARIED</td>\n",
       "      <td>Male</td>\n",
       "      <td>MARRIED</td>\n",
       "      <td>COIMBATORE</td>\n",
       "      <td>LG ELECTRONICS INDIA PVT.LTD</td>\n",
       "      <td>20181116</td>\n",
       "      <td>TN</td>\n",
       "      <td>(35, 40]</td>\n",
       "    </tr>\n",
       "  </tbody>\n",
       "</table>\n",
       "</div>"
      ],
      "text/plain": [
       "   customer_id   age          etype gender maritalstatus        city                     manu_name  dis_data State  AgeRange\n",
       "0     65592179  43.0  SELF EMPLOYED   Male       MARRIED  COIMBATORE  LG ELECTRONICS INDIA PVT.LTD  20181130    TN  (40, 45]\n",
       "1     40986359  36.0  SELF EMPLOYED   Male       MARRIED  COIMBATORE  LG ELECTRONICS INDIA PVT.LTD  20181211    TN  (35, 40]\n",
       "2     52417053  41.0       SALARIED   Male       MARRIED  COIMBATORE  LG ELECTRONICS INDIA PVT.LTD  20180929    TN  (40, 45]\n",
       "3     40907074  47.0  SELF EMPLOYED   Male       MARRIED  COIMBATORE  LG ELECTRONICS INDIA PVT.LTD  20181031    TN  (45, 50]\n",
       "4     50100344  37.0       SALARIED   Male       MARRIED  COIMBATORE  LG ELECTRONICS INDIA PVT.LTD  20181116    TN  (35, 40]"
      ]
     },
     "execution_count": 28,
     "metadata": {},
     "output_type": "execute_result"
    }
   ],
   "source": [
    "df.head()"
   ]
  },
  {
   "cell_type": "code",
   "execution_count": 29,
   "metadata": {},
   "outputs": [],
   "source": [
    "# from tqdm import tqdm\n",
    "# temp = ''\n",
    "# a = []\n",
    "# for i,row in tqdm(df.iterrows(),total=df.shape[0]):\n",
    "#     temp = str(row['AgeRange'])\n",
    "#     temp = temp.replace('(','')\n",
    "#     temp = temp.split(',')\n",
    "#     a.append(temp[0])\n",
    "# df['age_bin'] = a"
   ]
  },
  {
   "cell_type": "code",
   "execution_count": 30,
   "metadata": {},
   "outputs": [],
   "source": [
    "df['etype'] = df['etype'].replace({'SELF EMPLOYED': 'self_employed', 'Self Employed': 'self_employed', 'SELF EMPLOYED PROFESSIONAL': 'self_employed','Self Employed Professional':'self_employed'})"
   ]
  },
  {
   "cell_type": "code",
   "execution_count": 31,
   "metadata": {},
   "outputs": [],
   "source": [
    "df['etype'] = df['etype'].replace({'SALARIED': 'salaried', 'Salaried': 'salaried', 'SAL': 'salaried'})"
   ]
  },
  {
   "cell_type": "code",
   "execution_count": 32,
   "metadata": {},
   "outputs": [
    {
     "data": {
      "text/plain": [
       "self_employed      860613\n",
       "salaried           134401\n",
       "Not Categorized       206\n",
       "OTHERS                 17\n",
       "Name: etype, dtype: int64"
      ]
     },
     "execution_count": 32,
     "metadata": {},
     "output_type": "execute_result"
    }
   ],
   "source": [
    "df.etype.value_counts()"
   ]
  },
  {
   "cell_type": "code",
   "execution_count": 33,
   "metadata": {},
   "outputs": [
    {
     "data": {
      "text/plain": [
       "MARRIED      876667\n",
       "UNMARRIED    118376\n",
       "DIVORCEE        167\n",
       "WIDOW            27\n",
       "Name: maritalstatus, dtype: int64"
      ]
     },
     "execution_count": 33,
     "metadata": {},
     "output_type": "execute_result"
    }
   ],
   "source": [
    "df.maritalstatus.value_counts()"
   ]
  },
  {
   "cell_type": "code",
   "execution_count": 34,
   "metadata": {},
   "outputs": [],
   "source": [
    "df['age_bin'] = df['AgeRange'].apply(lambda x : x.left)"
   ]
  },
  {
   "cell_type": "code",
   "execution_count": 35,
   "metadata": {},
   "outputs": [],
   "source": [
    "# from tqdm import tqdm\n",
    "# temp = ''\n",
    "# age_list = []\n",
    "# a = []\n",
    "# b = []\n",
    "# c = []\n",
    "# temp = ''\n",
    "# t = ''\n",
    "# s = ''\n",
    "# v = ''\n",
    "# for i,row in tqdm(df.iterrows(),total=df.shape[0]):\n",
    "#     temp = str(row['AgeRange'])\n",
    "#     temp = temp.replace('(','')\n",
    "#     temp = temp.split(',')\n",
    "#     age_list.append(temp[0])\n",
    "    \n",
    "#     # Date mapper\n",
    "#     temp = row['dis_data']\n",
    "#     t = str(temp)[:6]\n",
    "#     s = str(temp)[:4]\n",
    "#     v = str(temp)[4:6]\n",
    "#     a.append(t)\n",
    "#     b.append(s)\n",
    "#     c.append(v)\n",
    "# df['age_bin'] = age_list"
   ]
  },
  {
   "cell_type": "code",
   "execution_count": 36,
   "metadata": {},
   "outputs": [],
   "source": [
    "#yy = df['dis_data'].apply(lambda x : str(x)[:6])\n",
    "df['yyyymm'] = df['dis_data'].apply(lambda x : str(x)[:6])\n",
    "df['yyyy'] = df['dis_data'].apply(lambda x : str(x)[:4])\n",
    "df['mm'] = df['dis_data'].apply(lambda x : str(x)[4:6])"
   ]
  },
  {
   "cell_type": "code",
   "execution_count": 37,
   "metadata": {},
   "outputs": [],
   "source": [
    "#yy[0]"
   ]
  },
  {
   "cell_type": "code",
   "execution_count": 38,
   "metadata": {},
   "outputs": [],
   "source": [
    "# a = []\n",
    "# b = []\n",
    "# c = []\n",
    "# temp = ''\n",
    "# t = ''\n",
    "# s = ''\n",
    "# v = ''\n",
    "# from tqdm import tqdm\n",
    "# for i,row in tqdm(df.iterrows(),total = df.shape[0]):\n",
    "#     temp = row['dis_data']\n",
    "#     t = str(temp)[:6]\n",
    "#     s = str(temp)[:4]\n",
    "#     v = str(temp)[4:6]\n",
    "#     a.append(t)\n",
    "#     b.append(s)\n",
    "#     c.append(v)"
   ]
  },
  {
   "cell_type": "code",
   "execution_count": 39,
   "metadata": {},
   "outputs": [],
   "source": [
    "# df['yyyymm'] = a\n",
    "# df['yyyy'] = b\n",
    "# df['mm'] = c"
   ]
  },
  {
   "cell_type": "code",
   "execution_count": 40,
   "metadata": {},
   "outputs": [],
   "source": [
    "df = df.dropna()"
   ]
  },
  {
   "cell_type": "code",
   "execution_count": 41,
   "metadata": {},
   "outputs": [],
   "source": [
    "# temp = ''\n",
    "# a = []\n",
    "# for i,row in tqdm(df.iterrows(),total=df.shape[0]):\n",
    "#     temp = str(row['AgeRange'])\n",
    "#     temp = temp.replace('(','')\n",
    "#     temp = temp.split(',')\n",
    "#     a.append(temp[0])\n",
    "# df['age_bin'] = a"
   ]
  },
  {
   "cell_type": "code",
   "execution_count": 42,
   "metadata": {},
   "outputs": [],
   "source": [
    "del df['customer_id']\n",
    "del df['city']\n",
    "del df['dis_data']\n",
    "del df['AgeRange']"
   ]
  },
  {
   "cell_type": "code",
   "execution_count": 43,
   "metadata": {},
   "outputs": [
    {
     "data": {
      "text/html": [
       "<div>\n",
       "<style scoped>\n",
       "    .dataframe tbody tr th:only-of-type {\n",
       "        vertical-align: middle;\n",
       "    }\n",
       "\n",
       "    .dataframe tbody tr th {\n",
       "        vertical-align: top;\n",
       "    }\n",
       "\n",
       "    .dataframe thead th {\n",
       "        text-align: right;\n",
       "    }\n",
       "</style>\n",
       "<table border=\"1\" class=\"dataframe\">\n",
       "  <thead>\n",
       "    <tr style=\"text-align: right;\">\n",
       "      <th></th>\n",
       "      <th>age</th>\n",
       "      <th>etype</th>\n",
       "      <th>gender</th>\n",
       "      <th>maritalstatus</th>\n",
       "      <th>manu_name</th>\n",
       "      <th>State</th>\n",
       "      <th>age_bin</th>\n",
       "      <th>yyyymm</th>\n",
       "      <th>yyyy</th>\n",
       "      <th>mm</th>\n",
       "    </tr>\n",
       "  </thead>\n",
       "  <tbody>\n",
       "    <tr>\n",
       "      <th>0</th>\n",
       "      <td>43.0</td>\n",
       "      <td>self_employed</td>\n",
       "      <td>Male</td>\n",
       "      <td>MARRIED</td>\n",
       "      <td>LG ELECTRONICS INDIA PVT.LTD</td>\n",
       "      <td>TN</td>\n",
       "      <td>40</td>\n",
       "      <td>201811</td>\n",
       "      <td>2018</td>\n",
       "      <td>11</td>\n",
       "    </tr>\n",
       "    <tr>\n",
       "      <th>1</th>\n",
       "      <td>36.0</td>\n",
       "      <td>self_employed</td>\n",
       "      <td>Male</td>\n",
       "      <td>MARRIED</td>\n",
       "      <td>LG ELECTRONICS INDIA PVT.LTD</td>\n",
       "      <td>TN</td>\n",
       "      <td>35</td>\n",
       "      <td>201812</td>\n",
       "      <td>2018</td>\n",
       "      <td>12</td>\n",
       "    </tr>\n",
       "    <tr>\n",
       "      <th>2</th>\n",
       "      <td>41.0</td>\n",
       "      <td>salaried</td>\n",
       "      <td>Male</td>\n",
       "      <td>MARRIED</td>\n",
       "      <td>LG ELECTRONICS INDIA PVT.LTD</td>\n",
       "      <td>TN</td>\n",
       "      <td>40</td>\n",
       "      <td>201809</td>\n",
       "      <td>2018</td>\n",
       "      <td>09</td>\n",
       "    </tr>\n",
       "    <tr>\n",
       "      <th>3</th>\n",
       "      <td>47.0</td>\n",
       "      <td>self_employed</td>\n",
       "      <td>Male</td>\n",
       "      <td>MARRIED</td>\n",
       "      <td>LG ELECTRONICS INDIA PVT.LTD</td>\n",
       "      <td>TN</td>\n",
       "      <td>45</td>\n",
       "      <td>201810</td>\n",
       "      <td>2018</td>\n",
       "      <td>10</td>\n",
       "    </tr>\n",
       "    <tr>\n",
       "      <th>4</th>\n",
       "      <td>37.0</td>\n",
       "      <td>salaried</td>\n",
       "      <td>Male</td>\n",
       "      <td>MARRIED</td>\n",
       "      <td>LG ELECTRONICS INDIA PVT.LTD</td>\n",
       "      <td>TN</td>\n",
       "      <td>35</td>\n",
       "      <td>201811</td>\n",
       "      <td>2018</td>\n",
       "      <td>11</td>\n",
       "    </tr>\n",
       "  </tbody>\n",
       "</table>\n",
       "</div>"
      ],
      "text/plain": [
       "    age          etype gender maritalstatus                     manu_name State age_bin  yyyymm  yyyy  mm\n",
       "0  43.0  self_employed   Male       MARRIED  LG ELECTRONICS INDIA PVT.LTD    TN      40  201811  2018  11\n",
       "1  36.0  self_employed   Male       MARRIED  LG ELECTRONICS INDIA PVT.LTD    TN      35  201812  2018  12\n",
       "2  41.0       salaried   Male       MARRIED  LG ELECTRONICS INDIA PVT.LTD    TN      40  201809  2018  09\n",
       "3  47.0  self_employed   Male       MARRIED  LG ELECTRONICS INDIA PVT.LTD    TN      45  201810  2018  10\n",
       "4  37.0       salaried   Male       MARRIED  LG ELECTRONICS INDIA PVT.LTD    TN      35  201811  2018  11"
      ]
     },
     "execution_count": 43,
     "metadata": {},
     "output_type": "execute_result"
    }
   ],
   "source": [
    "df.head()"
   ]
  },
  {
   "cell_type": "code",
   "execution_count": 44,
   "metadata": {},
   "outputs": [],
   "source": [
    "df1 = df.manu_name.value_counts().to_frame().reset_index()"
   ]
  },
  {
   "cell_type": "code",
   "execution_count": 45,
   "metadata": {},
   "outputs": [],
   "source": [
    "df1.columns = ['brand','count']\n",
    "df1 = df1.drop(df1[(df1['brand'] == 'LOCAL MANUFACTURERS')].index)"
   ]
  },
  {
   "cell_type": "code",
   "execution_count": 46,
   "metadata": {},
   "outputs": [
    {
     "data": {
      "text/html": [
       "<div>\n",
       "<style scoped>\n",
       "    .dataframe tbody tr th:only-of-type {\n",
       "        vertical-align: middle;\n",
       "    }\n",
       "\n",
       "    .dataframe tbody tr th {\n",
       "        vertical-align: top;\n",
       "    }\n",
       "\n",
       "    .dataframe thead th {\n",
       "        text-align: right;\n",
       "    }\n",
       "</style>\n",
       "<table border=\"1\" class=\"dataframe\">\n",
       "  <thead>\n",
       "    <tr style=\"text-align: right;\">\n",
       "      <th></th>\n",
       "      <th>brand</th>\n",
       "      <th>count</th>\n",
       "    </tr>\n",
       "  </thead>\n",
       "  <tbody>\n",
       "    <tr>\n",
       "      <th>0</th>\n",
       "      <td>SONY INDIA LIMITED</td>\n",
       "      <td>258420</td>\n",
       "    </tr>\n",
       "    <tr>\n",
       "      <th>1</th>\n",
       "      <td>LG ELECTRONICS INDIA PVT.LTD</td>\n",
       "      <td>231898</td>\n",
       "    </tr>\n",
       "    <tr>\n",
       "      <th>2</th>\n",
       "      <td>SAMSUNG ELECTRONICS INDIA LIMITED</td>\n",
       "      <td>213826</td>\n",
       "    </tr>\n",
       "    <tr>\n",
       "      <th>3</th>\n",
       "      <td>PANASONIC INDIA LIMITED</td>\n",
       "      <td>109863</td>\n",
       "    </tr>\n",
       "    <tr>\n",
       "      <th>4</th>\n",
       "      <td>LLOYD ELECTRIC &amp; ENGINEERING LIMITED(LEEL)</td>\n",
       "      <td>30725</td>\n",
       "    </tr>\n",
       "    <tr>\n",
       "      <th>5</th>\n",
       "      <td>HAIER APPLIANCES (INDIA) P.LIMITED</td>\n",
       "      <td>29433</td>\n",
       "    </tr>\n",
       "    <tr>\n",
       "      <th>6</th>\n",
       "      <td>INTEX</td>\n",
       "      <td>18484</td>\n",
       "    </tr>\n",
       "    <tr>\n",
       "      <th>7</th>\n",
       "      <td>MIRC ELECTRONICS LIMITED(ONIDA)</td>\n",
       "      <td>17359</td>\n",
       "    </tr>\n",
       "    <tr>\n",
       "      <th>9</th>\n",
       "      <td>RECONNECT</td>\n",
       "      <td>10174</td>\n",
       "    </tr>\n",
       "    <tr>\n",
       "      <th>10</th>\n",
       "      <td>MICROMAX LTD</td>\n",
       "      <td>8055</td>\n",
       "    </tr>\n",
       "  </tbody>\n",
       "</table>\n",
       "</div>"
      ],
      "text/plain": [
       "                                         brand   count\n",
       "0                           SONY INDIA LIMITED  258420\n",
       "1                 LG ELECTRONICS INDIA PVT.LTD  231898\n",
       "2            SAMSUNG ELECTRONICS INDIA LIMITED  213826\n",
       "3                      PANASONIC INDIA LIMITED  109863\n",
       "4   LLOYD ELECTRIC & ENGINEERING LIMITED(LEEL)   30725\n",
       "5           HAIER APPLIANCES (INDIA) P.LIMITED   29433\n",
       "6                                        INTEX   18484\n",
       "7              MIRC ELECTRONICS LIMITED(ONIDA)   17359\n",
       "9                                    RECONNECT   10174\n",
       "10                                MICROMAX LTD    8055"
      ]
     },
     "execution_count": 46,
     "metadata": {},
     "output_type": "execute_result"
    }
   ],
   "source": [
    "df1.head(10)"
   ]
  },
  {
   "cell_type": "code",
   "execution_count": 47,
   "metadata": {},
   "outputs": [],
   "source": [
    "df = df.drop(df[(df['manu_name'] == 'LOCAL MANUFACTURERS')].index)"
   ]
  },
  {
   "cell_type": "code",
   "execution_count": 48,
   "metadata": {
    "scrolled": true
   },
   "outputs": [
    {
     "data": {
      "text/plain": [
       "SONY INDIA LIMITED                            258420\n",
       "LG ELECTRONICS INDIA PVT.LTD                  231898\n",
       "SAMSUNG ELECTRONICS INDIA LIMITED             213826\n",
       "PANASONIC INDIA LIMITED                       109863\n",
       "LLOYD ELECTRIC & ENGINEERING LIMITED(LEEL)     30725\n",
       "HAIER APPLIANCES (INDIA) P.LIMITED             29433\n",
       "INTEX                                          18484\n",
       "MIRC ELECTRONICS LIMITED(ONIDA)                17359\n",
       "RECONNECT                                      10174\n",
       "MICROMAX LTD                                    8055\n",
       "VIDEOCON                                        7637\n",
       "CROMA                                           7037\n",
       "SKYWORTH                                        6292\n",
       "MITASHI EDUTAINMENT PVT LTD                     4956\n",
       "VISE                                            4229\n",
       "VU ELECTRONICS                                  4191\n",
       "SHARP INDIA LIMITED                             3589\n",
       "KCM APPLIANCES PVT LTD                          2817\n",
       "AKAI CONSUMER ELECT INDIA LTD.                  2392\n",
       "KORYO                                           1753\n",
       "SANSUI                                          1688\n",
       "TCL                                             1262\n",
       "PHILIPS INDIA LIMITED                            951\n",
       "TRUVISON INDUSTRIES PVT LTD                      848\n",
       "VISHAL VIDEO & APPLIANCS PVT LTD AISEN           536\n",
       "WESTWAY ELECTRONIC LIMITED                       493\n",
       "ABAJ ELECTRONICS PVT LTD                         454\n",
       "HYUNDAI ELECTRONICS INDIA LIMITED                233\n",
       "VESTAR                                           168\n",
       "FENDA AUDIO INDIA PVT LTD                        155\n",
       "AGE INDIA                                        151\n",
       "QFX                                               96\n",
       "PANORAMA ELECT PVT LTD                            79\n",
       "YARA ELECTRONIC                                   72\n",
       "VIDEOTEX INTERNATIONAL PVT LTD                    66\n",
       "BOSSH TECHNOLOGY INDIA LTD                        61\n",
       "OSCAR                                             59\n",
       "TSERIES                                           55\n",
       "AOC                                               46\n",
       "VEIRA ELECTRONICS PVT LTD                         45\n",
       "FUTURE TECH ELECTRONICS PRIVATE LIMITED           39\n",
       "CONSISTENT INFOSYSTEMS PVT LTD                    38\n",
       "HITACHI INDIA PVT. LTD                            25\n",
       "INFINITI RETAIL LIMITED                           18\n",
       "HYUNDAI NEW                                       17\n",
       "KODAK                                             13\n",
       "WESTON                                             9\n",
       "INTEC                                              9\n",
       "OG HEAVY DUTY                                      8\n",
       "HIGHTRON ELECTRONIC PVT LTD                        8\n",
       "MYTRON                                             6\n",
       "DREAM CARE                                         6\n",
       "LYF                                                5\n",
       "MEPL ELECTRONICS                                   4\n",
       "VKS GLOBAL ELECTRONICS PRIVATE LIMITED             2\n",
       "BPL LIMITED                                        2\n",
       "CROWN                                              1\n",
       "ZEBRONICS                                          1\n",
       "SONIQ                                              1\n",
       "ARISE INDIA LTD                                    1\n",
       "Name: manu_name, dtype: int64"
      ]
     },
     "execution_count": 48,
     "metadata": {},
     "output_type": "execute_result"
    }
   ],
   "source": [
    "df.manu_name.value_counts()"
   ]
  },
  {
   "cell_type": "markdown",
   "metadata": {},
   "source": [
    "# Speed Bump ; check the class"
   ]
  },
  {
   "cell_type": "code",
   "execution_count": 49,
   "metadata": {},
   "outputs": [],
   "source": [
    "top_7 = df1.iloc[:7].brand.tolist()\n",
    "df= df.drop(df[(df['manu_name'] != top_7[0]) & (df['manu_name'] != top_7[1]) & (df['manu_name'] != top_7[2]) & (df['manu_name'] != top_7[3]) & (df['manu_name'] != top_7[4]) & (df['manu_name'] != top_7[5]) & (df['manu_name'] != top_7[6])].index)"
   ]
  },
  {
   "cell_type": "code",
   "execution_count": 48,
   "metadata": {},
   "outputs": [],
   "source": [
    "#top_18 = df1.iloc[:18].brand.tolist()\n",
    "\n",
    "#df= df.drop(df[(df['manu_name'] != top_18[3]) & (df['manu_name'] != top_18[4]) & (df['manu_name'] != top_18[5]) & (df['manu_name'] != top_18[6]) & (df['manu_name'] != top_18[7]) & (df['manu_name'] != top_18[8]) & (df['manu_name'] != top_18[9]) & (df['manu_name'] != top_18[10]) & (df['manu_name'] != top_18[11]) & (df['manu_name'] != top_18[12]) & (df['manu_name'] != top_18[13]) & (df['manu_name'] != top_18[14]) & (df['manu_name'] != top_18[15]) & (df['manu_name'] != top_18[16]) & (df['manu_name'] != top_18[17])].index)"
   ]
  },
  {
   "cell_type": "code",
   "execution_count": 50,
   "metadata": {},
   "outputs": [
    {
     "data": {
      "text/plain": [
       "array(['LG ELECTRONICS INDIA PVT.LTD',\n",
       "       'LLOYD ELECTRIC & ENGINEERING LIMITED(LEEL)', 'SONY INDIA LIMITED',\n",
       "       'PANASONIC INDIA LIMITED', 'INTEX',\n",
       "       'SAMSUNG ELECTRONICS INDIA LIMITED',\n",
       "       'HAIER APPLIANCES (INDIA) P.LIMITED'], dtype=object)"
      ]
     },
     "execution_count": 50,
     "metadata": {},
     "output_type": "execute_result"
    }
   ],
   "source": [
    "df.manu_name.unique()"
   ]
  },
  {
   "cell_type": "code",
   "execution_count": 51,
   "metadata": {},
   "outputs": [
    {
     "data": {
      "text/html": [
       "<div>\n",
       "<style scoped>\n",
       "    .dataframe tbody tr th:only-of-type {\n",
       "        vertical-align: middle;\n",
       "    }\n",
       "\n",
       "    .dataframe tbody tr th {\n",
       "        vertical-align: top;\n",
       "    }\n",
       "\n",
       "    .dataframe thead th {\n",
       "        text-align: right;\n",
       "    }\n",
       "</style>\n",
       "<table border=\"1\" class=\"dataframe\">\n",
       "  <thead>\n",
       "    <tr style=\"text-align: right;\">\n",
       "      <th></th>\n",
       "      <th>age</th>\n",
       "      <th>etype</th>\n",
       "      <th>gender</th>\n",
       "      <th>maritalstatus</th>\n",
       "      <th>manu_name</th>\n",
       "      <th>State</th>\n",
       "      <th>age_bin</th>\n",
       "      <th>yyyymm</th>\n",
       "      <th>yyyy</th>\n",
       "      <th>mm</th>\n",
       "    </tr>\n",
       "  </thead>\n",
       "  <tbody>\n",
       "    <tr>\n",
       "      <th>0</th>\n",
       "      <td>43.0</td>\n",
       "      <td>self_employed</td>\n",
       "      <td>Male</td>\n",
       "      <td>MARRIED</td>\n",
       "      <td>LG ELECTRONICS INDIA PVT.LTD</td>\n",
       "      <td>TN</td>\n",
       "      <td>40</td>\n",
       "      <td>201811</td>\n",
       "      <td>2018</td>\n",
       "      <td>11</td>\n",
       "    </tr>\n",
       "  </tbody>\n",
       "</table>\n",
       "</div>"
      ],
      "text/plain": [
       "    age          etype gender maritalstatus                     manu_name State age_bin  yyyymm  yyyy  mm\n",
       "0  43.0  self_employed   Male       MARRIED  LG ELECTRONICS INDIA PVT.LTD    TN      40  201811  2018  11"
      ]
     },
     "execution_count": 51,
     "metadata": {},
     "output_type": "execute_result"
    }
   ],
   "source": [
    "df.head(1)"
   ]
  },
  {
   "cell_type": "code",
   "execution_count": 52,
   "metadata": {},
   "outputs": [
    {
     "data": {
      "text/plain": [
       "SONY INDIA LIMITED                            258420\n",
       "LG ELECTRONICS INDIA PVT.LTD                  231898\n",
       "SAMSUNG ELECTRONICS INDIA LIMITED             213826\n",
       "PANASONIC INDIA LIMITED                       109863\n",
       "LLOYD ELECTRIC & ENGINEERING LIMITED(LEEL)     30725\n",
       "HAIER APPLIANCES (INDIA) P.LIMITED             29433\n",
       "INTEX                                          18484\n",
       "Name: manu_name, dtype: int64"
      ]
     },
     "execution_count": 52,
     "metadata": {},
     "output_type": "execute_result"
    }
   ],
   "source": [
    "df.manu_name.value_counts()"
   ]
  },
  {
   "cell_type": "code",
   "execution_count": 53,
   "metadata": {},
   "outputs": [],
   "source": [
    "from sklearn import preprocessing"
   ]
  },
  {
   "cell_type": "code",
   "execution_count": 54,
   "metadata": {},
   "outputs": [],
   "source": [
    "le = preprocessing.LabelEncoder()"
   ]
  },
  {
   "cell_type": "code",
   "execution_count": 55,
   "metadata": {},
   "outputs": [
    {
     "data": {
      "text/plain": [
       "LabelEncoder()"
      ]
     },
     "execution_count": 55,
     "metadata": {},
     "output_type": "execute_result"
    }
   ],
   "source": [
    "le.fit(df.manu_name.unique())"
   ]
  },
  {
   "cell_type": "code",
   "execution_count": 56,
   "metadata": {},
   "outputs": [
    {
     "data": {
      "text/plain": [
       "array(['HAIER APPLIANCES (INDIA) P.LIMITED', 'INTEX',\n",
       "       'LG ELECTRONICS INDIA PVT.LTD',\n",
       "       'LLOYD ELECTRIC & ENGINEERING LIMITED(LEEL)',\n",
       "       'PANASONIC INDIA LIMITED', 'SAMSUNG ELECTRONICS INDIA LIMITED',\n",
       "       'SONY INDIA LIMITED'], dtype=object)"
      ]
     },
     "execution_count": 56,
     "metadata": {},
     "output_type": "execute_result"
    }
   ],
   "source": [
    "le.classes_"
   ]
  },
  {
   "cell_type": "code",
   "execution_count": 57,
   "metadata": {},
   "outputs": [],
   "source": [
    "df['label'] = le.transform(df.manu_name)"
   ]
  },
  {
   "cell_type": "code",
   "execution_count": 58,
   "metadata": {},
   "outputs": [
    {
     "data": {
      "text/plain": [
       "6    258420\n",
       "2    231898\n",
       "5    213826\n",
       "4    109863\n",
       "3     30725\n",
       "0     29433\n",
       "1     18484\n",
       "Name: label, dtype: int64"
      ]
     },
     "execution_count": 58,
     "metadata": {},
     "output_type": "execute_result"
    }
   ],
   "source": [
    "df.label.value_counts()"
   ]
  },
  {
   "cell_type": "code",
   "execution_count": 59,
   "metadata": {},
   "outputs": [
    {
     "data": {
      "text/html": [
       "<div>\n",
       "<style scoped>\n",
       "    .dataframe tbody tr th:only-of-type {\n",
       "        vertical-align: middle;\n",
       "    }\n",
       "\n",
       "    .dataframe tbody tr th {\n",
       "        vertical-align: top;\n",
       "    }\n",
       "\n",
       "    .dataframe thead th {\n",
       "        text-align: right;\n",
       "    }\n",
       "</style>\n",
       "<table border=\"1\" class=\"dataframe\">\n",
       "  <thead>\n",
       "    <tr style=\"text-align: right;\">\n",
       "      <th></th>\n",
       "      <th>age</th>\n",
       "      <th>etype</th>\n",
       "      <th>gender</th>\n",
       "      <th>maritalstatus</th>\n",
       "      <th>manu_name</th>\n",
       "      <th>State</th>\n",
       "      <th>age_bin</th>\n",
       "      <th>yyyymm</th>\n",
       "      <th>yyyy</th>\n",
       "      <th>mm</th>\n",
       "      <th>label</th>\n",
       "    </tr>\n",
       "  </thead>\n",
       "  <tbody>\n",
       "    <tr>\n",
       "      <th>0</th>\n",
       "      <td>43.0</td>\n",
       "      <td>self_employed</td>\n",
       "      <td>Male</td>\n",
       "      <td>MARRIED</td>\n",
       "      <td>LG ELECTRONICS INDIA PVT.LTD</td>\n",
       "      <td>TN</td>\n",
       "      <td>40</td>\n",
       "      <td>201811</td>\n",
       "      <td>2018</td>\n",
       "      <td>11</td>\n",
       "      <td>2</td>\n",
       "    </tr>\n",
       "  </tbody>\n",
       "</table>\n",
       "</div>"
      ],
      "text/plain": [
       "    age          etype gender maritalstatus                     manu_name State age_bin  yyyymm  yyyy  mm  label\n",
       "0  43.0  self_employed   Male       MARRIED  LG ELECTRONICS INDIA PVT.LTD    TN      40  201811  2018  11      2"
      ]
     },
     "execution_count": 59,
     "metadata": {},
     "output_type": "execute_result"
    }
   ],
   "source": [
    "df.head(1)"
   ]
  },
  {
   "cell_type": "code",
   "execution_count": 60,
   "metadata": {},
   "outputs": [],
   "source": [
    "del df['manu_name']"
   ]
  },
  {
   "cell_type": "code",
   "execution_count": 61,
   "metadata": {},
   "outputs": [
    {
     "data": {
      "text/plain": [
       "'hello'"
      ]
     },
     "execution_count": 61,
     "metadata": {},
     "output_type": "execute_result"
    }
   ],
   "source": [
    "'hello'"
   ]
  },
  {
   "cell_type": "code",
   "execution_count": 62,
   "metadata": {},
   "outputs": [],
   "source": [
    "del joined"
   ]
  },
  {
   "cell_type": "code",
   "execution_count": null,
   "metadata": {},
   "outputs": [],
   "source": []
  },
  {
   "cell_type": "code",
   "execution_count": null,
   "metadata": {},
   "outputs": [],
   "source": []
  },
  {
   "cell_type": "markdown",
   "metadata": {},
   "source": [
    "# Preprocessing done, Model wrangling starts"
   ]
  },
  {
   "cell_type": "code",
   "execution_count": 63,
   "metadata": {},
   "outputs": [],
   "source": [
    "from sklearn.preprocessing import OneHotEncoder\n",
    "from sklearn.model_selection import train_test_split\n",
    "from sklearn.metrics import accuracy_score\n",
    "from sklearn.model_selection import train_test_split"
   ]
  },
  {
   "cell_type": "code",
   "execution_count": 64,
   "metadata": {},
   "outputs": [],
   "source": [
    "one_hot = pd.get_dummies(df['etype'])\n",
    "df = df.drop('etype',axis = 1)\n",
    "df = df.join(one_hot)\n",
    "\n",
    "one_hot = pd.get_dummies(df['gender'])\n",
    "df = df.drop('gender',axis = 1)\n",
    "df = df.join(one_hot)\n",
    "\n",
    "one_hot = pd.get_dummies(df['maritalstatus'])\n",
    "df = df.drop('maritalstatus',axis = 1)\n",
    "df = df.join(one_hot)\n",
    "\n",
    "one_hot = pd.get_dummies(df['State'])\n",
    "df = df.drop('State',axis = 1)\n",
    "df = df.join(one_hot)"
   ]
  },
  {
   "cell_type": "code",
   "execution_count": 64,
   "metadata": {},
   "outputs": [],
   "source": [
    "# waiting"
   ]
  },
  {
   "cell_type": "code",
   "execution_count": 65,
   "metadata": {},
   "outputs": [],
   "source": [
    "#df.head()"
   ]
  },
  {
   "cell_type": "code",
   "execution_count": 65,
   "metadata": {},
   "outputs": [
    {
     "data": {
      "text/plain": [
       "(892649, 33)"
      ]
     },
     "execution_count": 65,
     "metadata": {},
     "output_type": "execute_result"
    }
   ],
   "source": [
    "df.shape"
   ]
  },
  {
   "cell_type": "code",
   "execution_count": 66,
   "metadata": {
    "scrolled": true
   },
   "outputs": [],
   "source": [
    "#df.dtypes"
   ]
  },
  {
   "cell_type": "code",
   "execution_count": 67,
   "metadata": {},
   "outputs": [],
   "source": [
    "y = df.label.tolist()\n",
    "del df['label']\n",
    "X = df.copy()"
   ]
  },
  {
   "cell_type": "code",
   "execution_count": 68,
   "metadata": {},
   "outputs": [],
   "source": [
    "X = X.values\n",
    "y = y"
   ]
  },
  {
   "cell_type": "code",
   "execution_count": 71,
   "metadata": {},
   "outputs": [
    {
     "data": {
      "text/plain": [
       "(892649, 892649)"
      ]
     },
     "execution_count": 71,
     "metadata": {},
     "output_type": "execute_result"
    }
   ],
   "source": [
    "len(X),len(y)"
   ]
  },
  {
   "cell_type": "code",
   "execution_count": 72,
   "metadata": {},
   "outputs": [],
   "source": [
    "X_train,X_test,y_train,y_test = train_test_split(X,y,test_size=0.2,random_state=42)"
   ]
  },
  {
   "cell_type": "code",
   "execution_count": 73,
   "metadata": {},
   "outputs": [
    {
     "data": {
      "text/plain": [
       "(714119, 178530, 714119, 178530)"
      ]
     },
     "execution_count": 73,
     "metadata": {},
     "output_type": "execute_result"
    }
   ],
   "source": [
    "len(X_train),len(X_test),len(y_train),len(y_test)"
   ]
  },
  {
   "cell_type": "code",
   "execution_count": null,
   "metadata": {},
   "outputs": [],
   "source": []
  },
  {
   "cell_type": "code",
   "execution_count": null,
   "metadata": {},
   "outputs": [],
   "source": []
  },
  {
   "cell_type": "code",
   "execution_count": 74,
   "metadata": {},
   "outputs": [
    {
     "name": "stderr",
     "output_type": "stream",
     "text": [
      "/home/ion/.local/lib/python3.6/site-packages/sklearn/ensemble/forest.py:246: FutureWarning: The default value of n_estimators will change from 10 in version 0.20 to 100 in 0.22.\n",
      "  \"10 in version 0.20 to 100 in 0.22.\", FutureWarning)\n",
      "[Parallel(n_jobs=4)]: Using backend ThreadingBackend with 4 concurrent workers.\n",
      "[Parallel(n_jobs=4)]: Done  10 out of  10 | elapsed:    7.7s finished\n"
     ]
    },
    {
     "data": {
      "text/plain": [
       "RandomForestClassifier(bootstrap=True, class_weight=None, criterion='gini',\n",
       "            max_depth=None, max_features='auto', max_leaf_nodes=None,\n",
       "            min_impurity_decrease=0.0, min_impurity_split=None,\n",
       "            min_samples_leaf=1, min_samples_split=2,\n",
       "            min_weight_fraction_leaf=0.0, n_estimators=10, n_jobs=4,\n",
       "            oob_score=False, random_state=None, verbose=1,\n",
       "            warm_start=False)"
      ]
     },
     "execution_count": 74,
     "metadata": {},
     "output_type": "execute_result"
    }
   ],
   "source": [
    "from sklearn.ensemble import RandomForestClassifier\n",
    "clf = RandomForestClassifier(verbose=1,n_jobs=4)\n",
    "clf.fit(X_train,y_train)"
   ]
  },
  {
   "cell_type": "code",
   "execution_count": 75,
   "metadata": {},
   "outputs": [
    {
     "name": "stderr",
     "output_type": "stream",
     "text": [
      "[Parallel(n_jobs=4)]: Using backend ThreadingBackend with 4 concurrent workers.\n",
      "[Parallel(n_jobs=4)]: Done  10 out of  10 | elapsed:    0.3s finished\n"
     ]
    },
    {
     "data": {
      "text/plain": [
       "0.2849044978434997"
      ]
     },
     "execution_count": 75,
     "metadata": {},
     "output_type": "execute_result"
    }
   ],
   "source": [
    "y_pred = clf.predict(X_test)\n",
    "accuracy_score(y_test, y_pred)"
   ]
  },
  {
   "cell_type": "code",
   "execution_count": 76,
   "metadata": {},
   "outputs": [
    {
     "name": "stderr",
     "output_type": "stream",
     "text": [
      "[Parallel(n_jobs=4)]: Using backend ThreadingBackend with 4 concurrent workers.\n",
      "[Parallel(n_jobs=4)]: Done  10 out of  10 | elapsed:    0.3s finished\n"
     ]
    }
   ],
   "source": [
    "y_prob = clf.predict_proba(X_test)"
   ]
  },
  {
   "cell_type": "code",
   "execution_count": null,
   "metadata": {},
   "outputs": [],
   "source": []
  },
  {
   "cell_type": "code",
   "execution_count": null,
   "metadata": {},
   "outputs": [],
   "source": []
  },
  {
   "cell_type": "code",
   "execution_count": 77,
   "metadata": {},
   "outputs": [],
   "source": [
    "OP_df_test_data = pd.DataFrame(columns = ['y_test','y_pred'])\n",
    "OP_df_test_data['y_test'] = y_test\n",
    "OP_df_test_data['y_pred'] = y_pred\n",
    "OP_df_test_data['true_label'] = le.inverse_transform(OP_df_test_data.y_test)\n",
    "OP_df_test_data['pred_label'] = le.inverse_transform(OP_df_test_data.y_pred)\n",
    "\n",
    "tt = []\n",
    "top_3_probs = []\n",
    "prob1 = []\n",
    "prob2 = []\n",
    "prob3 = []\n",
    "for v in range(len(y_prob)):\n",
    "    ec = []\n",
    "    top_3_idx = np.argsort(y_prob[v])[-3:]\n",
    "    ec = list(top_3_idx)\n",
    "    tt.append(ec)\n",
    "    prob1.append(y_prob[v][ec[2]])\n",
    "    prob2.append(y_prob[v][ec[1]])\n",
    "    prob3.append(y_prob[v][ec[0]])\n",
    "    \n",
    "\n",
    "# c = 0\n",
    "# e = []\n",
    "# for vv in range(len(tt)):\n",
    "#     e = tt[vv]\n",
    "#     for i in range(3):\n",
    "#         if e[i] == y_test[vv]:\n",
    "#             c += 1\n",
    "#             break\n",
    "\n",
    "OP_df_test_data['Reco_3_label'],OP_df_test_data['Reco_2_label'],OP_df_test_data['Reco_1_label'] = np.array(tt).T\n",
    "\n",
    "OP_df_test_data['Reco_1'] = le.inverse_transform(OP_df_test_data['Reco_1_label'].values)\n",
    "OP_df_test_data['Reco_2'] = le.inverse_transform(OP_df_test_data['Reco_2_label'].values)\n",
    "OP_df_test_data['Reco_3'] = le.inverse_transform(OP_df_test_data['Reco_3_label'].values)\n",
    "\n",
    "OP_df_test_data['Prob_1'] = prob1\n",
    "OP_df_test_data['Prob_2'] = prob2\n",
    "OP_df_test_data['Prob_3'] = prob3\n",
    "# del df_preds['Reco_1_label']\n",
    "# del df_preds['Reco_2_label']\n",
    "# del df_preds['Reco_3_label']\n",
    "\n",
    "#df_preds.to_csv('Reco_final_list.csv',index=None)"
   ]
  },
  {
   "cell_type": "code",
   "execution_count": 79,
   "metadata": {},
   "outputs": [
    {
     "data": {
      "text/html": [
       "<div>\n",
       "<style scoped>\n",
       "    .dataframe tbody tr th:only-of-type {\n",
       "        vertical-align: middle;\n",
       "    }\n",
       "\n",
       "    .dataframe tbody tr th {\n",
       "        vertical-align: top;\n",
       "    }\n",
       "\n",
       "    .dataframe thead th {\n",
       "        text-align: right;\n",
       "    }\n",
       "</style>\n",
       "<table border=\"1\" class=\"dataframe\">\n",
       "  <thead>\n",
       "    <tr style=\"text-align: right;\">\n",
       "      <th></th>\n",
       "      <th>y_test</th>\n",
       "      <th>y_pred</th>\n",
       "      <th>true_label</th>\n",
       "      <th>pred_label</th>\n",
       "      <th>Reco_3_label</th>\n",
       "      <th>Reco_2_label</th>\n",
       "      <th>Reco_1_label</th>\n",
       "      <th>Reco_1</th>\n",
       "      <th>Reco_2</th>\n",
       "      <th>Reco_3</th>\n",
       "      <th>Prob_1</th>\n",
       "      <th>Prob_2</th>\n",
       "      <th>Prob_3</th>\n",
       "    </tr>\n",
       "  </thead>\n",
       "  <tbody>\n",
       "    <tr>\n",
       "      <th>0</th>\n",
       "      <td>2</td>\n",
       "      <td>2</td>\n",
       "      <td>LG ELECTRONICS INDIA PVT.LTD</td>\n",
       "      <td>LG ELECTRONICS INDIA PVT.LTD</td>\n",
       "      <td>5</td>\n",
       "      <td>6</td>\n",
       "      <td>2</td>\n",
       "      <td>LG ELECTRONICS INDIA PVT.LTD</td>\n",
       "      <td>SONY INDIA LIMITED</td>\n",
       "      <td>SAMSUNG ELECTRONICS INDIA LIMITED</td>\n",
       "      <td>0.294642</td>\n",
       "      <td>0.265658</td>\n",
       "      <td>0.245895</td>\n",
       "    </tr>\n",
       "    <tr>\n",
       "      <th>1</th>\n",
       "      <td>0</td>\n",
       "      <td>2</td>\n",
       "      <td>HAIER APPLIANCES (INDIA) P.LIMITED</td>\n",
       "      <td>LG ELECTRONICS INDIA PVT.LTD</td>\n",
       "      <td>5</td>\n",
       "      <td>4</td>\n",
       "      <td>2</td>\n",
       "      <td>LG ELECTRONICS INDIA PVT.LTD</td>\n",
       "      <td>PANASONIC INDIA LIMITED</td>\n",
       "      <td>SAMSUNG ELECTRONICS INDIA LIMITED</td>\n",
       "      <td>0.249577</td>\n",
       "      <td>0.247804</td>\n",
       "      <td>0.198699</td>\n",
       "    </tr>\n",
       "    <tr>\n",
       "      <th>2</th>\n",
       "      <td>4</td>\n",
       "      <td>6</td>\n",
       "      <td>PANASONIC INDIA LIMITED</td>\n",
       "      <td>SONY INDIA LIMITED</td>\n",
       "      <td>2</td>\n",
       "      <td>5</td>\n",
       "      <td>6</td>\n",
       "      <td>SONY INDIA LIMITED</td>\n",
       "      <td>SAMSUNG ELECTRONICS INDIA LIMITED</td>\n",
       "      <td>LG ELECTRONICS INDIA PVT.LTD</td>\n",
       "      <td>0.222439</td>\n",
       "      <td>0.221208</td>\n",
       "      <td>0.205869</td>\n",
       "    </tr>\n",
       "    <tr>\n",
       "      <th>3</th>\n",
       "      <td>1</td>\n",
       "      <td>6</td>\n",
       "      <td>INTEX</td>\n",
       "      <td>SONY INDIA LIMITED</td>\n",
       "      <td>0</td>\n",
       "      <td>2</td>\n",
       "      <td>6</td>\n",
       "      <td>SONY INDIA LIMITED</td>\n",
       "      <td>LG ELECTRONICS INDIA PVT.LTD</td>\n",
       "      <td>HAIER APPLIANCES (INDIA) P.LIMITED</td>\n",
       "      <td>0.337445</td>\n",
       "      <td>0.299231</td>\n",
       "      <td>0.118031</td>\n",
       "    </tr>\n",
       "    <tr>\n",
       "      <th>4</th>\n",
       "      <td>2</td>\n",
       "      <td>6</td>\n",
       "      <td>LG ELECTRONICS INDIA PVT.LTD</td>\n",
       "      <td>SONY INDIA LIMITED</td>\n",
       "      <td>2</td>\n",
       "      <td>5</td>\n",
       "      <td>6</td>\n",
       "      <td>SONY INDIA LIMITED</td>\n",
       "      <td>SAMSUNG ELECTRONICS INDIA LIMITED</td>\n",
       "      <td>LG ELECTRONICS INDIA PVT.LTD</td>\n",
       "      <td>0.314587</td>\n",
       "      <td>0.309261</td>\n",
       "      <td>0.267490</td>\n",
       "    </tr>\n",
       "  </tbody>\n",
       "</table>\n",
       "</div>"
      ],
      "text/plain": [
       "   y_test  y_pred                          true_label                    pred_label  Reco_3_label  Reco_2_label  Reco_1_label                        Reco_1                             Reco_2                              Reco_3    Prob_1    Prob_2    Prob_3\n",
       "0       2       2        LG ELECTRONICS INDIA PVT.LTD  LG ELECTRONICS INDIA PVT.LTD             5             6             2  LG ELECTRONICS INDIA PVT.LTD                 SONY INDIA LIMITED   SAMSUNG ELECTRONICS INDIA LIMITED  0.294642  0.265658  0.245895\n",
       "1       0       2  HAIER APPLIANCES (INDIA) P.LIMITED  LG ELECTRONICS INDIA PVT.LTD             5             4             2  LG ELECTRONICS INDIA PVT.LTD            PANASONIC INDIA LIMITED   SAMSUNG ELECTRONICS INDIA LIMITED  0.249577  0.247804  0.198699\n",
       "2       4       6             PANASONIC INDIA LIMITED            SONY INDIA LIMITED             2             5             6            SONY INDIA LIMITED  SAMSUNG ELECTRONICS INDIA LIMITED        LG ELECTRONICS INDIA PVT.LTD  0.222439  0.221208  0.205869\n",
       "3       1       6                               INTEX            SONY INDIA LIMITED             0             2             6            SONY INDIA LIMITED       LG ELECTRONICS INDIA PVT.LTD  HAIER APPLIANCES (INDIA) P.LIMITED  0.337445  0.299231  0.118031\n",
       "4       2       6        LG ELECTRONICS INDIA PVT.LTD            SONY INDIA LIMITED             2             5             6            SONY INDIA LIMITED  SAMSUNG ELECTRONICS INDIA LIMITED        LG ELECTRONICS INDIA PVT.LTD  0.314587  0.309261  0.267490"
      ]
     },
     "execution_count": 79,
     "metadata": {},
     "output_type": "execute_result"
    }
   ],
   "source": [
    "OP_df_test_data.head()"
   ]
  },
  {
   "cell_type": "code",
   "execution_count": 78,
   "metadata": {},
   "outputs": [],
   "source": [
    "OP_df_test_data.to_csv('high_3.csv',index=None)"
   ]
  },
  {
   "cell_type": "code",
   "execution_count": null,
   "metadata": {},
   "outputs": [],
   "source": [
    "y_train[0]"
   ]
  },
  {
   "cell_type": "code",
   "execution_count": null,
   "metadata": {},
   "outputs": [],
   "source": [
    "from sklearn.ensemble import RandomForestClassifier\n",
    "\n",
    "X_train,X_test,y_train,y_test = train_test_split(X,y,test_size=0.2,random_state=42)\n",
    "\n",
    "clf = RandomForestClassifier(verbose=1,n_jobs=4)\n",
    "\n",
    "clf.fit(X_train,y_train)\n",
    "\n",
    "y_pred = clf.predict(X_test)"
   ]
  },
  {
   "cell_type": "code",
   "execution_count": null,
   "metadata": {},
   "outputs": [],
   "source": [
    "accuracy_score(y_test, y_pred)"
   ]
  },
  {
   "cell_type": "code",
   "execution_count": null,
   "metadata": {},
   "outputs": [],
   "source": []
  },
  {
   "cell_type": "code",
   "execution_count": null,
   "metadata": {},
   "outputs": [],
   "source": [
    "from sklearn.preprocessing import StandardScaler\n",
    "\n",
    "sc = StandardScaler()\n",
    "X_sc = sc.fit_transform(X)\n",
    "\n",
    "X_train_sc,X_test_sc,y_train_sc,y_test_sc = train_test_split(X_sc,y,test_size=0.2,random_state=42)\n",
    "\n",
    "clf = RandomForestClassifier(verbose=1,n_jobs=4)\n",
    "\n",
    "clf.fit(X_train_sc,y_train_sc)\n",
    "\n",
    "y_pred = clf.predict(X_test_sc)\n",
    "\n",
    "accuracy_score(y_test_sc, y_pred)"
   ]
  },
  {
   "cell_type": "code",
   "execution_count": null,
   "metadata": {},
   "outputs": [],
   "source": []
  },
  {
   "cell_type": "code",
   "execution_count": null,
   "metadata": {},
   "outputs": [],
   "source": []
  },
  {
   "cell_type": "code",
   "execution_count": null,
   "metadata": {},
   "outputs": [],
   "source": []
  },
  {
   "cell_type": "code",
   "execution_count": 73,
   "metadata": {},
   "outputs": [],
   "source": [
    "from sklearn.ensemble import RandomForestClassifier\n",
    "from sklearn.metrics import roc_curve, auc"
   ]
  },
  {
   "cell_type": "code",
   "execution_count": 74,
   "metadata": {},
   "outputs": [],
   "source": [
    "from sklearn.preprocessing import StandardScaler"
   ]
  },
  {
   "cell_type": "code",
   "execution_count": 75,
   "metadata": {},
   "outputs": [
    {
     "name": "stderr",
     "output_type": "stream",
     "text": [
      "/home/ion/.local/lib/python3.6/site-packages/sklearn/ensemble/forest.py:246: FutureWarning: The default value of n_estimators will change from 10 in version 0.20 to 100 in 0.22.\n",
      "  \"10 in version 0.20 to 100 in 0.22.\", FutureWarning)\n",
      "[Parallel(n_jobs=4)]: Using backend ThreadingBackend with 4 concurrent workers.\n",
      "[Parallel(n_jobs=4)]: Done  10 out of  10 | elapsed:    2.0s finished\n",
      "[Parallel(n_jobs=4)]: Using backend ThreadingBackend with 4 concurrent workers.\n",
      "[Parallel(n_jobs=4)]: Done  10 out of  10 | elapsed:    0.1s finished\n"
     ]
    },
    {
     "data": {
      "text/plain": [
       "0.14848307500613567"
      ]
     },
     "execution_count": 75,
     "metadata": {},
     "output_type": "execute_result"
    }
   ],
   "source": [
    "clf = RandomForestClassifier(verbose=1,n_jobs=4,class_weight='balanced_subsample')\n",
    "clf.fit(X_train,y_train)\n",
    "y_pred = clf.predict(X_test)\n",
    "accuracy_score(y_test, y_pred)"
   ]
  },
  {
   "cell_type": "code",
   "execution_count": 81,
   "metadata": {},
   "outputs": [],
   "source": [
    "import xgboost as xgb"
   ]
  },
  {
   "cell_type": "code",
   "execution_count": 82,
   "metadata": {},
   "outputs": [
    {
     "data": {
      "text/plain": [
       "0.30506357474934187"
      ]
     },
     "execution_count": 82,
     "metadata": {},
     "output_type": "execute_result"
    }
   ],
   "source": [
    "model = xgb.XGBClassifier(n_jobs=4)\n",
    "model.fit(X_train,y_train)\n",
    "y_pred = model.predict(X_test)\n",
    "accuracy_score(y_test, y_pred)"
   ]
  },
  {
   "cell_type": "code",
   "execution_count": 83,
   "metadata": {},
   "outputs": [],
   "source": [
    "y_prob = model.predict_proba(X_test)"
   ]
  },
  {
   "cell_type": "code",
   "execution_count": 84,
   "metadata": {},
   "outputs": [],
   "source": [
    "OP_df_test_data = pd.DataFrame(columns = ['y_test','y_pred'])\n",
    "OP_df_test_data['y_test'] = y_test\n",
    "OP_df_test_data['y_pred'] = y_pred\n",
    "OP_df_test_data['true_label'] = le.inverse_transform(OP_df_test_data.y_test)\n",
    "OP_df_test_data['pred_label'] = le.inverse_transform(OP_df_test_data.y_pred)\n",
    "\n",
    "tt = []\n",
    "top_3_probs = []\n",
    "prob1 = []\n",
    "prob2 = []\n",
    "prob3 = []\n",
    "for v in range(len(y_prob)):\n",
    "    ec = []\n",
    "    top_3_idx = np.argsort(y_prob[v])[-3:]\n",
    "    ec = list(top_3_idx)\n",
    "    tt.append(ec)\n",
    "    prob1.append(y_prob[v][ec[2]])\n",
    "    prob2.append(y_prob[v][ec[1]])\n",
    "    prob3.append(y_prob[v][ec[0]])\n",
    "    \n",
    "\n",
    "# c = 0\n",
    "# e = []\n",
    "# for vv in range(len(tt)):\n",
    "#     e = tt[vv]\n",
    "#     for i in range(3):\n",
    "#         if e[i] == y_test[vv]:\n",
    "#             c += 1\n",
    "#             break\n",
    "\n",
    "OP_df_test_data['Reco_3_label'],OP_df_test_data['Reco_2_label'],OP_df_test_data['Reco_1_label'] = np.array(tt).T\n",
    "\n",
    "OP_df_test_data['Reco_1'] = le.inverse_transform(OP_df_test_data['Reco_1_label'].values)\n",
    "OP_df_test_data['Reco_2'] = le.inverse_transform(OP_df_test_data['Reco_2_label'].values)\n",
    "OP_df_test_data['Reco_3'] = le.inverse_transform(OP_df_test_data['Reco_3_label'].values)\n",
    "\n",
    "OP_df_test_data['Prob_1'] = prob1\n",
    "OP_df_test_data['Prob_2'] = prob2\n",
    "OP_df_test_data['Prob_3'] = prob3\n",
    "# del df_preds['Reco_1_label']\n",
    "# del df_preds['Reco_2_label']\n",
    "# del df_preds['Reco_3_label']\n",
    "\n",
    "#df_preds.to_csv('Reco_final_list.csv',index=None)"
   ]
  },
  {
   "cell_type": "code",
   "execution_count": 85,
   "metadata": {},
   "outputs": [],
   "source": [
    "OP_df_test_data.to_csv('rare_class.csv',index=None)"
   ]
  },
  {
   "cell_type": "code",
   "execution_count": 81,
   "metadata": {},
   "outputs": [
    {
     "data": {
      "text/html": [
       "<div>\n",
       "<style scoped>\n",
       "    .dataframe tbody tr th:only-of-type {\n",
       "        vertical-align: middle;\n",
       "    }\n",
       "\n",
       "    .dataframe tbody tr th {\n",
       "        vertical-align: top;\n",
       "    }\n",
       "\n",
       "    .dataframe thead th {\n",
       "        text-align: right;\n",
       "    }\n",
       "</style>\n",
       "<table border=\"1\" class=\"dataframe\">\n",
       "  <thead>\n",
       "    <tr style=\"text-align: right;\">\n",
       "      <th></th>\n",
       "      <th>y_test</th>\n",
       "      <th>y_pred</th>\n",
       "      <th>true_label</th>\n",
       "      <th>pred_label</th>\n",
       "      <th>Reco_3_label</th>\n",
       "      <th>Reco_2_label</th>\n",
       "      <th>Reco_1_label</th>\n",
       "      <th>Reco_1</th>\n",
       "      <th>Reco_2</th>\n",
       "      <th>Reco_3</th>\n",
       "      <th>Prob_1</th>\n",
       "      <th>Prob_2</th>\n",
       "      <th>Prob_3</th>\n",
       "    </tr>\n",
       "  </thead>\n",
       "  <tbody>\n",
       "    <tr>\n",
       "      <th>0</th>\n",
       "      <td>8</td>\n",
       "      <td>12</td>\n",
       "      <td>PANASONIC INDIA LIMITED</td>\n",
       "      <td>VIDEOCON</td>\n",
       "      <td>5</td>\n",
       "      <td>13</td>\n",
       "      <td>12</td>\n",
       "      <td>VIDEOCON</td>\n",
       "      <td>VISE</td>\n",
       "      <td>MICROMAX LTD</td>\n",
       "      <td>0.302179</td>\n",
       "      <td>0.178455</td>\n",
       "      <td>0.062947</td>\n",
       "    </tr>\n",
       "    <tr>\n",
       "      <th>1</th>\n",
       "      <td>8</td>\n",
       "      <td>9</td>\n",
       "      <td>PANASONIC INDIA LIMITED</td>\n",
       "      <td>RECONNECT</td>\n",
       "      <td>5</td>\n",
       "      <td>14</td>\n",
       "      <td>9</td>\n",
       "      <td>RECONNECT</td>\n",
       "      <td>VU ELECTRONICS</td>\n",
       "      <td>MICROMAX LTD</td>\n",
       "      <td>0.296049</td>\n",
       "      <td>0.247530</td>\n",
       "      <td>0.131453</td>\n",
       "    </tr>\n",
       "    <tr>\n",
       "      <th>2</th>\n",
       "      <td>8</td>\n",
       "      <td>5</td>\n",
       "      <td>PANASONIC INDIA LIMITED</td>\n",
       "      <td>MICROMAX LTD</td>\n",
       "      <td>10</td>\n",
       "      <td>0</td>\n",
       "      <td>5</td>\n",
       "      <td>MICROMAX LTD</td>\n",
       "      <td>CROMA</td>\n",
       "      <td>SHARP INDIA LIMITED</td>\n",
       "      <td>0.241361</td>\n",
       "      <td>0.178101</td>\n",
       "      <td>0.145373</td>\n",
       "    </tr>\n",
       "    <tr>\n",
       "      <th>3</th>\n",
       "      <td>2</td>\n",
       "      <td>12</td>\n",
       "      <td>INTEX</td>\n",
       "      <td>VIDEOCON</td>\n",
       "      <td>2</td>\n",
       "      <td>0</td>\n",
       "      <td>12</td>\n",
       "      <td>VIDEOCON</td>\n",
       "      <td>CROMA</td>\n",
       "      <td>INTEX</td>\n",
       "      <td>0.264512</td>\n",
       "      <td>0.180016</td>\n",
       "      <td>0.095904</td>\n",
       "    </tr>\n",
       "    <tr>\n",
       "      <th>4</th>\n",
       "      <td>8</td>\n",
       "      <td>2</td>\n",
       "      <td>PANASONIC INDIA LIMITED</td>\n",
       "      <td>INTEX</td>\n",
       "      <td>1</td>\n",
       "      <td>9</td>\n",
       "      <td>2</td>\n",
       "      <td>INTEX</td>\n",
       "      <td>RECONNECT</td>\n",
       "      <td>HAIER APPLIANCES (INDIA) P.LIMITED</td>\n",
       "      <td>0.208973</td>\n",
       "      <td>0.149368</td>\n",
       "      <td>0.135393</td>\n",
       "    </tr>\n",
       "    <tr>\n",
       "      <th>5</th>\n",
       "      <td>8</td>\n",
       "      <td>13</td>\n",
       "      <td>PANASONIC INDIA LIMITED</td>\n",
       "      <td>VISE</td>\n",
       "      <td>12</td>\n",
       "      <td>0</td>\n",
       "      <td>13</td>\n",
       "      <td>VISE</td>\n",
       "      <td>CROMA</td>\n",
       "      <td>VIDEOCON</td>\n",
       "      <td>0.402230</td>\n",
       "      <td>0.212460</td>\n",
       "      <td>0.143671</td>\n",
       "    </tr>\n",
       "    <tr>\n",
       "      <th>6</th>\n",
       "      <td>8</td>\n",
       "      <td>8</td>\n",
       "      <td>PANASONIC INDIA LIMITED</td>\n",
       "      <td>PANASONIC INDIA LIMITED</td>\n",
       "      <td>1</td>\n",
       "      <td>14</td>\n",
       "      <td>8</td>\n",
       "      <td>PANASONIC INDIA LIMITED</td>\n",
       "      <td>VU ELECTRONICS</td>\n",
       "      <td>HAIER APPLIANCES (INDIA) P.LIMITED</td>\n",
       "      <td>0.800000</td>\n",
       "      <td>0.100000</td>\n",
       "      <td>0.100000</td>\n",
       "    </tr>\n",
       "    <tr>\n",
       "      <th>7</th>\n",
       "      <td>1</td>\n",
       "      <td>2</td>\n",
       "      <td>HAIER APPLIANCES (INDIA) P.LIMITED</td>\n",
       "      <td>INTEX</td>\n",
       "      <td>1</td>\n",
       "      <td>6</td>\n",
       "      <td>2</td>\n",
       "      <td>INTEX</td>\n",
       "      <td>MIRC ELECTRONICS LIMITED(ONIDA)</td>\n",
       "      <td>HAIER APPLIANCES (INDIA) P.LIMITED</td>\n",
       "      <td>0.333537</td>\n",
       "      <td>0.274051</td>\n",
       "      <td>0.188710</td>\n",
       "    </tr>\n",
       "    <tr>\n",
       "      <th>8</th>\n",
       "      <td>14</td>\n",
       "      <td>3</td>\n",
       "      <td>VU ELECTRONICS</td>\n",
       "      <td>KCM APPLIANCES PVT LTD</td>\n",
       "      <td>5</td>\n",
       "      <td>7</td>\n",
       "      <td>3</td>\n",
       "      <td>KCM APPLIANCES PVT LTD</td>\n",
       "      <td>MITASHI EDUTAINMENT PVT LTD</td>\n",
       "      <td>MICROMAX LTD</td>\n",
       "      <td>0.566744</td>\n",
       "      <td>0.244677</td>\n",
       "      <td>0.080850</td>\n",
       "    </tr>\n",
       "    <tr>\n",
       "      <th>9</th>\n",
       "      <td>8</td>\n",
       "      <td>2</td>\n",
       "      <td>PANASONIC INDIA LIMITED</td>\n",
       "      <td>INTEX</td>\n",
       "      <td>4</td>\n",
       "      <td>8</td>\n",
       "      <td>2</td>\n",
       "      <td>INTEX</td>\n",
       "      <td>PANASONIC INDIA LIMITED</td>\n",
       "      <td>LLOYD ELECTRIC &amp; ENGINEERING LIMITED(LEEL)</td>\n",
       "      <td>0.288068</td>\n",
       "      <td>0.285170</td>\n",
       "      <td>0.225734</td>\n",
       "    </tr>\n",
       "    <tr>\n",
       "      <th>10</th>\n",
       "      <td>2</td>\n",
       "      <td>14</td>\n",
       "      <td>INTEX</td>\n",
       "      <td>VU ELECTRONICS</td>\n",
       "      <td>13</td>\n",
       "      <td>11</td>\n",
       "      <td>14</td>\n",
       "      <td>VU ELECTRONICS</td>\n",
       "      <td>SKYWORTH</td>\n",
       "      <td>VISE</td>\n",
       "      <td>0.293162</td>\n",
       "      <td>0.205820</td>\n",
       "      <td>0.077573</td>\n",
       "    </tr>\n",
       "    <tr>\n",
       "      <th>11</th>\n",
       "      <td>9</td>\n",
       "      <td>2</td>\n",
       "      <td>RECONNECT</td>\n",
       "      <td>INTEX</td>\n",
       "      <td>14</td>\n",
       "      <td>8</td>\n",
       "      <td>2</td>\n",
       "      <td>INTEX</td>\n",
       "      <td>PANASONIC INDIA LIMITED</td>\n",
       "      <td>VU ELECTRONICS</td>\n",
       "      <td>0.518926</td>\n",
       "      <td>0.481074</td>\n",
       "      <td>0.000000</td>\n",
       "    </tr>\n",
       "    <tr>\n",
       "      <th>12</th>\n",
       "      <td>8</td>\n",
       "      <td>12</td>\n",
       "      <td>PANASONIC INDIA LIMITED</td>\n",
       "      <td>VIDEOCON</td>\n",
       "      <td>7</td>\n",
       "      <td>13</td>\n",
       "      <td>12</td>\n",
       "      <td>VIDEOCON</td>\n",
       "      <td>VISE</td>\n",
       "      <td>MITASHI EDUTAINMENT PVT LTD</td>\n",
       "      <td>0.338711</td>\n",
       "      <td>0.171753</td>\n",
       "      <td>0.093497</td>\n",
       "    </tr>\n",
       "    <tr>\n",
       "      <th>13</th>\n",
       "      <td>8</td>\n",
       "      <td>13</td>\n",
       "      <td>PANASONIC INDIA LIMITED</td>\n",
       "      <td>VISE</td>\n",
       "      <td>14</td>\n",
       "      <td>7</td>\n",
       "      <td>13</td>\n",
       "      <td>VISE</td>\n",
       "      <td>MITASHI EDUTAINMENT PVT LTD</td>\n",
       "      <td>VU ELECTRONICS</td>\n",
       "      <td>0.310863</td>\n",
       "      <td>0.208152</td>\n",
       "      <td>0.187814</td>\n",
       "    </tr>\n",
       "    <tr>\n",
       "      <th>14</th>\n",
       "      <td>6</td>\n",
       "      <td>12</td>\n",
       "      <td>MIRC ELECTRONICS LIMITED(ONIDA)</td>\n",
       "      <td>VIDEOCON</td>\n",
       "      <td>7</td>\n",
       "      <td>0</td>\n",
       "      <td>12</td>\n",
       "      <td>VIDEOCON</td>\n",
       "      <td>CROMA</td>\n",
       "      <td>MITASHI EDUTAINMENT PVT LTD</td>\n",
       "      <td>0.372938</td>\n",
       "      <td>0.110187</td>\n",
       "      <td>0.096318</td>\n",
       "    </tr>\n",
       "    <tr>\n",
       "      <th>15</th>\n",
       "      <td>8</td>\n",
       "      <td>8</td>\n",
       "      <td>PANASONIC INDIA LIMITED</td>\n",
       "      <td>PANASONIC INDIA LIMITED</td>\n",
       "      <td>1</td>\n",
       "      <td>7</td>\n",
       "      <td>8</td>\n",
       "      <td>PANASONIC INDIA LIMITED</td>\n",
       "      <td>MITASHI EDUTAINMENT PVT LTD</td>\n",
       "      <td>HAIER APPLIANCES (INDIA) P.LIMITED</td>\n",
       "      <td>0.523941</td>\n",
       "      <td>0.196406</td>\n",
       "      <td>0.177908</td>\n",
       "    </tr>\n",
       "    <tr>\n",
       "      <th>16</th>\n",
       "      <td>8</td>\n",
       "      <td>8</td>\n",
       "      <td>PANASONIC INDIA LIMITED</td>\n",
       "      <td>PANASONIC INDIA LIMITED</td>\n",
       "      <td>4</td>\n",
       "      <td>6</td>\n",
       "      <td>8</td>\n",
       "      <td>PANASONIC INDIA LIMITED</td>\n",
       "      <td>MIRC ELECTRONICS LIMITED(ONIDA)</td>\n",
       "      <td>LLOYD ELECTRIC &amp; ENGINEERING LIMITED(LEEL)</td>\n",
       "      <td>0.839109</td>\n",
       "      <td>0.089135</td>\n",
       "      <td>0.071756</td>\n",
       "    </tr>\n",
       "    <tr>\n",
       "      <th>17</th>\n",
       "      <td>4</td>\n",
       "      <td>10</td>\n",
       "      <td>LLOYD ELECTRIC &amp; ENGINEERING LIMITED(LEEL)</td>\n",
       "      <td>SHARP INDIA LIMITED</td>\n",
       "      <td>0</td>\n",
       "      <td>11</td>\n",
       "      <td>10</td>\n",
       "      <td>SHARP INDIA LIMITED</td>\n",
       "      <td>SKYWORTH</td>\n",
       "      <td>CROMA</td>\n",
       "      <td>0.321630</td>\n",
       "      <td>0.143696</td>\n",
       "      <td>0.098485</td>\n",
       "    </tr>\n",
       "    <tr>\n",
       "      <th>18</th>\n",
       "      <td>2</td>\n",
       "      <td>12</td>\n",
       "      <td>INTEX</td>\n",
       "      <td>VIDEOCON</td>\n",
       "      <td>13</td>\n",
       "      <td>7</td>\n",
       "      <td>12</td>\n",
       "      <td>VIDEOCON</td>\n",
       "      <td>MITASHI EDUTAINMENT PVT LTD</td>\n",
       "      <td>VISE</td>\n",
       "      <td>0.285558</td>\n",
       "      <td>0.131853</td>\n",
       "      <td>0.123456</td>\n",
       "    </tr>\n",
       "    <tr>\n",
       "      <th>19</th>\n",
       "      <td>6</td>\n",
       "      <td>6</td>\n",
       "      <td>MIRC ELECTRONICS LIMITED(ONIDA)</td>\n",
       "      <td>MIRC ELECTRONICS LIMITED(ONIDA)</td>\n",
       "      <td>2</td>\n",
       "      <td>8</td>\n",
       "      <td>6</td>\n",
       "      <td>MIRC ELECTRONICS LIMITED(ONIDA)</td>\n",
       "      <td>PANASONIC INDIA LIMITED</td>\n",
       "      <td>INTEX</td>\n",
       "      <td>0.304691</td>\n",
       "      <td>0.156495</td>\n",
       "      <td>0.136439</td>\n",
       "    </tr>\n",
       "  </tbody>\n",
       "</table>\n",
       "</div>"
      ],
      "text/plain": [
       "    y_test  y_pred                                  true_label                       pred_label  Reco_3_label  Reco_2_label  Reco_1_label                           Reco_1                           Reco_2                                      Reco_3    Prob_1    Prob_2    Prob_3\n",
       "0        8      12                     PANASONIC INDIA LIMITED                         VIDEOCON             5            13            12                         VIDEOCON                             VISE                                MICROMAX LTD  0.302179  0.178455  0.062947\n",
       "1        8       9                     PANASONIC INDIA LIMITED                        RECONNECT             5            14             9                        RECONNECT                   VU ELECTRONICS                                MICROMAX LTD  0.296049  0.247530  0.131453\n",
       "2        8       5                     PANASONIC INDIA LIMITED                     MICROMAX LTD            10             0             5                     MICROMAX LTD                            CROMA                         SHARP INDIA LIMITED  0.241361  0.178101  0.145373\n",
       "3        2      12                                       INTEX                         VIDEOCON             2             0            12                         VIDEOCON                            CROMA                                       INTEX  0.264512  0.180016  0.095904\n",
       "4        8       2                     PANASONIC INDIA LIMITED                            INTEX             1             9             2                            INTEX                        RECONNECT          HAIER APPLIANCES (INDIA) P.LIMITED  0.208973  0.149368  0.135393\n",
       "5        8      13                     PANASONIC INDIA LIMITED                             VISE            12             0            13                             VISE                            CROMA                                    VIDEOCON  0.402230  0.212460  0.143671\n",
       "6        8       8                     PANASONIC INDIA LIMITED          PANASONIC INDIA LIMITED             1            14             8          PANASONIC INDIA LIMITED                   VU ELECTRONICS          HAIER APPLIANCES (INDIA) P.LIMITED  0.800000  0.100000  0.100000\n",
       "7        1       2          HAIER APPLIANCES (INDIA) P.LIMITED                            INTEX             1             6             2                            INTEX  MIRC ELECTRONICS LIMITED(ONIDA)          HAIER APPLIANCES (INDIA) P.LIMITED  0.333537  0.274051  0.188710\n",
       "8       14       3                              VU ELECTRONICS           KCM APPLIANCES PVT LTD             5             7             3           KCM APPLIANCES PVT LTD      MITASHI EDUTAINMENT PVT LTD                                MICROMAX LTD  0.566744  0.244677  0.080850\n",
       "9        8       2                     PANASONIC INDIA LIMITED                            INTEX             4             8             2                            INTEX          PANASONIC INDIA LIMITED  LLOYD ELECTRIC & ENGINEERING LIMITED(LEEL)  0.288068  0.285170  0.225734\n",
       "10       2      14                                       INTEX                   VU ELECTRONICS            13            11            14                   VU ELECTRONICS                         SKYWORTH                                        VISE  0.293162  0.205820  0.077573\n",
       "11       9       2                                   RECONNECT                            INTEX            14             8             2                            INTEX          PANASONIC INDIA LIMITED                              VU ELECTRONICS  0.518926  0.481074  0.000000\n",
       "12       8      12                     PANASONIC INDIA LIMITED                         VIDEOCON             7            13            12                         VIDEOCON                             VISE                 MITASHI EDUTAINMENT PVT LTD  0.338711  0.171753  0.093497\n",
       "13       8      13                     PANASONIC INDIA LIMITED                             VISE            14             7            13                             VISE      MITASHI EDUTAINMENT PVT LTD                              VU ELECTRONICS  0.310863  0.208152  0.187814\n",
       "14       6      12             MIRC ELECTRONICS LIMITED(ONIDA)                         VIDEOCON             7             0            12                         VIDEOCON                            CROMA                 MITASHI EDUTAINMENT PVT LTD  0.372938  0.110187  0.096318\n",
       "15       8       8                     PANASONIC INDIA LIMITED          PANASONIC INDIA LIMITED             1             7             8          PANASONIC INDIA LIMITED      MITASHI EDUTAINMENT PVT LTD          HAIER APPLIANCES (INDIA) P.LIMITED  0.523941  0.196406  0.177908\n",
       "16       8       8                     PANASONIC INDIA LIMITED          PANASONIC INDIA LIMITED             4             6             8          PANASONIC INDIA LIMITED  MIRC ELECTRONICS LIMITED(ONIDA)  LLOYD ELECTRIC & ENGINEERING LIMITED(LEEL)  0.839109  0.089135  0.071756\n",
       "17       4      10  LLOYD ELECTRIC & ENGINEERING LIMITED(LEEL)              SHARP INDIA LIMITED             0            11            10              SHARP INDIA LIMITED                         SKYWORTH                                       CROMA  0.321630  0.143696  0.098485\n",
       "18       2      12                                       INTEX                         VIDEOCON            13             7            12                         VIDEOCON      MITASHI EDUTAINMENT PVT LTD                                        VISE  0.285558  0.131853  0.123456\n",
       "19       6       6             MIRC ELECTRONICS LIMITED(ONIDA)  MIRC ELECTRONICS LIMITED(ONIDA)             2             8             6  MIRC ELECTRONICS LIMITED(ONIDA)          PANASONIC INDIA LIMITED                                       INTEX  0.304691  0.156495  0.136439"
      ]
     },
     "execution_count": 81,
     "metadata": {},
     "output_type": "execute_result"
    }
   ],
   "source": [
    "OP_df_test_data.head(20)"
   ]
  },
  {
   "cell_type": "code",
   "execution_count": null,
   "metadata": {},
   "outputs": [],
   "source": []
  },
  {
   "cell_type": "code",
   "execution_count": null,
   "metadata": {},
   "outputs": [],
   "source": [
    "df_test = pd.DataFrame()\n",
    "\n",
    "df_test['y_test'] = y_test\n",
    "df_test['y_pred'] = y_pred\n",
    "\n",
    "df_test['true_label'] = le.inverse_transform(df_test.y_test)\n",
    "df_test['pred_label'] = le.inverse_transform(df_test.y_pred)\n",
    "\n",
    "df_test.to_csv('r20.15_balanced_subsample.csv',index=None)"
   ]
  },
  {
   "cell_type": "code",
   "execution_count": null,
   "metadata": {},
   "outputs": [],
   "source": []
  },
  {
   "cell_type": "code",
   "execution_count": null,
   "metadata": {},
   "outputs": [],
   "source": []
  },
  {
   "cell_type": "code",
   "execution_count": null,
   "metadata": {},
   "outputs": [],
   "source": [
    "sc = StandardScaler()\n",
    "X_sc = sc.fit_transform(X)"
   ]
  },
  {
   "cell_type": "code",
   "execution_count": null,
   "metadata": {},
   "outputs": [],
   "source": [
    "X_train_sc,X_test_sc,y_train_sc,y_test_sc = train_test_split(X_sc,y,test_size=0.2,random_state=42)"
   ]
  },
  {
   "cell_type": "code",
   "execution_count": null,
   "metadata": {},
   "outputs": [],
   "source": []
  },
  {
   "cell_type": "code",
   "execution_count": null,
   "metadata": {},
   "outputs": [],
   "source": []
  },
  {
   "cell_type": "code",
   "execution_count": null,
   "metadata": {},
   "outputs": [],
   "source": [
    "df_test.shape"
   ]
  },
  {
   "cell_type": "code",
   "execution_count": null,
   "metadata": {},
   "outputs": [],
   "source": [
    "X_train_sc[0]"
   ]
  },
  {
   "cell_type": "code",
   "execution_count": null,
   "metadata": {
    "scrolled": true
   },
   "outputs": [],
   "source": [
    "y_test[:30],y_pred[:30]"
   ]
  },
  {
   "cell_type": "code",
   "execution_count": null,
   "metadata": {},
   "outputs": [],
   "source": []
  },
  {
   "cell_type": "code",
   "execution_count": null,
   "metadata": {},
   "outputs": [],
   "source": []
  },
  {
   "cell_type": "code",
   "execution_count": null,
   "metadata": {},
   "outputs": [],
   "source": []
  },
  {
   "cell_type": "code",
   "execution_count": null,
   "metadata": {},
   "outputs": [],
   "source": []
  },
  {
   "cell_type": "code",
   "execution_count": null,
   "metadata": {},
   "outputs": [],
   "source": [
    "y_score = y_pred"
   ]
  },
  {
   "cell_type": "code",
   "execution_count": null,
   "metadata": {},
   "outputs": [],
   "source": [
    "n_classes = len(le.classes_)"
   ]
  },
  {
   "cell_type": "code",
   "execution_count": null,
   "metadata": {},
   "outputs": [],
   "source": [
    "y_test[0]"
   ]
  },
  {
   "cell_type": "code",
   "execution_count": null,
   "metadata": {},
   "outputs": [],
   "source": [
    "y_score[0]"
   ]
  },
  {
   "cell_type": "code",
   "execution_count": null,
   "metadata": {},
   "outputs": [],
   "source": [
    "# # Compute ROC curve and ROC area for each class\n",
    "# fpr = dict()\n",
    "# tpr = dict()\n",
    "# roc_auc = dict()\n",
    "# for i in range(n_classes):\n",
    "#     fpr[i], tpr[i], _ = roc_curve(y_test[:, i], y_score[:, i])\n",
    "#     roc_auc[i] = auc(fpr[i], tpr[i])"
   ]
  },
  {
   "cell_type": "code",
   "execution_count": null,
   "metadata": {},
   "outputs": [],
   "source": [
    "from sklearn.multiclass import OneVsRestClassifier"
   ]
  },
  {
   "cell_type": "code",
   "execution_count": null,
   "metadata": {},
   "outputs": [],
   "source": [
    "clf = OneVsRestClassifier(RandomForestClassifier(random_state=0))\n",
    "clf.fit(X_train, y_train)"
   ]
  },
  {
   "cell_type": "code",
   "execution_count": null,
   "metadata": {},
   "outputs": [],
   "source": [
    "y_score = clf.predict_proba(X_test)"
   ]
  },
  {
   "cell_type": "code",
   "execution_count": null,
   "metadata": {},
   "outputs": [],
   "source": [
    "fpr = dict()\n",
    "tpr = dict()\n",
    "roc_auc = dict()\n",
    "for i in range(n_classes):\n",
    "    fpr[i], tpr[i], _ = roc_curve(y_test[:, i], y_score[:, i])\n",
    "    roc_auc[i] = auc(fpr[i], tpr[i])\n",
    "\n",
    "# Plot of a ROC curve for a specific class\n",
    "for i in range(n_classes):\n",
    "    plt.figure()\n",
    "    plt.plot(fpr[i], tpr[i], label='ROC curve (area = %0.2f)' % roc_auc[i])\n",
    "    plt.plot([0, 1], [0, 1], 'k--')"
   ]
  },
  {
   "cell_type": "code",
   "execution_count": null,
   "metadata": {},
   "outputs": [],
   "source": []
  },
  {
   "cell_type": "code",
   "execution_count": null,
   "metadata": {},
   "outputs": [],
   "source": []
  },
  {
   "cell_type": "code",
   "execution_count": null,
   "metadata": {},
   "outputs": [],
   "source": [
    "y_test[0]"
   ]
  },
  {
   "cell_type": "code",
   "execution_count": null,
   "metadata": {},
   "outputs": [],
   "source": [
    "y_score[0]"
   ]
  },
  {
   "cell_type": "code",
   "execution_count": null,
   "metadata": {},
   "outputs": [],
   "source": [
    "X_train[0]"
   ]
  },
  {
   "cell_type": "code",
   "execution_count": null,
   "metadata": {},
   "outputs": [],
   "source": [
    "X_test[0]"
   ]
  },
  {
   "cell_type": "code",
   "execution_count": null,
   "metadata": {},
   "outputs": [],
   "source": [
    "import keras\n",
    "from keras.models import Sequential\n",
    "from keras.layers import LSTM, Dense, Dropout\n",
    "from keras.optimizers import RMSprop"
   ]
  },
  {
   "cell_type": "code",
   "execution_count": null,
   "metadata": {},
   "outputs": [],
   "source": [
    "num_classes = len(le.classes_)"
   ]
  },
  {
   "cell_type": "code",
   "execution_count": null,
   "metadata": {},
   "outputs": [],
   "source": [
    "# X_train = np.reshape(X_train, (X_train.shape[0], 1, X_train.shape[1]))\n",
    "# X_test = np.reshape(X_test, (X_test.shape[0], 1, X_test.shape[1]))\n",
    "\n",
    "# X_test = np.reshape(X_test, (X_test.shape[0], 1, X_test.shape[1]))\n",
    "# y_test = np.reshape(y_test, (y_test.shape[0], 1, y_test.shape[1]))"
   ]
  },
  {
   "cell_type": "code",
   "execution_count": null,
   "metadata": {},
   "outputs": [],
   "source": [
    "X_train[0],len(X_train[0])"
   ]
  },
  {
   "cell_type": "code",
   "execution_count": null,
   "metadata": {},
   "outputs": [],
   "source": [
    "y_train[0]"
   ]
  },
  {
   "cell_type": "code",
   "execution_count": null,
   "metadata": {},
   "outputs": [],
   "source": [
    "num_classes"
   ]
  },
  {
   "cell_type": "code",
   "execution_count": null,
   "metadata": {},
   "outputs": [],
   "source": [
    "le.classes_"
   ]
  },
  {
   "cell_type": "code",
   "execution_count": null,
   "metadata": {},
   "outputs": [],
   "source": [
    "classifier = Sequential()\n",
    "#First Hidden Layer\n",
    "classifier.add(Dense(512, activation='relu', kernel_initializer='random_normal', input_dim=33))\n",
    "\n",
    "#Second  Hidden Layer\n",
    "classifier.add(Dense(256, activation='relu', kernel_initializer='random_normal'))\n",
    "#model.add(Dropout(0.2))\n",
    "#Output Layer\"\n",
    "classifier.add(Dense(2, activation='sigmoid', kernel_initializer='random_normal'))"
   ]
  },
  {
   "cell_type": "code",
   "execution_count": null,
   "metadata": {},
   "outputs": [],
   "source": [
    "classifier.summary()"
   ]
  },
  {
   "cell_type": "code",
   "execution_count": null,
   "metadata": {},
   "outputs": [],
   "source": [
    "#Compiling the neural network\n",
    "classifier.compile(optimizer ='adam',loss='binary_crossentropy', metrics =['accuracy'])"
   ]
  },
  {
   "cell_type": "code",
   "execution_count": null,
   "metadata": {},
   "outputs": [],
   "source": [
    "#Fitting the data to the training dataset\n",
    "classifier.fit(X_train,y_train, batch_size=10, epochs=100,validation_data=(X_test, y_test))"
   ]
  },
  {
   "cell_type": "code",
   "execution_count": null,
   "metadata": {},
   "outputs": [],
   "source": []
  },
  {
   "cell_type": "code",
   "execution_count": null,
   "metadata": {},
   "outputs": [],
   "source": []
  },
  {
   "cell_type": "code",
   "execution_count": null,
   "metadata": {},
   "outputs": [],
   "source": []
  },
  {
   "cell_type": "code",
   "execution_count": null,
   "metadata": {},
   "outputs": [],
   "source": []
  },
  {
   "cell_type": "code",
   "execution_count": null,
   "metadata": {},
   "outputs": [],
   "source": [
    "model = Sequential()\n",
    "#model.add(LSTM(128, dropout=0.2, recurrent_dropout=0.2, input_shape=((1, 33))))\n",
    "model.add(Dense(8, input_dim=33, activation='relu'))\n",
    "model.add(Dense(32, activation='relu'))\n",
    "model.add(Dropout(0.2))\n",
    "model.add(Dense(num_classes, activation='softmax'))\n",
    "\n",
    "model.summary()\n",
    "\n",
    "model.compile(loss='categorical_crossentropy',\n",
    "              optimizer=RMSprop(),\n",
    "              metrics=['accuracy'])\n",
    "\n",
    "#print(x_train.shape, y_train.shape)\n",
    "\n",
    "history = model.fit(X_train, y_train,\n",
    "                    epochs=10,\n",
    "                    verbose=1,\n",
    "                    validation_data=(X_test, y_test))"
   ]
  },
  {
   "cell_type": "code",
   "execution_count": null,
   "metadata": {},
   "outputs": [],
   "source": []
  },
  {
   "cell_type": "code",
   "execution_count": null,
   "metadata": {},
   "outputs": [],
   "source": [
    "import xgboost as xgb"
   ]
  },
  {
   "cell_type": "code",
   "execution_count": null,
   "metadata": {},
   "outputs": [],
   "source": [
    "model = xgb.XGBClassifier(n_jobs=-1)\n",
    "model.fit(X_train,y_train)\n",
    "accuracy_score(y_test, model.predict(X_test))"
   ]
  },
  {
   "cell_type": "code",
   "execution_count": null,
   "metadata": {},
   "outputs": [],
   "source": [
    "y_pred = model.predict(X_test)"
   ]
  },
  {
   "cell_type": "code",
   "execution_count": null,
   "metadata": {},
   "outputs": [],
   "source": [
    "df_test = pd.DataFrame()\n",
    "\n",
    "df_test['y_test'] = y_test\n",
    "df_test['y_pred'] = y_pred\n",
    "\n",
    "df_test['true_label'] = le.inverse_transform(df_test.y_test)\n",
    "df_test['pred_label'] = le.inverse_transform(df_test.y_pred)\n",
    "\n",
    "df_test.to_csv('r20.7_balanced_subsample_xgb.csv',index=None)"
   ]
  },
  {
   "cell_type": "code",
   "execution_count": null,
   "metadata": {},
   "outputs": [],
   "source": [
    "del joined"
   ]
  },
  {
   "cell_type": "code",
   "execution_count": null,
   "metadata": {},
   "outputs": [],
   "source": [
    "len(X_test)"
   ]
  },
  {
   "cell_type": "code",
   "execution_count": null,
   "metadata": {},
   "outputs": [],
   "source": [
    "le.classes_"
   ]
  },
  {
   "cell_type": "code",
   "execution_count": null,
   "metadata": {},
   "outputs": [],
   "source": []
  },
  {
   "cell_type": "code",
   "execution_count": null,
   "metadata": {},
   "outputs": [],
   "source": [
    "import xgboost as xgb"
   ]
  },
  {
   "cell_type": "code",
   "execution_count": null,
   "metadata": {},
   "outputs": [],
   "source": [
    "model_sp = xgb.XGBClassifier(n_jobs=-1,objective='multi:softprob')\n",
    "model_sp.fit(X_train,y_train)\n",
    "y_predmodel_sp = model_sp.predict(X_test)\n",
    "accuracy_score(y_test, y_pred)"
   ]
  },
  {
   "cell_type": "code",
   "execution_count": null,
   "metadata": {},
   "outputs": [],
   "source": [
    "y_prob_sb = model_sp.predict_proba(X_test)"
   ]
  },
  {
   "cell_type": "code",
   "execution_count": null,
   "metadata": {},
   "outputs": [],
   "source": []
  },
  {
   "cell_type": "code",
   "execution_count": null,
   "metadata": {},
   "outputs": [],
   "source": [
    "y_prob[500],y_prob_sb[500]"
   ]
  },
  {
   "cell_type": "code",
   "execution_count": null,
   "metadata": {},
   "outputs": [],
   "source": []
  },
  {
   "cell_type": "code",
   "execution_count": null,
   "metadata": {},
   "outputs": [],
   "source": []
  },
  {
   "cell_type": "code",
   "execution_count": null,
   "metadata": {},
   "outputs": [],
   "source": [
    "feat_importances = pd.Series(clf.feature_importances_)\n",
    "%matplotlib inline"
   ]
  },
  {
   "cell_type": "code",
   "execution_count": null,
   "metadata": {},
   "outputs": [],
   "source": []
  },
  {
   "cell_type": "code",
   "execution_count": null,
   "metadata": {},
   "outputs": [],
   "source": []
  },
  {
   "cell_type": "code",
   "execution_count": null,
   "metadata": {},
   "outputs": [],
   "source": [
    "feat_importances.nlargest(len(feat_importances)).plot(kind='barh')"
   ]
  },
  {
   "cell_type": "code",
   "execution_count": null,
   "metadata": {},
   "outputs": [],
   "source": [
    "import pickle\n",
    "with open('R20.7.model','wb') as f:\n",
    "    pickle.dump(model,f)\n",
    "with open('R20.7.le','wb') as f:\n",
    "    pickle.dump(le,f)"
   ]
  },
  {
   "cell_type": "code",
   "execution_count": null,
   "metadata": {},
   "outputs": [],
   "source": []
  },
  {
   "cell_type": "code",
   "execution_count": null,
   "metadata": {},
   "outputs": [],
   "source": []
  }
 ],
 "metadata": {
  "kernelspec": {
   "display_name": "Python 3",
   "language": "python",
   "name": "python3"
  },
  "language_info": {
   "codemirror_mode": {
    "name": "ipython",
    "version": 3
   },
   "file_extension": ".py",
   "mimetype": "text/x-python",
   "name": "python",
   "nbconvert_exporter": "python",
   "pygments_lexer": "ipython3",
   "version": "3.6.7"
  }
 },
 "nbformat": 4,
 "nbformat_minor": 2
}
