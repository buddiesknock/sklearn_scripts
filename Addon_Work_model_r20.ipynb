{
 "cells": [
  {
   "cell_type": "code",
   "execution_count": 1,
   "metadata": {},
   "outputs": [],
   "source": [
    "#!ls"
   ]
  },
  {
   "cell_type": "code",
   "execution_count": 1,
   "metadata": {},
   "outputs": [
    {
     "data": {
      "text/html": [
       "<style>.container { width:100% !important; }</style>"
      ],
      "text/plain": [
       "<IPython.core.display.HTML object>"
      ]
     },
     "metadata": {},
     "output_type": "display_data"
    }
   ],
   "source": [
    "from IPython.core.display import display, HTML\n",
    "display(HTML(\"<style>.container { width:100% !important; }</style>\"))"
   ]
  },
  {
   "cell_type": "code",
   "execution_count": 2,
   "metadata": {},
   "outputs": [],
   "source": [
    "import pandas as pd\n",
    "import numpy as np"
   ]
  },
  {
   "cell_type": "code",
   "execution_count": 3,
   "metadata": {},
   "outputs": [],
   "source": [
    "pd.set_option('display.max_rows', 500)\n",
    "pd.set_option('display.max_columns', 500)\n",
    "pd.set_option('display.width', 1000)"
   ]
  },
  {
   "cell_type": "code",
   "execution_count": 4,
   "metadata": {},
   "outputs": [],
   "source": [
    "df_brands = pd.read_csv('dim_model_data.csv')\n",
    "df_led_disb = pd.read_csv('led_disbursements.csv')"
   ]
  },
  {
   "cell_type": "code",
   "execution_count": 5,
   "metadata": {},
   "outputs": [],
   "source": [
    "binning_required = True"
   ]
  },
  {
   "cell_type": "code",
   "execution_count": 6,
   "metadata": {},
   "outputs": [],
   "source": [
    "df_led_brand =df_brands[df_brands['CATEGORY_DESC'] == 'LED']"
   ]
  },
  {
   "cell_type": "code",
   "execution_count": 7,
   "metadata": {},
   "outputs": [],
   "source": [
    "joined = df_led_disb.merge(df_led_brand,left_on='MODEL_ID',right_on='MODEL_ID',how='inner')"
   ]
  },
  {
   "cell_type": "code",
   "execution_count": 8,
   "metadata": {},
   "outputs": [],
   "source": [
    "del joined['MD5_VALUE']"
   ]
  },
  {
   "cell_type": "code",
   "execution_count": 9,
   "metadata": {},
   "outputs": [],
   "source": [
    "joined = joined.dropna()"
   ]
  },
  {
   "cell_type": "code",
   "execution_count": 10,
   "metadata": {},
   "outputs": [],
   "source": [
    "# Mapping city state mapping : custom list (regional)\n",
    "state_data = pd.read_csv('new_one.csv')"
   ]
  },
  {
   "cell_type": "code",
   "execution_count": 11,
   "metadata": {},
   "outputs": [
    {
     "data": {
      "text/plain": [
       "Index(['city', 'SUM of count', 'State', 'Unnamed: 3', 'Unnamed: 4'], dtype='object')"
      ]
     },
     "execution_count": 11,
     "metadata": {},
     "output_type": "execute_result"
    }
   ],
   "source": [
    "state_data.columns"
   ]
  },
  {
   "cell_type": "code",
   "execution_count": 12,
   "metadata": {},
   "outputs": [],
   "source": [
    "del state_data['Unnamed: 3']\n",
    "del state_data['Unnamed: 4']\n",
    "del state_data['SUM of count']"
   ]
  },
  {
   "cell_type": "code",
   "execution_count": 13,
   "metadata": {},
   "outputs": [
    {
     "data": {
      "text/html": [
       "<div>\n",
       "<style scoped>\n",
       "    .dataframe tbody tr th:only-of-type {\n",
       "        vertical-align: middle;\n",
       "    }\n",
       "\n",
       "    .dataframe tbody tr th {\n",
       "        vertical-align: top;\n",
       "    }\n",
       "\n",
       "    .dataframe thead th {\n",
       "        text-align: right;\n",
       "    }\n",
       "</style>\n",
       "<table border=\"1\" class=\"dataframe\">\n",
       "  <thead>\n",
       "    <tr style=\"text-align: right;\">\n",
       "      <th></th>\n",
       "      <th>city</th>\n",
       "      <th>State</th>\n",
       "    </tr>\n",
       "  </thead>\n",
       "  <tbody>\n",
       "    <tr>\n",
       "      <th>0</th>\n",
       "      <td>Grand Total</td>\n",
       "      <td>NaN</td>\n",
       "    </tr>\n",
       "    <tr>\n",
       "      <th>1</th>\n",
       "      <td>HYDERABAD</td>\n",
       "      <td>AP</td>\n",
       "    </tr>\n",
       "    <tr>\n",
       "      <th>2</th>\n",
       "      <td>BANGALORE</td>\n",
       "      <td>KA</td>\n",
       "    </tr>\n",
       "    <tr>\n",
       "      <th>3</th>\n",
       "      <td>MUMBAI</td>\n",
       "      <td>MH</td>\n",
       "    </tr>\n",
       "    <tr>\n",
       "      <th>4</th>\n",
       "      <td>CHENNAI</td>\n",
       "      <td>TN</td>\n",
       "    </tr>\n",
       "  </tbody>\n",
       "</table>\n",
       "</div>"
      ],
      "text/plain": [
       "          city State\n",
       "0  Grand Total   NaN\n",
       "1    HYDERABAD    AP\n",
       "2    BANGALORE    KA\n",
       "3       MUMBAI    MH\n",
       "4      CHENNAI    TN"
      ]
     },
     "execution_count": 13,
     "metadata": {},
     "output_type": "execute_result"
    }
   ],
   "source": [
    "state_data.head()"
   ]
  },
  {
   "cell_type": "code",
   "execution_count": 14,
   "metadata": {},
   "outputs": [],
   "source": [
    "#joined.shape"
   ]
  },
  {
   "cell_type": "code",
   "execution_count": 15,
   "metadata": {
    "scrolled": true
   },
   "outputs": [
    {
     "data": {
      "text/plain": [
       "Unnamed: 0_x                   0\n",
       "CUSTOMER_ID                    0\n",
       "AGREEMENT_NO                   0\n",
       "DISBURSEMENT_DATE              0\n",
       "PRODUCT_ID                     0\n",
       "MODEL_ID                       0\n",
       "AMT_FIN                        0\n",
       "EMI                            0\n",
       "AGE                            0\n",
       "EMPLOYMENTTYPE                 0\n",
       "GENDER                         0\n",
       "MARITALSTATUS                  0\n",
       "CITY                           0\n",
       "Unnamed: 0_y                   0\n",
       "MODEL_KEY                      0\n",
       "MODEL_NO                       0\n",
       "CATEGORY_ID                    0\n",
       "CATEGORY_DESC                  0\n",
       "CATEGORY_STATUS                0\n",
       "MAKE                           0\n",
       "MAKE_MODEL_FLAG                0\n",
       "MANUFACTURER_WARRANTY_YRS      0\n",
       "MANUFACTURER_ID                0\n",
       "MANUFACTURER_NAME              0\n",
       "MODEL_EXPIRY_DATE              0\n",
       "SELLING_PRICE                  0\n",
       "SIZE                           0\n",
       "MODEL_STATUS                   0\n",
       "EXTENDED_WARRANTY_FLAG         0\n",
       "UNIT                           0\n",
       "CATEGORY_DESC_FOR_INSURANCE    0\n",
       "CIBIL_CHECK                    0\n",
       "RISK_CLASS                     0\n",
       "REMI_CATG                      0\n",
       "BUSINESS_DATE                  0\n",
       "AUTHOR_DATE                    0\n",
       "INZ                            0\n",
       "OUTZ                           0\n",
       "MODIFIED_DATE                  0\n",
       "MODIFIED_TIME                  0\n",
       "HASHBYTESSHA1                  0\n",
       "EXACT_MODEL_DESC               0\n",
       "dtype: int64"
      ]
     },
     "execution_count": 15,
     "metadata": {},
     "output_type": "execute_result"
    }
   ],
   "source": [
    "joined.isna().sum()"
   ]
  },
  {
   "cell_type": "code",
   "execution_count": 16,
   "metadata": {},
   "outputs": [],
   "source": [
    "df_clean = pd.DataFrame()\n",
    "df_clean[['customer_id','age','etype','gender', 'maritalstatus', 'city','manu_name','dis_data']] = joined[['CUSTOMER_ID','AGE','EMPLOYMENTTYPE','GENDER', 'MARITALSTATUS', 'CITY','MANUFACTURER_NAME','DISBURSEMENT_DATE']]"
   ]
  },
  {
   "cell_type": "code",
   "execution_count": 17,
   "metadata": {},
   "outputs": [
    {
     "data": {
      "text/html": [
       "<div>\n",
       "<style scoped>\n",
       "    .dataframe tbody tr th:only-of-type {\n",
       "        vertical-align: middle;\n",
       "    }\n",
       "\n",
       "    .dataframe tbody tr th {\n",
       "        vertical-align: top;\n",
       "    }\n",
       "\n",
       "    .dataframe thead th {\n",
       "        text-align: right;\n",
       "    }\n",
       "</style>\n",
       "<table border=\"1\" class=\"dataframe\">\n",
       "  <thead>\n",
       "    <tr style=\"text-align: right;\">\n",
       "      <th></th>\n",
       "      <th>customer_id</th>\n",
       "      <th>age</th>\n",
       "      <th>etype</th>\n",
       "      <th>gender</th>\n",
       "      <th>maritalstatus</th>\n",
       "      <th>city</th>\n",
       "      <th>manu_name</th>\n",
       "      <th>dis_data</th>\n",
       "    </tr>\n",
       "  </thead>\n",
       "  <tbody>\n",
       "    <tr>\n",
       "      <th>1</th>\n",
       "      <td>65592179</td>\n",
       "      <td>43.0</td>\n",
       "      <td>SELF EMPLOYED</td>\n",
       "      <td>Male</td>\n",
       "      <td>MARRIED</td>\n",
       "      <td>COIMBATORE</td>\n",
       "      <td>LG ELECTRONICS INDIA PVT.LTD</td>\n",
       "      <td>20181130</td>\n",
       "    </tr>\n",
       "    <tr>\n",
       "      <th>3</th>\n",
       "      <td>20686212</td>\n",
       "      <td>30.0</td>\n",
       "      <td>SELF EMPLOYED</td>\n",
       "      <td>Male</td>\n",
       "      <td>UNMARRIED</td>\n",
       "      <td>JALANDHAR</td>\n",
       "      <td>LG ELECTRONICS INDIA PVT.LTD</td>\n",
       "      <td>20180925</td>\n",
       "    </tr>\n",
       "    <tr>\n",
       "      <th>4</th>\n",
       "      <td>21550688</td>\n",
       "      <td>50.0</td>\n",
       "      <td>SELF EMPLOYED</td>\n",
       "      <td>Male</td>\n",
       "      <td>MARRIED</td>\n",
       "      <td>NAGPUR</td>\n",
       "      <td>LG ELECTRONICS INDIA PVT.LTD</td>\n",
       "      <td>20181129</td>\n",
       "    </tr>\n",
       "    <tr>\n",
       "      <th>5</th>\n",
       "      <td>18152487</td>\n",
       "      <td>57.0</td>\n",
       "      <td>SALARIED</td>\n",
       "      <td>Female</td>\n",
       "      <td>MARRIED</td>\n",
       "      <td>KOTTAYAM</td>\n",
       "      <td>LG ELECTRONICS INDIA PVT.LTD</td>\n",
       "      <td>20181208</td>\n",
       "    </tr>\n",
       "    <tr>\n",
       "      <th>6</th>\n",
       "      <td>52374870</td>\n",
       "      <td>38.0</td>\n",
       "      <td>SELF EMPLOYED</td>\n",
       "      <td>Male</td>\n",
       "      <td>MARRIED</td>\n",
       "      <td>SANGLI</td>\n",
       "      <td>LG ELECTRONICS INDIA PVT.LTD</td>\n",
       "      <td>20181231</td>\n",
       "    </tr>\n",
       "  </tbody>\n",
       "</table>\n",
       "</div>"
      ],
      "text/plain": [
       "   customer_id   age          etype  gender maritalstatus        city                     manu_name  dis_data\n",
       "1     65592179  43.0  SELF EMPLOYED    Male       MARRIED  COIMBATORE  LG ELECTRONICS INDIA PVT.LTD  20181130\n",
       "3     20686212  30.0  SELF EMPLOYED    Male     UNMARRIED   JALANDHAR  LG ELECTRONICS INDIA PVT.LTD  20180925\n",
       "4     21550688  50.0  SELF EMPLOYED    Male       MARRIED      NAGPUR  LG ELECTRONICS INDIA PVT.LTD  20181129\n",
       "5     18152487  57.0       SALARIED  Female       MARRIED    KOTTAYAM  LG ELECTRONICS INDIA PVT.LTD  20181208\n",
       "6     52374870  38.0  SELF EMPLOYED    Male       MARRIED      SANGLI  LG ELECTRONICS INDIA PVT.LTD  20181231"
      ]
     },
     "execution_count": 17,
     "metadata": {},
     "output_type": "execute_result"
    }
   ],
   "source": [
    "df_clean.head()"
   ]
  },
  {
   "cell_type": "code",
   "execution_count": 18,
   "metadata": {},
   "outputs": [],
   "source": [
    "df = pd.merge(df_clean, state_data, on='city')"
   ]
  },
  {
   "cell_type": "code",
   "execution_count": 19,
   "metadata": {},
   "outputs": [
    {
     "data": {
      "text/html": [
       "<div>\n",
       "<style scoped>\n",
       "    .dataframe tbody tr th:only-of-type {\n",
       "        vertical-align: middle;\n",
       "    }\n",
       "\n",
       "    .dataframe tbody tr th {\n",
       "        vertical-align: top;\n",
       "    }\n",
       "\n",
       "    .dataframe thead th {\n",
       "        text-align: right;\n",
       "    }\n",
       "</style>\n",
       "<table border=\"1\" class=\"dataframe\">\n",
       "  <thead>\n",
       "    <tr style=\"text-align: right;\">\n",
       "      <th></th>\n",
       "      <th>customer_id</th>\n",
       "      <th>age</th>\n",
       "      <th>etype</th>\n",
       "      <th>gender</th>\n",
       "      <th>maritalstatus</th>\n",
       "      <th>city</th>\n",
       "      <th>manu_name</th>\n",
       "      <th>dis_data</th>\n",
       "      <th>State</th>\n",
       "    </tr>\n",
       "  </thead>\n",
       "  <tbody>\n",
       "    <tr>\n",
       "      <th>0</th>\n",
       "      <td>65592179</td>\n",
       "      <td>43.0</td>\n",
       "      <td>SELF EMPLOYED</td>\n",
       "      <td>Male</td>\n",
       "      <td>MARRIED</td>\n",
       "      <td>COIMBATORE</td>\n",
       "      <td>LG ELECTRONICS INDIA PVT.LTD</td>\n",
       "      <td>20181130</td>\n",
       "      <td>TN</td>\n",
       "    </tr>\n",
       "    <tr>\n",
       "      <th>1</th>\n",
       "      <td>40986359</td>\n",
       "      <td>36.0</td>\n",
       "      <td>SELF EMPLOYED</td>\n",
       "      <td>Male</td>\n",
       "      <td>MARRIED</td>\n",
       "      <td>COIMBATORE</td>\n",
       "      <td>LG ELECTRONICS INDIA PVT.LTD</td>\n",
       "      <td>20181211</td>\n",
       "      <td>TN</td>\n",
       "    </tr>\n",
       "    <tr>\n",
       "      <th>2</th>\n",
       "      <td>52417053</td>\n",
       "      <td>41.0</td>\n",
       "      <td>SALARIED</td>\n",
       "      <td>Male</td>\n",
       "      <td>MARRIED</td>\n",
       "      <td>COIMBATORE</td>\n",
       "      <td>LG ELECTRONICS INDIA PVT.LTD</td>\n",
       "      <td>20180929</td>\n",
       "      <td>TN</td>\n",
       "    </tr>\n",
       "    <tr>\n",
       "      <th>3</th>\n",
       "      <td>40907074</td>\n",
       "      <td>47.0</td>\n",
       "      <td>SELF EMPLOYED</td>\n",
       "      <td>Male</td>\n",
       "      <td>MARRIED</td>\n",
       "      <td>COIMBATORE</td>\n",
       "      <td>LG ELECTRONICS INDIA PVT.LTD</td>\n",
       "      <td>20181031</td>\n",
       "      <td>TN</td>\n",
       "    </tr>\n",
       "    <tr>\n",
       "      <th>4</th>\n",
       "      <td>50100344</td>\n",
       "      <td>37.0</td>\n",
       "      <td>SALARIED</td>\n",
       "      <td>Male</td>\n",
       "      <td>MARRIED</td>\n",
       "      <td>COIMBATORE</td>\n",
       "      <td>LG ELECTRONICS INDIA PVT.LTD</td>\n",
       "      <td>20181116</td>\n",
       "      <td>TN</td>\n",
       "    </tr>\n",
       "  </tbody>\n",
       "</table>\n",
       "</div>"
      ],
      "text/plain": [
       "   customer_id   age          etype gender maritalstatus        city                     manu_name  dis_data State\n",
       "0     65592179  43.0  SELF EMPLOYED   Male       MARRIED  COIMBATORE  LG ELECTRONICS INDIA PVT.LTD  20181130    TN\n",
       "1     40986359  36.0  SELF EMPLOYED   Male       MARRIED  COIMBATORE  LG ELECTRONICS INDIA PVT.LTD  20181211    TN\n",
       "2     52417053  41.0       SALARIED   Male       MARRIED  COIMBATORE  LG ELECTRONICS INDIA PVT.LTD  20180929    TN\n",
       "3     40907074  47.0  SELF EMPLOYED   Male       MARRIED  COIMBATORE  LG ELECTRONICS INDIA PVT.LTD  20181031    TN\n",
       "4     50100344  37.0       SALARIED   Male       MARRIED  COIMBATORE  LG ELECTRONICS INDIA PVT.LTD  20181116    TN"
      ]
     },
     "execution_count": 19,
     "metadata": {},
     "output_type": "execute_result"
    }
   ],
   "source": [
    "df.head()"
   ]
  },
  {
   "cell_type": "code",
   "execution_count": 20,
   "metadata": {},
   "outputs": [
    {
     "data": {
      "text/plain": [
       "(1333563, 9)"
      ]
     },
     "execution_count": 20,
     "metadata": {},
     "output_type": "execute_result"
    }
   ],
   "source": [
    "df.shape"
   ]
  },
  {
   "cell_type": "code",
   "execution_count": 21,
   "metadata": {},
   "outputs": [],
   "source": [
    "# Dropping all rows where state is not mapped \n",
    "df = df[df['State'].notnull()]"
   ]
  },
  {
   "cell_type": "code",
   "execution_count": 22,
   "metadata": {},
   "outputs": [
    {
     "data": {
      "text/plain": [
       "(995237, 9)"
      ]
     },
     "execution_count": 22,
     "metadata": {},
     "output_type": "execute_result"
    }
   ],
   "source": [
    "df.shape"
   ]
  },
  {
   "cell_type": "code",
   "execution_count": null,
   "metadata": {},
   "outputs": [],
   "source": []
  },
  {
   "cell_type": "code",
   "execution_count": 23,
   "metadata": {},
   "outputs": [],
   "source": [
    "# Binning age and finding floor of agebins and mapping it to df (optimise using pandas Interval datatype)\n",
    "def binning(df):\n",
    "    g = []\n",
    "    for elem in range(100):\n",
    "        if elem % 5 == 0:\n",
    "            #print(elem)\n",
    "            g.append(elem)\n",
    "    df['AgeRange'] = pd.cut(df['age'], g)\n",
    "    #from tqdm import tqdm\n",
    "    temp = ''\n",
    "    a = []\n",
    "    for i,row in df.iterrows():\n",
    "        temp = str(row['AgeRange'])\n",
    "        temp = temp.replace('(','')\n",
    "        temp = temp.split(',')\n",
    "        a.append(temp[0])\n",
    "    df['age_bin'] = a\n",
    "    return df\n",
    "if binning_required == True:\n",
    "    df = binning(df)\n"
   ]
  },
  {
   "cell_type": "code",
   "execution_count": 24,
   "metadata": {},
   "outputs": [],
   "source": [
    "# from tqdm import tqdm\n",
    "# temp = ''\n",
    "# a = []\n",
    "# for i,row in tqdm(df.iterrows(),total=df.shape[0]):\n",
    "#     temp = str(row['AgeRange'])\n",
    "#     temp = temp.replace('(','')\n",
    "#     temp = temp.split(',')\n",
    "#     a.append(temp[0])\n",
    "# df['age_bin'] = a"
   ]
  },
  {
   "cell_type": "code",
   "execution_count": 25,
   "metadata": {},
   "outputs": [
    {
     "data": {
      "text/html": [
       "<div>\n",
       "<style scoped>\n",
       "    .dataframe tbody tr th:only-of-type {\n",
       "        vertical-align: middle;\n",
       "    }\n",
       "\n",
       "    .dataframe tbody tr th {\n",
       "        vertical-align: top;\n",
       "    }\n",
       "\n",
       "    .dataframe thead th {\n",
       "        text-align: right;\n",
       "    }\n",
       "</style>\n",
       "<table border=\"1\" class=\"dataframe\">\n",
       "  <thead>\n",
       "    <tr style=\"text-align: right;\">\n",
       "      <th></th>\n",
       "      <th>customer_id</th>\n",
       "      <th>age</th>\n",
       "      <th>etype</th>\n",
       "      <th>gender</th>\n",
       "      <th>maritalstatus</th>\n",
       "      <th>city</th>\n",
       "      <th>manu_name</th>\n",
       "      <th>dis_data</th>\n",
       "      <th>State</th>\n",
       "      <th>AgeRange</th>\n",
       "      <th>age_bin</th>\n",
       "    </tr>\n",
       "  </thead>\n",
       "  <tbody>\n",
       "    <tr>\n",
       "      <th>0</th>\n",
       "      <td>65592179</td>\n",
       "      <td>43.0</td>\n",
       "      <td>SELF EMPLOYED</td>\n",
       "      <td>Male</td>\n",
       "      <td>MARRIED</td>\n",
       "      <td>COIMBATORE</td>\n",
       "      <td>LG ELECTRONICS INDIA PVT.LTD</td>\n",
       "      <td>20181130</td>\n",
       "      <td>TN</td>\n",
       "      <td>(40, 45]</td>\n",
       "      <td>40</td>\n",
       "    </tr>\n",
       "    <tr>\n",
       "      <th>1</th>\n",
       "      <td>40986359</td>\n",
       "      <td>36.0</td>\n",
       "      <td>SELF EMPLOYED</td>\n",
       "      <td>Male</td>\n",
       "      <td>MARRIED</td>\n",
       "      <td>COIMBATORE</td>\n",
       "      <td>LG ELECTRONICS INDIA PVT.LTD</td>\n",
       "      <td>20181211</td>\n",
       "      <td>TN</td>\n",
       "      <td>(35, 40]</td>\n",
       "      <td>35</td>\n",
       "    </tr>\n",
       "    <tr>\n",
       "      <th>2</th>\n",
       "      <td>52417053</td>\n",
       "      <td>41.0</td>\n",
       "      <td>SALARIED</td>\n",
       "      <td>Male</td>\n",
       "      <td>MARRIED</td>\n",
       "      <td>COIMBATORE</td>\n",
       "      <td>LG ELECTRONICS INDIA PVT.LTD</td>\n",
       "      <td>20180929</td>\n",
       "      <td>TN</td>\n",
       "      <td>(40, 45]</td>\n",
       "      <td>40</td>\n",
       "    </tr>\n",
       "    <tr>\n",
       "      <th>3</th>\n",
       "      <td>40907074</td>\n",
       "      <td>47.0</td>\n",
       "      <td>SELF EMPLOYED</td>\n",
       "      <td>Male</td>\n",
       "      <td>MARRIED</td>\n",
       "      <td>COIMBATORE</td>\n",
       "      <td>LG ELECTRONICS INDIA PVT.LTD</td>\n",
       "      <td>20181031</td>\n",
       "      <td>TN</td>\n",
       "      <td>(45, 50]</td>\n",
       "      <td>45</td>\n",
       "    </tr>\n",
       "    <tr>\n",
       "      <th>4</th>\n",
       "      <td>50100344</td>\n",
       "      <td>37.0</td>\n",
       "      <td>SALARIED</td>\n",
       "      <td>Male</td>\n",
       "      <td>MARRIED</td>\n",
       "      <td>COIMBATORE</td>\n",
       "      <td>LG ELECTRONICS INDIA PVT.LTD</td>\n",
       "      <td>20181116</td>\n",
       "      <td>TN</td>\n",
       "      <td>(35, 40]</td>\n",
       "      <td>35</td>\n",
       "    </tr>\n",
       "  </tbody>\n",
       "</table>\n",
       "</div>"
      ],
      "text/plain": [
       "   customer_id   age          etype gender maritalstatus        city                     manu_name  dis_data State  AgeRange age_bin\n",
       "0     65592179  43.0  SELF EMPLOYED   Male       MARRIED  COIMBATORE  LG ELECTRONICS INDIA PVT.LTD  20181130    TN  (40, 45]      40\n",
       "1     40986359  36.0  SELF EMPLOYED   Male       MARRIED  COIMBATORE  LG ELECTRONICS INDIA PVT.LTD  20181211    TN  (35, 40]      35\n",
       "2     52417053  41.0       SALARIED   Male       MARRIED  COIMBATORE  LG ELECTRONICS INDIA PVT.LTD  20180929    TN  (40, 45]      40\n",
       "3     40907074  47.0  SELF EMPLOYED   Male       MARRIED  COIMBATORE  LG ELECTRONICS INDIA PVT.LTD  20181031    TN  (45, 50]      45\n",
       "4     50100344  37.0       SALARIED   Male       MARRIED  COIMBATORE  LG ELECTRONICS INDIA PVT.LTD  20181116    TN  (35, 40]      35"
      ]
     },
     "execution_count": 25,
     "metadata": {},
     "output_type": "execute_result"
    }
   ],
   "source": [
    "df.head()"
   ]
  },
  {
   "cell_type": "code",
   "execution_count": 26,
   "metadata": {},
   "outputs": [],
   "source": [
    "df['etype'] = df['etype'].replace({'SELF EMPLOYED': 'self_employed', 'Self Employed': 'self_employed', 'SELF EMPLOYED PROFESSIONAL': 'self_employed','Self Employed Professional':'self_employed'})"
   ]
  },
  {
   "cell_type": "code",
   "execution_count": 27,
   "metadata": {},
   "outputs": [],
   "source": [
    "df['etype'] = df['etype'].replace({'SALARIED': 'salaried', 'Salaried': 'salaried', 'SAL': 'salaried'})"
   ]
  },
  {
   "cell_type": "code",
   "execution_count": 28,
   "metadata": {},
   "outputs": [
    {
     "data": {
      "text/plain": [
       "self_employed      860613\n",
       "salaried           134401\n",
       "Not Categorized       206\n",
       "OTHERS                 17\n",
       "Name: etype, dtype: int64"
      ]
     },
     "execution_count": 28,
     "metadata": {},
     "output_type": "execute_result"
    }
   ],
   "source": [
    "df.etype.value_counts()"
   ]
  },
  {
   "cell_type": "code",
   "execution_count": 29,
   "metadata": {},
   "outputs": [
    {
     "data": {
      "text/plain": [
       "MARRIED      876667\n",
       "UNMARRIED    118376\n",
       "DIVORCEE        167\n",
       "WIDOW            27\n",
       "Name: maritalstatus, dtype: int64"
      ]
     },
     "execution_count": 29,
     "metadata": {},
     "output_type": "execute_result"
    }
   ],
   "source": [
    "df.maritalstatus.value_counts()"
   ]
  },
  {
   "cell_type": "code",
   "execution_count": 30,
   "metadata": {},
   "outputs": [
    {
     "name": "stderr",
     "output_type": "stream",
     "text": [
      "100%|██████████| 995237/995237 [01:37<00:00, 10179.23it/s]\n"
     ]
    }
   ],
   "source": [
    "# Optimise or will handle at sql end\n",
    "yyyymm = ''\n",
    "yyyy = ''\n",
    "mm = ''\n",
    "temp = ''\n",
    "list_yyyymm = []\n",
    "list_yyyy = []\n",
    "list_mm = []\n",
    "from tqdm import tqdm\n",
    "for i,row in tqdm(df.iterrows(),total = df.shape[0]):\n",
    "    temp = row['dis_data']\n",
    "    yyyymm = str(temp)[:6]\n",
    "    yyyy = str(temp)[:4]\n",
    "    mm = str(temp)[4:6]\n",
    "    list_yyyymm.append(yyyymm)\n",
    "    list_yyyy.append(yyyy)\n",
    "    list_mm.append(mm)"
   ]
  },
  {
   "cell_type": "code",
   "execution_count": 31,
   "metadata": {},
   "outputs": [],
   "source": [
    "df['yyyymm'] = list_yyyymm\n",
    "df['yyyy'] = list_yyyy\n",
    "df['mm'] = list_mm"
   ]
  },
  {
   "cell_type": "code",
   "execution_count": 32,
   "metadata": {},
   "outputs": [],
   "source": [
    "df = df.dropna()"
   ]
  },
  {
   "cell_type": "code",
   "execution_count": 33,
   "metadata": {},
   "outputs": [],
   "source": [
    "# temp = ''\n",
    "# a = []\n",
    "# for i,row in tqdm(df.iterrows(),total=df.shape[0]):\n",
    "#     temp = str(row['AgeRange'])\n",
    "#     temp = temp.replace('(','')\n",
    "#     temp = temp.split(',')\n",
    "#     a.append(temp[0])\n",
    "# df['age_bin'] = a"
   ]
  },
  {
   "cell_type": "code",
   "execution_count": 34,
   "metadata": {},
   "outputs": [],
   "source": [
    "del df['customer_id']\n",
    "del df['city']\n",
    "del df['dis_data']\n",
    "del df['AgeRange']"
   ]
  },
  {
   "cell_type": "code",
   "execution_count": 35,
   "metadata": {},
   "outputs": [
    {
     "data": {
      "text/html": [
       "<div>\n",
       "<style scoped>\n",
       "    .dataframe tbody tr th:only-of-type {\n",
       "        vertical-align: middle;\n",
       "    }\n",
       "\n",
       "    .dataframe tbody tr th {\n",
       "        vertical-align: top;\n",
       "    }\n",
       "\n",
       "    .dataframe thead th {\n",
       "        text-align: right;\n",
       "    }\n",
       "</style>\n",
       "<table border=\"1\" class=\"dataframe\">\n",
       "  <thead>\n",
       "    <tr style=\"text-align: right;\">\n",
       "      <th></th>\n",
       "      <th>age</th>\n",
       "      <th>etype</th>\n",
       "      <th>gender</th>\n",
       "      <th>maritalstatus</th>\n",
       "      <th>manu_name</th>\n",
       "      <th>State</th>\n",
       "      <th>age_bin</th>\n",
       "      <th>yyyymm</th>\n",
       "      <th>yyyy</th>\n",
       "      <th>mm</th>\n",
       "    </tr>\n",
       "  </thead>\n",
       "  <tbody>\n",
       "    <tr>\n",
       "      <th>0</th>\n",
       "      <td>43.0</td>\n",
       "      <td>self_employed</td>\n",
       "      <td>Male</td>\n",
       "      <td>MARRIED</td>\n",
       "      <td>LG ELECTRONICS INDIA PVT.LTD</td>\n",
       "      <td>TN</td>\n",
       "      <td>40</td>\n",
       "      <td>201811</td>\n",
       "      <td>2018</td>\n",
       "      <td>11</td>\n",
       "    </tr>\n",
       "    <tr>\n",
       "      <th>1</th>\n",
       "      <td>36.0</td>\n",
       "      <td>self_employed</td>\n",
       "      <td>Male</td>\n",
       "      <td>MARRIED</td>\n",
       "      <td>LG ELECTRONICS INDIA PVT.LTD</td>\n",
       "      <td>TN</td>\n",
       "      <td>35</td>\n",
       "      <td>201812</td>\n",
       "      <td>2018</td>\n",
       "      <td>12</td>\n",
       "    </tr>\n",
       "    <tr>\n",
       "      <th>2</th>\n",
       "      <td>41.0</td>\n",
       "      <td>salaried</td>\n",
       "      <td>Male</td>\n",
       "      <td>MARRIED</td>\n",
       "      <td>LG ELECTRONICS INDIA PVT.LTD</td>\n",
       "      <td>TN</td>\n",
       "      <td>40</td>\n",
       "      <td>201809</td>\n",
       "      <td>2018</td>\n",
       "      <td>09</td>\n",
       "    </tr>\n",
       "    <tr>\n",
       "      <th>3</th>\n",
       "      <td>47.0</td>\n",
       "      <td>self_employed</td>\n",
       "      <td>Male</td>\n",
       "      <td>MARRIED</td>\n",
       "      <td>LG ELECTRONICS INDIA PVT.LTD</td>\n",
       "      <td>TN</td>\n",
       "      <td>45</td>\n",
       "      <td>201810</td>\n",
       "      <td>2018</td>\n",
       "      <td>10</td>\n",
       "    </tr>\n",
       "    <tr>\n",
       "      <th>4</th>\n",
       "      <td>37.0</td>\n",
       "      <td>salaried</td>\n",
       "      <td>Male</td>\n",
       "      <td>MARRIED</td>\n",
       "      <td>LG ELECTRONICS INDIA PVT.LTD</td>\n",
       "      <td>TN</td>\n",
       "      <td>35</td>\n",
       "      <td>201811</td>\n",
       "      <td>2018</td>\n",
       "      <td>11</td>\n",
       "    </tr>\n",
       "  </tbody>\n",
       "</table>\n",
       "</div>"
      ],
      "text/plain": [
       "    age          etype gender maritalstatus                     manu_name State age_bin  yyyymm  yyyy  mm\n",
       "0  43.0  self_employed   Male       MARRIED  LG ELECTRONICS INDIA PVT.LTD    TN      40  201811  2018  11\n",
       "1  36.0  self_employed   Male       MARRIED  LG ELECTRONICS INDIA PVT.LTD    TN      35  201812  2018  12\n",
       "2  41.0       salaried   Male       MARRIED  LG ELECTRONICS INDIA PVT.LTD    TN      40  201809  2018  09\n",
       "3  47.0  self_employed   Male       MARRIED  LG ELECTRONICS INDIA PVT.LTD    TN      45  201810  2018  10\n",
       "4  37.0       salaried   Male       MARRIED  LG ELECTRONICS INDIA PVT.LTD    TN      35  201811  2018  11"
      ]
     },
     "execution_count": 35,
     "metadata": {},
     "output_type": "execute_result"
    }
   ],
   "source": [
    "df.head()"
   ]
  },
  {
   "cell_type": "code",
   "execution_count": 36,
   "metadata": {},
   "outputs": [],
   "source": [
    "df1 = df.manu_name.value_counts().to_frame().reset_index()"
   ]
  },
  {
   "cell_type": "code",
   "execution_count": 37,
   "metadata": {},
   "outputs": [],
   "source": [
    "df1.columns = ['brand','count']"
   ]
  },
  {
   "cell_type": "code",
   "execution_count": 38,
   "metadata": {},
   "outputs": [],
   "source": [
    "top_7 = df1.iloc[:7].brand.tolist()"
   ]
  },
  {
   "cell_type": "code",
   "execution_count": 39,
   "metadata": {},
   "outputs": [],
   "source": [
    "df= df.drop(df[(df['manu_name'] != top_7[0]) & (df['manu_name'] != top_7[1]) & (df['manu_name'] != top_7[2]) & (df['manu_name'] != top_7[3]) & (df['manu_name'] != top_7[4]) & (df['manu_name'] != top_7[5]) & (df['manu_name'] != top_7[6])].index)"
   ]
  },
  {
   "cell_type": "code",
   "execution_count": 40,
   "metadata": {},
   "outputs": [
    {
     "data": {
      "text/html": [
       "<div>\n",
       "<style scoped>\n",
       "    .dataframe tbody tr th:only-of-type {\n",
       "        vertical-align: middle;\n",
       "    }\n",
       "\n",
       "    .dataframe tbody tr th {\n",
       "        vertical-align: top;\n",
       "    }\n",
       "\n",
       "    .dataframe thead th {\n",
       "        text-align: right;\n",
       "    }\n",
       "</style>\n",
       "<table border=\"1\" class=\"dataframe\">\n",
       "  <thead>\n",
       "    <tr style=\"text-align: right;\">\n",
       "      <th></th>\n",
       "      <th>age</th>\n",
       "      <th>etype</th>\n",
       "      <th>gender</th>\n",
       "      <th>maritalstatus</th>\n",
       "      <th>manu_name</th>\n",
       "      <th>State</th>\n",
       "      <th>age_bin</th>\n",
       "      <th>yyyymm</th>\n",
       "      <th>yyyy</th>\n",
       "      <th>mm</th>\n",
       "    </tr>\n",
       "  </thead>\n",
       "  <tbody>\n",
       "    <tr>\n",
       "      <th>0</th>\n",
       "      <td>43.0</td>\n",
       "      <td>self_employed</td>\n",
       "      <td>Male</td>\n",
       "      <td>MARRIED</td>\n",
       "      <td>LG ELECTRONICS INDIA PVT.LTD</td>\n",
       "      <td>TN</td>\n",
       "      <td>40</td>\n",
       "      <td>201811</td>\n",
       "      <td>2018</td>\n",
       "      <td>11</td>\n",
       "    </tr>\n",
       "    <tr>\n",
       "      <th>1</th>\n",
       "      <td>36.0</td>\n",
       "      <td>self_employed</td>\n",
       "      <td>Male</td>\n",
       "      <td>MARRIED</td>\n",
       "      <td>LG ELECTRONICS INDIA PVT.LTD</td>\n",
       "      <td>TN</td>\n",
       "      <td>35</td>\n",
       "      <td>201812</td>\n",
       "      <td>2018</td>\n",
       "      <td>12</td>\n",
       "    </tr>\n",
       "    <tr>\n",
       "      <th>2</th>\n",
       "      <td>41.0</td>\n",
       "      <td>salaried</td>\n",
       "      <td>Male</td>\n",
       "      <td>MARRIED</td>\n",
       "      <td>LG ELECTRONICS INDIA PVT.LTD</td>\n",
       "      <td>TN</td>\n",
       "      <td>40</td>\n",
       "      <td>201809</td>\n",
       "      <td>2018</td>\n",
       "      <td>09</td>\n",
       "    </tr>\n",
       "    <tr>\n",
       "      <th>3</th>\n",
       "      <td>47.0</td>\n",
       "      <td>self_employed</td>\n",
       "      <td>Male</td>\n",
       "      <td>MARRIED</td>\n",
       "      <td>LG ELECTRONICS INDIA PVT.LTD</td>\n",
       "      <td>TN</td>\n",
       "      <td>45</td>\n",
       "      <td>201810</td>\n",
       "      <td>2018</td>\n",
       "      <td>10</td>\n",
       "    </tr>\n",
       "    <tr>\n",
       "      <th>4</th>\n",
       "      <td>37.0</td>\n",
       "      <td>salaried</td>\n",
       "      <td>Male</td>\n",
       "      <td>MARRIED</td>\n",
       "      <td>LG ELECTRONICS INDIA PVT.LTD</td>\n",
       "      <td>TN</td>\n",
       "      <td>35</td>\n",
       "      <td>201811</td>\n",
       "      <td>2018</td>\n",
       "      <td>11</td>\n",
       "    </tr>\n",
       "  </tbody>\n",
       "</table>\n",
       "</div>"
      ],
      "text/plain": [
       "    age          etype gender maritalstatus                     manu_name State age_bin  yyyymm  yyyy  mm\n",
       "0  43.0  self_employed   Male       MARRIED  LG ELECTRONICS INDIA PVT.LTD    TN      40  201811  2018  11\n",
       "1  36.0  self_employed   Male       MARRIED  LG ELECTRONICS INDIA PVT.LTD    TN      35  201812  2018  12\n",
       "2  41.0       salaried   Male       MARRIED  LG ELECTRONICS INDIA PVT.LTD    TN      40  201809  2018  09\n",
       "3  47.0  self_employed   Male       MARRIED  LG ELECTRONICS INDIA PVT.LTD    TN      45  201810  2018  10\n",
       "4  37.0       salaried   Male       MARRIED  LG ELECTRONICS INDIA PVT.LTD    TN      35  201811  2018  11"
      ]
     },
     "execution_count": 40,
     "metadata": {},
     "output_type": "execute_result"
    }
   ],
   "source": [
    "df.head()"
   ]
  },
  {
   "cell_type": "code",
   "execution_count": 41,
   "metadata": {},
   "outputs": [
    {
     "data": {
      "text/plain": [
       "(892649, 10)"
      ]
     },
     "execution_count": 41,
     "metadata": {},
     "output_type": "execute_result"
    }
   ],
   "source": [
    "df.shape"
   ]
  },
  {
   "cell_type": "code",
   "execution_count": 42,
   "metadata": {},
   "outputs": [
    {
     "data": {
      "text/plain": [
       "SONY INDIA LIMITED                            258420\n",
       "LG ELECTRONICS INDIA PVT.LTD                  231898\n",
       "SAMSUNG ELECTRONICS INDIA LIMITED             213826\n",
       "PANASONIC INDIA LIMITED                       109863\n",
       "LLOYD ELECTRIC & ENGINEERING LIMITED(LEEL)     30725\n",
       "HAIER APPLIANCES (INDIA) P.LIMITED             29433\n",
       "INTEX                                          18484\n",
       "Name: manu_name, dtype: int64"
      ]
     },
     "execution_count": 42,
     "metadata": {},
     "output_type": "execute_result"
    }
   ],
   "source": [
    "df.manu_name.value_counts()"
   ]
  },
  {
   "cell_type": "code",
   "execution_count": 43,
   "metadata": {},
   "outputs": [],
   "source": [
    "from sklearn import preprocessing"
   ]
  },
  {
   "cell_type": "code",
   "execution_count": 44,
   "metadata": {},
   "outputs": [],
   "source": [
    "le = preprocessing.LabelEncoder()"
   ]
  },
  {
   "cell_type": "code",
   "execution_count": 45,
   "metadata": {},
   "outputs": [
    {
     "data": {
      "text/plain": [
       "LabelEncoder()"
      ]
     },
     "execution_count": 45,
     "metadata": {},
     "output_type": "execute_result"
    }
   ],
   "source": [
    "le.fit(df.manu_name.unique())"
   ]
  },
  {
   "cell_type": "code",
   "execution_count": 46,
   "metadata": {},
   "outputs": [
    {
     "data": {
      "text/plain": [
       "array(['HAIER APPLIANCES (INDIA) P.LIMITED', 'INTEX',\n",
       "       'LG ELECTRONICS INDIA PVT.LTD',\n",
       "       'LLOYD ELECTRIC & ENGINEERING LIMITED(LEEL)',\n",
       "       'PANASONIC INDIA LIMITED', 'SAMSUNG ELECTRONICS INDIA LIMITED',\n",
       "       'SONY INDIA LIMITED'], dtype=object)"
      ]
     },
     "execution_count": 46,
     "metadata": {},
     "output_type": "execute_result"
    }
   ],
   "source": [
    "le.classes_"
   ]
  },
  {
   "cell_type": "code",
   "execution_count": 47,
   "metadata": {},
   "outputs": [],
   "source": [
    "df['label'] = le.transform(df.manu_name)"
   ]
  },
  {
   "cell_type": "code",
   "execution_count": 48,
   "metadata": {},
   "outputs": [
    {
     "data": {
      "text/plain": [
       "6    258420\n",
       "2    231898\n",
       "5    213826\n",
       "4    109863\n",
       "3     30725\n",
       "0     29433\n",
       "1     18484\n",
       "Name: label, dtype: int64"
      ]
     },
     "execution_count": 48,
     "metadata": {},
     "output_type": "execute_result"
    }
   ],
   "source": [
    "df.label.value_counts()"
   ]
  },
  {
   "cell_type": "code",
   "execution_count": 49,
   "metadata": {},
   "outputs": [
    {
     "data": {
      "text/html": [
       "<div>\n",
       "<style scoped>\n",
       "    .dataframe tbody tr th:only-of-type {\n",
       "        vertical-align: middle;\n",
       "    }\n",
       "\n",
       "    .dataframe tbody tr th {\n",
       "        vertical-align: top;\n",
       "    }\n",
       "\n",
       "    .dataframe thead th {\n",
       "        text-align: right;\n",
       "    }\n",
       "</style>\n",
       "<table border=\"1\" class=\"dataframe\">\n",
       "  <thead>\n",
       "    <tr style=\"text-align: right;\">\n",
       "      <th></th>\n",
       "      <th>age</th>\n",
       "      <th>etype</th>\n",
       "      <th>gender</th>\n",
       "      <th>maritalstatus</th>\n",
       "      <th>manu_name</th>\n",
       "      <th>State</th>\n",
       "      <th>age_bin</th>\n",
       "      <th>yyyymm</th>\n",
       "      <th>yyyy</th>\n",
       "      <th>mm</th>\n",
       "      <th>label</th>\n",
       "    </tr>\n",
       "  </thead>\n",
       "  <tbody>\n",
       "    <tr>\n",
       "      <th>0</th>\n",
       "      <td>43.0</td>\n",
       "      <td>self_employed</td>\n",
       "      <td>Male</td>\n",
       "      <td>MARRIED</td>\n",
       "      <td>LG ELECTRONICS INDIA PVT.LTD</td>\n",
       "      <td>TN</td>\n",
       "      <td>40</td>\n",
       "      <td>201811</td>\n",
       "      <td>2018</td>\n",
       "      <td>11</td>\n",
       "      <td>2</td>\n",
       "    </tr>\n",
       "    <tr>\n",
       "      <th>1</th>\n",
       "      <td>36.0</td>\n",
       "      <td>self_employed</td>\n",
       "      <td>Male</td>\n",
       "      <td>MARRIED</td>\n",
       "      <td>LG ELECTRONICS INDIA PVT.LTD</td>\n",
       "      <td>TN</td>\n",
       "      <td>35</td>\n",
       "      <td>201812</td>\n",
       "      <td>2018</td>\n",
       "      <td>12</td>\n",
       "      <td>2</td>\n",
       "    </tr>\n",
       "    <tr>\n",
       "      <th>2</th>\n",
       "      <td>41.0</td>\n",
       "      <td>salaried</td>\n",
       "      <td>Male</td>\n",
       "      <td>MARRIED</td>\n",
       "      <td>LG ELECTRONICS INDIA PVT.LTD</td>\n",
       "      <td>TN</td>\n",
       "      <td>40</td>\n",
       "      <td>201809</td>\n",
       "      <td>2018</td>\n",
       "      <td>09</td>\n",
       "      <td>2</td>\n",
       "    </tr>\n",
       "    <tr>\n",
       "      <th>3</th>\n",
       "      <td>47.0</td>\n",
       "      <td>self_employed</td>\n",
       "      <td>Male</td>\n",
       "      <td>MARRIED</td>\n",
       "      <td>LG ELECTRONICS INDIA PVT.LTD</td>\n",
       "      <td>TN</td>\n",
       "      <td>45</td>\n",
       "      <td>201810</td>\n",
       "      <td>2018</td>\n",
       "      <td>10</td>\n",
       "      <td>2</td>\n",
       "    </tr>\n",
       "    <tr>\n",
       "      <th>4</th>\n",
       "      <td>37.0</td>\n",
       "      <td>salaried</td>\n",
       "      <td>Male</td>\n",
       "      <td>MARRIED</td>\n",
       "      <td>LG ELECTRONICS INDIA PVT.LTD</td>\n",
       "      <td>TN</td>\n",
       "      <td>35</td>\n",
       "      <td>201811</td>\n",
       "      <td>2018</td>\n",
       "      <td>11</td>\n",
       "      <td>2</td>\n",
       "    </tr>\n",
       "  </tbody>\n",
       "</table>\n",
       "</div>"
      ],
      "text/plain": [
       "    age          etype gender maritalstatus                     manu_name State age_bin  yyyymm  yyyy  mm  label\n",
       "0  43.0  self_employed   Male       MARRIED  LG ELECTRONICS INDIA PVT.LTD    TN      40  201811  2018  11      2\n",
       "1  36.0  self_employed   Male       MARRIED  LG ELECTRONICS INDIA PVT.LTD    TN      35  201812  2018  12      2\n",
       "2  41.0       salaried   Male       MARRIED  LG ELECTRONICS INDIA PVT.LTD    TN      40  201809  2018  09      2\n",
       "3  47.0  self_employed   Male       MARRIED  LG ELECTRONICS INDIA PVT.LTD    TN      45  201810  2018  10      2\n",
       "4  37.0       salaried   Male       MARRIED  LG ELECTRONICS INDIA PVT.LTD    TN      35  201811  2018  11      2"
      ]
     },
     "execution_count": 49,
     "metadata": {},
     "output_type": "execute_result"
    }
   ],
   "source": [
    "df.head()"
   ]
  },
  {
   "cell_type": "code",
   "execution_count": 50,
   "metadata": {},
   "outputs": [],
   "source": [
    "del df['manu_name']"
   ]
  },
  {
   "cell_type": "code",
   "execution_count": null,
   "metadata": {},
   "outputs": [],
   "source": []
  },
  {
   "cell_type": "markdown",
   "metadata": {},
   "source": [
    "# Preprocessing done, Model wrangling starts"
   ]
  },
  {
   "cell_type": "code",
   "execution_count": 51,
   "metadata": {},
   "outputs": [],
   "source": [
    "from sklearn.preprocessing import OneHotEncoder\n",
    "from sklearn.model_selection import train_test_split\n",
    "from sklearn.metrics import accuracy_score\n",
    "from sklearn.model_selection import train_test_split"
   ]
  },
  {
   "cell_type": "code",
   "execution_count": 52,
   "metadata": {},
   "outputs": [],
   "source": [
    "one_hot = pd.get_dummies(df['etype'])\n",
    "df = df.drop('etype',axis = 1)\n",
    "df = df.join(one_hot)\n",
    "\n",
    "one_hot = pd.get_dummies(df['gender'])\n",
    "df = df.drop('gender',axis = 1)\n",
    "df = df.join(one_hot)\n",
    "\n",
    "one_hot = pd.get_dummies(df['maritalstatus'])\n",
    "df = df.drop('maritalstatus',axis = 1)\n",
    "df = df.join(one_hot)\n",
    "\n",
    "one_hot = pd.get_dummies(df['State'])\n",
    "df = df.drop('State',axis = 1)\n",
    "df = df.join(one_hot)"
   ]
  },
  {
   "cell_type": "code",
   "execution_count": 53,
   "metadata": {},
   "outputs": [
    {
     "data": {
      "text/html": [
       "<div>\n",
       "<style scoped>\n",
       "    .dataframe tbody tr th:only-of-type {\n",
       "        vertical-align: middle;\n",
       "    }\n",
       "\n",
       "    .dataframe tbody tr th {\n",
       "        vertical-align: top;\n",
       "    }\n",
       "\n",
       "    .dataframe thead th {\n",
       "        text-align: right;\n",
       "    }\n",
       "</style>\n",
       "<table border=\"1\" class=\"dataframe\">\n",
       "  <thead>\n",
       "    <tr style=\"text-align: right;\">\n",
       "      <th></th>\n",
       "      <th>age</th>\n",
       "      <th>age_bin</th>\n",
       "      <th>yyyymm</th>\n",
       "      <th>yyyy</th>\n",
       "      <th>mm</th>\n",
       "      <th>label</th>\n",
       "      <th>Not Categorized</th>\n",
       "      <th>OTHERS</th>\n",
       "      <th>salaried</th>\n",
       "      <th>self_employed</th>\n",
       "      <th>Female</th>\n",
       "      <th>Male</th>\n",
       "      <th>DIVORCEE</th>\n",
       "      <th>MARRIED</th>\n",
       "      <th>UNMARRIED</th>\n",
       "      <th>WIDOW</th>\n",
       "      <th>AP</th>\n",
       "      <th>BH</th>\n",
       "      <th>BR</th>\n",
       "      <th>DELHI</th>\n",
       "      <th>GJ</th>\n",
       "      <th>HR</th>\n",
       "      <th>KA</th>\n",
       "      <th>KE</th>\n",
       "      <th>MH</th>\n",
       "      <th>MP</th>\n",
       "      <th>OR</th>\n",
       "      <th>PU</th>\n",
       "      <th>RJ</th>\n",
       "      <th>TN</th>\n",
       "      <th>UK</th>\n",
       "      <th>UP</th>\n",
       "      <th>WB</th>\n",
       "    </tr>\n",
       "  </thead>\n",
       "  <tbody>\n",
       "    <tr>\n",
       "      <th>0</th>\n",
       "      <td>43.0</td>\n",
       "      <td>40</td>\n",
       "      <td>201811</td>\n",
       "      <td>2018</td>\n",
       "      <td>11</td>\n",
       "      <td>2</td>\n",
       "      <td>0</td>\n",
       "      <td>0</td>\n",
       "      <td>0</td>\n",
       "      <td>1</td>\n",
       "      <td>0</td>\n",
       "      <td>1</td>\n",
       "      <td>0</td>\n",
       "      <td>1</td>\n",
       "      <td>0</td>\n",
       "      <td>0</td>\n",
       "      <td>0</td>\n",
       "      <td>0</td>\n",
       "      <td>0</td>\n",
       "      <td>0</td>\n",
       "      <td>0</td>\n",
       "      <td>0</td>\n",
       "      <td>0</td>\n",
       "      <td>0</td>\n",
       "      <td>0</td>\n",
       "      <td>0</td>\n",
       "      <td>0</td>\n",
       "      <td>0</td>\n",
       "      <td>0</td>\n",
       "      <td>1</td>\n",
       "      <td>0</td>\n",
       "      <td>0</td>\n",
       "      <td>0</td>\n",
       "    </tr>\n",
       "    <tr>\n",
       "      <th>1</th>\n",
       "      <td>36.0</td>\n",
       "      <td>35</td>\n",
       "      <td>201812</td>\n",
       "      <td>2018</td>\n",
       "      <td>12</td>\n",
       "      <td>2</td>\n",
       "      <td>0</td>\n",
       "      <td>0</td>\n",
       "      <td>0</td>\n",
       "      <td>1</td>\n",
       "      <td>0</td>\n",
       "      <td>1</td>\n",
       "      <td>0</td>\n",
       "      <td>1</td>\n",
       "      <td>0</td>\n",
       "      <td>0</td>\n",
       "      <td>0</td>\n",
       "      <td>0</td>\n",
       "      <td>0</td>\n",
       "      <td>0</td>\n",
       "      <td>0</td>\n",
       "      <td>0</td>\n",
       "      <td>0</td>\n",
       "      <td>0</td>\n",
       "      <td>0</td>\n",
       "      <td>0</td>\n",
       "      <td>0</td>\n",
       "      <td>0</td>\n",
       "      <td>0</td>\n",
       "      <td>1</td>\n",
       "      <td>0</td>\n",
       "      <td>0</td>\n",
       "      <td>0</td>\n",
       "    </tr>\n",
       "    <tr>\n",
       "      <th>2</th>\n",
       "      <td>41.0</td>\n",
       "      <td>40</td>\n",
       "      <td>201809</td>\n",
       "      <td>2018</td>\n",
       "      <td>09</td>\n",
       "      <td>2</td>\n",
       "      <td>0</td>\n",
       "      <td>0</td>\n",
       "      <td>1</td>\n",
       "      <td>0</td>\n",
       "      <td>0</td>\n",
       "      <td>1</td>\n",
       "      <td>0</td>\n",
       "      <td>1</td>\n",
       "      <td>0</td>\n",
       "      <td>0</td>\n",
       "      <td>0</td>\n",
       "      <td>0</td>\n",
       "      <td>0</td>\n",
       "      <td>0</td>\n",
       "      <td>0</td>\n",
       "      <td>0</td>\n",
       "      <td>0</td>\n",
       "      <td>0</td>\n",
       "      <td>0</td>\n",
       "      <td>0</td>\n",
       "      <td>0</td>\n",
       "      <td>0</td>\n",
       "      <td>0</td>\n",
       "      <td>1</td>\n",
       "      <td>0</td>\n",
       "      <td>0</td>\n",
       "      <td>0</td>\n",
       "    </tr>\n",
       "    <tr>\n",
       "      <th>3</th>\n",
       "      <td>47.0</td>\n",
       "      <td>45</td>\n",
       "      <td>201810</td>\n",
       "      <td>2018</td>\n",
       "      <td>10</td>\n",
       "      <td>2</td>\n",
       "      <td>0</td>\n",
       "      <td>0</td>\n",
       "      <td>0</td>\n",
       "      <td>1</td>\n",
       "      <td>0</td>\n",
       "      <td>1</td>\n",
       "      <td>0</td>\n",
       "      <td>1</td>\n",
       "      <td>0</td>\n",
       "      <td>0</td>\n",
       "      <td>0</td>\n",
       "      <td>0</td>\n",
       "      <td>0</td>\n",
       "      <td>0</td>\n",
       "      <td>0</td>\n",
       "      <td>0</td>\n",
       "      <td>0</td>\n",
       "      <td>0</td>\n",
       "      <td>0</td>\n",
       "      <td>0</td>\n",
       "      <td>0</td>\n",
       "      <td>0</td>\n",
       "      <td>0</td>\n",
       "      <td>1</td>\n",
       "      <td>0</td>\n",
       "      <td>0</td>\n",
       "      <td>0</td>\n",
       "    </tr>\n",
       "    <tr>\n",
       "      <th>4</th>\n",
       "      <td>37.0</td>\n",
       "      <td>35</td>\n",
       "      <td>201811</td>\n",
       "      <td>2018</td>\n",
       "      <td>11</td>\n",
       "      <td>2</td>\n",
       "      <td>0</td>\n",
       "      <td>0</td>\n",
       "      <td>1</td>\n",
       "      <td>0</td>\n",
       "      <td>0</td>\n",
       "      <td>1</td>\n",
       "      <td>0</td>\n",
       "      <td>1</td>\n",
       "      <td>0</td>\n",
       "      <td>0</td>\n",
       "      <td>0</td>\n",
       "      <td>0</td>\n",
       "      <td>0</td>\n",
       "      <td>0</td>\n",
       "      <td>0</td>\n",
       "      <td>0</td>\n",
       "      <td>0</td>\n",
       "      <td>0</td>\n",
       "      <td>0</td>\n",
       "      <td>0</td>\n",
       "      <td>0</td>\n",
       "      <td>0</td>\n",
       "      <td>0</td>\n",
       "      <td>1</td>\n",
       "      <td>0</td>\n",
       "      <td>0</td>\n",
       "      <td>0</td>\n",
       "    </tr>\n",
       "  </tbody>\n",
       "</table>\n",
       "</div>"
      ],
      "text/plain": [
       "    age age_bin  yyyymm  yyyy  mm  label  Not Categorized  OTHERS  salaried  self_employed  Female  Male  DIVORCEE  MARRIED  UNMARRIED  WIDOW  AP  BH  BR  DELHI  GJ  HR  KA  KE  MH  MP  OR  PU  RJ  TN  UK  UP  WB\n",
       "0  43.0      40  201811  2018  11      2                0       0         0              1       0     1         0        1          0      0   0   0   0      0   0   0   0   0   0   0   0   0   0   1   0   0   0\n",
       "1  36.0      35  201812  2018  12      2                0       0         0              1       0     1         0        1          0      0   0   0   0      0   0   0   0   0   0   0   0   0   0   1   0   0   0\n",
       "2  41.0      40  201809  2018  09      2                0       0         1              0       0     1         0        1          0      0   0   0   0      0   0   0   0   0   0   0   0   0   0   1   0   0   0\n",
       "3  47.0      45  201810  2018  10      2                0       0         0              1       0     1         0        1          0      0   0   0   0      0   0   0   0   0   0   0   0   0   0   1   0   0   0\n",
       "4  37.0      35  201811  2018  11      2                0       0         1              0       0     1         0        1          0      0   0   0   0      0   0   0   0   0   0   0   0   0   0   1   0   0   0"
      ]
     },
     "execution_count": 53,
     "metadata": {},
     "output_type": "execute_result"
    }
   ],
   "source": [
    "df.head()"
   ]
  },
  {
   "cell_type": "code",
   "execution_count": 54,
   "metadata": {},
   "outputs": [
    {
     "data": {
      "text/plain": [
       "(892649, 33)"
      ]
     },
     "execution_count": 54,
     "metadata": {},
     "output_type": "execute_result"
    }
   ],
   "source": [
    "df.shape"
   ]
  },
  {
   "cell_type": "code",
   "execution_count": 55,
   "metadata": {
    "scrolled": true
   },
   "outputs": [],
   "source": [
    "#df.dtypes\n",
    "#df.to_csv('all_data_train.csv',index=None)"
   ]
  },
  {
   "cell_type": "code",
   "execution_count": 56,
   "metadata": {},
   "outputs": [],
   "source": [
    "y = df.label.tolist()\n",
    "del df['label']\n",
    "X = df.copy()"
   ]
  },
  {
   "cell_type": "code",
   "execution_count": 57,
   "metadata": {},
   "outputs": [],
   "source": [
    "X = X.values\n",
    "y = y"
   ]
  },
  {
   "cell_type": "code",
   "execution_count": 78,
   "metadata": {},
   "outputs": [
    {
     "data": {
      "text/plain": [
       "{0, 1, 2, 3, 4, 5, 6}"
      ]
     },
     "execution_count": 78,
     "metadata": {},
     "output_type": "execute_result"
    }
   ],
   "source": [
    "set(y)"
   ]
  },
  {
   "cell_type": "code",
   "execution_count": 58,
   "metadata": {},
   "outputs": [
    {
     "data": {
      "text/plain": [
       "(892649, 892649)"
      ]
     },
     "execution_count": 58,
     "metadata": {},
     "output_type": "execute_result"
    }
   ],
   "source": [
    "len(X),len(y)"
   ]
  },
  {
   "cell_type": "code",
   "execution_count": 59,
   "metadata": {},
   "outputs": [],
   "source": [
    "X_train,X_test,y_train,y_test = train_test_split(X,y,test_size=0.2,random_state=42)"
   ]
  },
  {
   "cell_type": "code",
   "execution_count": 60,
   "metadata": {},
   "outputs": [
    {
     "data": {
      "text/plain": [
       "(714119, 178530)"
      ]
     },
     "execution_count": 60,
     "metadata": {},
     "output_type": "execute_result"
    }
   ],
   "source": [
    "#!python3 -m pip install xgboost --user\n",
    "len(y_train),len(y_test)"
   ]
  },
  {
   "cell_type": "code",
   "execution_count": 69,
   "metadata": {},
   "outputs": [],
   "source": [
    "from sklearn.ensemble import RandomForestClassifier\n",
    "from sklearn.metrics import cohen_kappa_score"
   ]
  },
  {
   "cell_type": "code",
   "execution_count": 80,
   "metadata": {},
   "outputs": [
    {
     "name": "stderr",
     "output_type": "stream",
     "text": [
      "/opt/conda/lib/python3.6/site-packages/sklearn/ensemble/forest.py:248: FutureWarning: The default value of n_estimators will change from 10 in version 0.20 to 100 in 0.22.\n",
      "  \"10 in version 0.20 to 100 in 0.22.\", FutureWarning)\n"
     ]
    },
    {
     "data": {
      "text/plain": [
       "(0.2852181706155828, 0.029151108056706843)"
      ]
     },
     "execution_count": 80,
     "metadata": {},
     "output_type": "execute_result"
    }
   ],
   "source": [
    "model = RandomForestClassifier(n_jobs = -1,verbose = 0)\n",
    "model.fit(X_train,y_train)\n",
    "accuracy_score(y_test, model.predict(X_test)),cohen_kappa_score(y_test, model.predict(X_test))"
   ]
  },
  {
   "cell_type": "code",
   "execution_count": 75,
   "metadata": {},
   "outputs": [
    {
     "name": "stderr",
     "output_type": "stream",
     "text": [
      "/opt/conda/lib/python3.6/site-packages/sklearn/utils/validation.py:590: DataConversionWarning: Data with input dtype object was converted to float64 by StandardScaler.\n",
      "  warnings.warn(msg, DataConversionWarning)\n",
      "/opt/conda/lib/python3.6/site-packages/sklearn/utils/validation.py:590: DataConversionWarning: Data with input dtype object was converted to float64 by StandardScaler.\n",
      "  warnings.warn(msg, DataConversionWarning)\n"
     ]
    }
   ],
   "source": [
    "from sklearn.preprocessing import StandardScaler\n",
    "sc = StandardScaler()\n",
    "X_sc = sc.fit_transform(X)"
   ]
  },
  {
   "cell_type": "code",
   "execution_count": 79,
   "metadata": {},
   "outputs": [
    {
     "name": "stderr",
     "output_type": "stream",
     "text": [
      "/opt/conda/lib/python3.6/site-packages/sklearn/ensemble/forest.py:248: FutureWarning: The default value of n_estimators will change from 10 in version 0.20 to 100 in 0.22.\n",
      "  \"10 in version 0.20 to 100 in 0.22.\", FutureWarning)\n",
      "[Parallel(n_jobs=4)]: Using backend ThreadingBackend with 4 concurrent workers.\n",
      "[Parallel(n_jobs=4)]: Done  10 out of  10 | elapsed:    2.4s finished\n",
      "[Parallel(n_jobs=4)]: Using backend ThreadingBackend with 4 concurrent workers.\n",
      "[Parallel(n_jobs=4)]: Done  10 out of  10 | elapsed:    0.2s finished\n"
     ]
    },
    {
     "data": {
      "text/plain": [
       "0.28547022909314962"
      ]
     },
     "execution_count": 79,
     "metadata": {},
     "output_type": "execute_result"
    }
   ],
   "source": [
    "X_train_sc, X_test_sc, y_train_sc, y_test_sc = train_test_split(X_sc,y,test_size=0.2,random_state=42)\n",
    "clf = RandomForestClassifier(verbose=1,n_jobs=4)\n",
    "clf.fit(X_train_sc,y_train_sc)\n",
    "y_pred = clf.predict(X_test_sc)\n",
    "accuracy_score(y_test_sc, y_pred)"
   ]
  },
  {
   "cell_type": "code",
   "execution_count": 72,
   "metadata": {},
   "outputs": [
    {
     "name": "stderr",
     "output_type": "stream",
     "text": [
      "/opt/conda/lib/python3.6/site-packages/sklearn/ensemble/forest.py:248: FutureWarning: The default value of n_estimators will change from 10 in version 0.20 to 100 in 0.22.\n",
      "  \"10 in version 0.20 to 100 in 0.22.\", FutureWarning)\n"
     ]
    },
    {
     "data": {
      "text/plain": [
       "(0.14953789279112753, 0.028203741695382867)"
      ]
     },
     "execution_count": 72,
     "metadata": {},
     "output_type": "execute_result"
    }
   ],
   "source": [
    "model = RandomForestClassifier(n_jobs = -1,verbose = 0,class_weight='balanced')\n",
    "model.fit(X_train,y_train)\n",
    "accuracy_score(y_test, model.predict(X_test)),cohen_kappa_score(y_test, model.predict(X_test))"
   ]
  },
  {
   "cell_type": "code",
   "execution_count": 117,
   "metadata": {},
   "outputs": [
    {
     "name": "stderr",
     "output_type": "stream",
     "text": [
      "/opt/conda/lib/python3.6/site-packages/sklearn/ensemble/forest.py:248: FutureWarning: The default value of n_estimators will change from 10 in version 0.20 to 100 in 0.22.\n",
      "  \"10 in version 0.20 to 100 in 0.22.\", FutureWarning)\n"
     ]
    },
    {
     "data": {
      "text/plain": [
       "(0.14892735114546574, 0.028020802156003777)"
      ]
     },
     "execution_count": 117,
     "metadata": {},
     "output_type": "execute_result"
    }
   ],
   "source": [
    "model = RandomForestClassifier(n_jobs = -1,verbose = 0,class_weight='balanced_subsample')\n",
    "model.fit(X_train,y_train)\n",
    "accuracy_score(y_test, model.predict(X_test)),cohen_kappa_score(y_test, model.predict(X_test))"
   ]
  },
  {
   "cell_type": "code",
   "execution_count": 81,
   "metadata": {},
   "outputs": [],
   "source": [
    "from sklearn import metrics\n",
    "fpr, tpr, threholds = metrics.roc_curve(y_test,model.predict(X_test),pos_label=0)"
   ]
  },
  {
   "cell_type": "code",
   "execution_count": 85,
   "metadata": {
    "scrolled": true
   },
   "outputs": [
    {
     "name": "stdout",
     "output_type": "stream",
     "text": [
      "Collecting scikit-plot\n",
      "  Downloading https://files.pythonhosted.org/packages/7c/47/32520e259340c140a4ad27c1b97050dd3254fdc517b1d59974d47037510e/scikit_plot-0.3.7-py3-none-any.whl\n",
      "Requirement already satisfied: scipy>=0.9 in /opt/conda/lib/python3.6/site-packages (from scikit-plot) (1.1.0)\n",
      "Collecting joblib>=0.10 (from scikit-plot)\n",
      "\u001b[?25l  Downloading https://files.pythonhosted.org/packages/cd/c1/50a758e8247561e58cb87305b1e90b171b8c767b15b12a1734001f41d356/joblib-0.13.2-py2.py3-none-any.whl (278kB)\n",
      "\u001b[K    100% |████████████████████████████████| 286kB 19.9MB/s ta 0:00:01\n",
      "\u001b[?25hRequirement already satisfied: scikit-learn>=0.18 in /opt/conda/lib/python3.6/site-packages (from scikit-plot) (0.20.0)\n",
      "Requirement already satisfied: matplotlib>=1.4.0 in /opt/conda/lib/python3.6/site-packages (from scikit-plot) (2.2.3)\n",
      "Requirement already satisfied: numpy>=1.8.2 in /opt/conda/lib/python3.6/site-packages (from scikit-learn>=0.18->scikit-plot) (1.13.3)\n",
      "Requirement already satisfied: cycler>=0.10 in /opt/conda/lib/python3.6/site-packages (from matplotlib>=1.4.0->scikit-plot) (0.10.0)\n",
      "Requirement already satisfied: pyparsing!=2.0.4,!=2.1.2,!=2.1.6,>=2.0.1 in /opt/conda/lib/python3.6/site-packages (from matplotlib>=1.4.0->scikit-plot) (2.3.0)\n",
      "Requirement already satisfied: python-dateutil>=2.1 in /opt/conda/lib/python3.6/site-packages (from matplotlib>=1.4.0->scikit-plot) (2.7.5)\n",
      "Requirement already satisfied: pytz in /opt/conda/lib/python3.6/site-packages (from matplotlib>=1.4.0->scikit-plot) (2018.7)\n",
      "Requirement already satisfied: six>=1.10 in /opt/conda/lib/python3.6/site-packages (from matplotlib>=1.4.0->scikit-plot) (1.11.0)\n",
      "Requirement already satisfied: kiwisolver>=1.0.1 in /opt/conda/lib/python3.6/site-packages (from matplotlib>=1.4.0->scikit-plot) (1.0.1)\n",
      "Requirement already satisfied: setuptools in /opt/conda/lib/python3.6/site-packages (from kiwisolver>=1.0.1->matplotlib>=1.4.0->scikit-plot) (40.6.2)\n",
      "Installing collected packages: joblib, scikit-plot\n",
      "Successfully installed joblib-0.13.2 scikit-plot-0.3.7\n"
     ]
    }
   ],
   "source": [
    "!python3 -m pip install scikit-plot --user"
   ]
  },
  {
   "cell_type": "code",
   "execution_count": 91,
   "metadata": {},
   "outputs": [],
   "source": [
    "import scikitplot as sktplt\n",
    "import matplotlib.pyplot as plt"
   ]
  },
  {
   "cell_type": "code",
   "execution_count": 104,
   "metadata": {
    "scrolled": true
   },
   "outputs": [
    {
     "name": "stderr",
     "output_type": "stream",
     "text": [
      "/opt/conda/lib/python3.6/site-packages/sklearn/utils/deprecation.py:77: DeprecationWarning: Function plot_roc_curve is deprecated; This will be removed in v0.5.0. Please use scikitplot.metrics.plot_roc instead.\n",
      "  warnings.warn(msg, category=DeprecationWarning)\n"
     ]
    },
    {
     "data": {
      "text/plain": [
       "<matplotlib.axes._subplots.AxesSubplot at 0x7f48a4a01c18>"
      ]
     },
     "execution_count": 104,
     "metadata": {},
     "output_type": "execute_result"
    },
    {
     "data": {
      "image/png": "[encoded data removed]",
      "text/plain": [
       "<Figure size 720x720 with 1 Axes>"
      ]
     },
     "metadata": {
      "needs_background": "light"
     },
     "output_type": "display_data"
    }
   ],
   "source": [
    "#Normal RandomForest ROC curve \n",
    "sktplt.metrics.plot_roc_curve(y_test, model.predict_proba(X_test),figsize = (10,10))"
   ]
  },
  {
   "cell_type": "code",
   "execution_count": 118,
   "metadata": {},
   "outputs": [
    {
     "name": "stderr",
     "output_type": "stream",
     "text": [
      "/opt/conda/lib/python3.6/site-packages/sklearn/utils/deprecation.py:77: DeprecationWarning: Function plot_roc_curve is deprecated; This will be removed in v0.5.0. Please use scikitplot.metrics.plot_roc instead.\n",
      "  warnings.warn(msg, category=DeprecationWarning)\n"
     ]
    },
    {
     "data": {
      "text/plain": [
       "<matplotlib.axes._subplots.AxesSubplot at 0x7f48a4833da0>"
      ]
     },
     "execution_count": 118,
     "metadata": {},
     "output_type": "execute_result"
    },
    {
     "data": {
      "image/png": "[encoded data removed]",
      "text/plain": [
       "<Figure size 720x720 with 1 Axes>"
      ]
     },
     "metadata": {
      "needs_background": "light"
     },
     "output_type": "display_data"
    }
   ],
   "source": [
    "#Balanced-subsample ROC Curve\n",
    "sktplt.metrics.plot_roc_curve(y_test, model.predict_proba(X_test),figsize = (10,10))"
   ]
  },
  {
   "cell_type": "code",
   "execution_count": 106,
   "metadata": {},
   "outputs": [],
   "source": [
    "import xgboost as xgb"
   ]
  },
  {
   "cell_type": "code",
   "execution_count": 107,
   "metadata": {},
   "outputs": [],
   "source": [
    "model = xgb.XGBClassifier(n_jobs=-1)"
   ]
  },
  {
   "cell_type": "code",
   "execution_count": 108,
   "metadata": {},
   "outputs": [
    {
     "data": {
      "text/plain": [
       "XGBClassifier(base_score=0.5, booster='gbtree', colsample_bylevel=1,\n",
       "       colsample_bytree=1, gamma=0, learning_rate=0.1, max_delta_step=0,\n",
       "       max_depth=3, min_child_weight=1, missing=None, n_estimators=100,\n",
       "       n_jobs=-1, nthread=None, objective='multi:softprob', random_state=0,\n",
       "       reg_alpha=0, reg_lambda=1, scale_pos_weight=1, seed=None,\n",
       "       silent=True, subsample=1)"
      ]
     },
     "execution_count": 108,
     "metadata": {},
     "output_type": "execute_result"
    }
   ],
   "source": [
    "model.fit(X_train,y_train)"
   ]
  },
  {
   "cell_type": "code",
   "execution_count": 109,
   "metadata": {},
   "outputs": [],
   "source": [
    "y_pred = model.predict(X_test)"
   ]
  },
  {
   "cell_type": "code",
   "execution_count": 110,
   "metadata": {},
   "outputs": [],
   "source": [
    "y_prob = model.predict_proba(X_test)"
   ]
  },
  {
   "cell_type": "code",
   "execution_count": 113,
   "metadata": {},
   "outputs": [
    {
     "data": {
      "text/plain": [
       "2"
      ]
     },
     "execution_count": 113,
     "metadata": {},
     "output_type": "execute_result"
    }
   ],
   "source": [
    "y_pred[0]"
   ]
  },
  {
   "cell_type": "code",
   "execution_count": 116,
   "metadata": {},
   "outputs": [
    {
     "name": "stderr",
     "output_type": "stream",
     "text": [
      "/opt/conda/lib/python3.6/site-packages/sklearn/utils/deprecation.py:77: DeprecationWarning: Function plot_roc_curve is deprecated; This will be removed in v0.5.0. Please use scikitplot.metrics.plot_roc instead.\n",
      "  warnings.warn(msg, category=DeprecationWarning)\n"
     ]
    },
    {
     "data": {
      "text/plain": [
       "<matplotlib.axes._subplots.AxesSubplot at 0x7f48a4893a20>"
      ]
     },
     "execution_count": 116,
     "metadata": {},
     "output_type": "execute_result"
    },
    {
     "data": {
      "image/png": "[encoded data removed]",
      "text/plain": [
       "<Figure size 720x720 with 1 Axes>"
      ]
     },
     "metadata": {
      "needs_background": "light"
     },
     "output_type": "display_data"
    }
   ],
   "source": [
    "#Xgboost ROC Curve\n",
    "sktplt.metrics.plot_roc_curve(y_test,model.predict_proba(X_test),figsize=(10,10))"
   ]
  },
  {
   "cell_type": "code",
   "execution_count": 198,
   "metadata": {},
   "outputs": [
    {
     "data": {
      "text/plain": [
       "714119"
      ]
     },
     "execution_count": 198,
     "metadata": {},
     "output_type": "execute_result"
    }
   ],
   "source": [
    "#y_pred = model.predict(X_train)\n",
    "len(X_train)"
   ]
  },
  {
   "cell_type": "code",
   "execution_count": 199,
   "metadata": {},
   "outputs": [],
   "source": [
    "#Calculating Cohen kappa score\n",
    "# from sklearn.metrics import cohen_kappa_score\n",
    "# ck = cohen_kappa_score(y_test, y_pred)"
   ]
  },
  {
   "cell_type": "code",
   "execution_count": 202,
   "metadata": {},
   "outputs": [],
   "source": [
    "# ck"
   ]
  },
  {
   "cell_type": "code",
   "execution_count": 192,
   "metadata": {},
   "outputs": [
    {
     "data": {
      "text/plain": [
       "0.30506357474934187"
      ]
     },
     "execution_count": 192,
     "metadata": {},
     "output_type": "execute_result"
    }
   ],
   "source": [
    "accuracy_score(y_test, y_pred)"
   ]
  },
  {
   "cell_type": "code",
   "execution_count": 173,
   "metadata": {},
   "outputs": [],
   "source": [
    "df['label'] = y"
   ]
  },
  {
   "cell_type": "code",
   "execution_count": 183,
   "metadata": {},
   "outputs": [],
   "source": [
    "#df.to_csv('R20.7/R20_all_data.csv',index=None)"
   ]
  },
  {
   "cell_type": "code",
   "execution_count": 193,
   "metadata": {},
   "outputs": [],
   "source": [
    "import pickle\n",
    "with open('R20.7/R20.7.model','wb') as f:\n",
    "    pickle.dump(model,f)\n",
    "with open('R20.7/R20.7.le','wb') as f:\n",
    "    pickle.dump(le,f)"
   ]
  },
  {
   "cell_type": "code",
   "execution_count": 194,
   "metadata": {},
   "outputs": [
    {
     "data": {
      "text/plain": [
       "300"
      ]
     },
     "execution_count": 194,
     "metadata": {},
     "output_type": "execute_result"
    }
   ],
   "source": [
    "#open('R20.7/R20.7_feature_columns.txt','w').write(str(df.columns))"
   ]
  },
  {
   "cell_type": "code",
   "execution_count": 159,
   "metadata": {},
   "outputs": [],
   "source": [
    "del OP_df_test_data"
   ]
  },
  {
   "cell_type": "code",
   "execution_count": 160,
   "metadata": {},
   "outputs": [],
   "source": [
    "# Converting list to dataframes for test_data\n",
    "OP_df_test_data = pd.DataFrame(columns = ['y_test','y_pred'])\n",
    "OP_df_test_data['y_test'] = y_test\n",
    "OP_df_test_data['y_pred'] = y_pred\n",
    "#OP_df_test_with_input = pd."
   ]
  },
  {
   "cell_type": "code",
   "execution_count": 161,
   "metadata": {},
   "outputs": [
    {
     "data": {
      "text/html": [
       "<div>\n",
       "<style scoped>\n",
       "    .dataframe tbody tr th:only-of-type {\n",
       "        vertical-align: middle;\n",
       "    }\n",
       "\n",
       "    .dataframe tbody tr th {\n",
       "        vertical-align: top;\n",
       "    }\n",
       "\n",
       "    .dataframe thead th {\n",
       "        text-align: right;\n",
       "    }\n",
       "</style>\n",
       "<table border=\"1\" class=\"dataframe\">\n",
       "  <thead>\n",
       "    <tr style=\"text-align: right;\">\n",
       "      <th></th>\n",
       "      <th>y_test</th>\n",
       "      <th>y_pred</th>\n",
       "    </tr>\n",
       "  </thead>\n",
       "  <tbody>\n",
       "    <tr>\n",
       "      <th>0</th>\n",
       "      <td>2</td>\n",
       "      <td>2</td>\n",
       "    </tr>\n",
       "    <tr>\n",
       "      <th>1</th>\n",
       "      <td>0</td>\n",
       "      <td>2</td>\n",
       "    </tr>\n",
       "    <tr>\n",
       "      <th>2</th>\n",
       "      <td>4</td>\n",
       "      <td>2</td>\n",
       "    </tr>\n",
       "  </tbody>\n",
       "</table>\n",
       "</div>"
      ],
      "text/plain": [
       "   y_test  y_pred\n",
       "0       2       2\n",
       "1       0       2\n",
       "2       4       2"
      ]
     },
     "execution_count": 161,
     "metadata": {},
     "output_type": "execute_result"
    }
   ],
   "source": [
    "OP_df_test_data.head(3)"
   ]
  },
  {
   "cell_type": "code",
   "execution_count": 162,
   "metadata": {},
   "outputs": [],
   "source": [
    "OP_df_test_data['true_label'] = le.inverse_transform(OP_df_test_data.y_test)\n",
    "OP_df_test_data['pred_label'] = le.inverse_transform(OP_df_test_data.y_pred)"
   ]
  },
  {
   "cell_type": "code",
   "execution_count": 163,
   "metadata": {},
   "outputs": [
    {
     "data": {
      "text/plain": [
       "178530"
      ]
     },
     "execution_count": 163,
     "metadata": {},
     "output_type": "execute_result"
    }
   ],
   "source": [
    "len(y_prob)"
   ]
  },
  {
   "cell_type": "code",
   "execution_count": 164,
   "metadata": {},
   "outputs": [
    {
     "data": {
      "text/plain": [
       "array([ 0.01435705,  0.00469512,  0.19416149,  0.00935697,  0.13696031,\n",
       "        0.26476163,  0.37570742], dtype=float32)"
      ]
     },
     "execution_count": 164,
     "metadata": {},
     "output_type": "execute_result"
    }
   ],
   "source": [
    "y_prob[178529]"
   ]
  },
  {
   "cell_type": "code",
   "execution_count": 165,
   "metadata": {},
   "outputs": [
    {
     "data": {
      "text/plain": [
       "[2, 5, 6]"
      ]
     },
     "execution_count": 165,
     "metadata": {},
     "output_type": "execute_result"
    }
   ],
   "source": [
    "ec"
   ]
  },
  {
   "cell_type": "code",
   "execution_count": 166,
   "metadata": {},
   "outputs": [],
   "source": [
    "tt = []\n",
    "top_3_probs = []\n",
    "prob1 = []\n",
    "prob2 = []\n",
    "prob3 = []\n",
    "for v in range(len(y_prob)):\n",
    "    ec = []\n",
    "    top_3_idx = np.argsort(y_prob[v])[-3:]\n",
    "    ec = list(top_3_idx)\n",
    "    tt.append(ec)\n",
    "    prob1.append(y_prob[v][ec[2]])\n",
    "    prob2.append(y_prob[v][ec[1]])\n",
    "    prob3.append(y_prob[v][ec[0]])\n",
    "    \n",
    "\n",
    "# c = 0\n",
    "# e = []\n",
    "# for vv in range(len(tt)):\n",
    "#     e = tt[vv]\n",
    "#     for i in range(3):\n",
    "#         if e[i] == y_test[vv]:\n",
    "#             c += 1\n",
    "#             break\n",
    "\n",
    "OP_df_test_data['Reco_3_label'],OP_df_test_data['Reco_2_label'],OP_df_test_data['Reco_1_label'] = np.array(tt).T\n",
    "\n",
    "OP_df_test_data['Reco_1'] = le.inverse_transform(OP_df_test_data['Reco_1_label'].values)\n",
    "OP_df_test_data['Reco_2'] = le.inverse_transform(OP_df_test_data['Reco_2_label'].values)\n",
    "OP_df_test_data['Reco_3'] = le.inverse_transform(OP_df_test_data['Reco_3_label'].values)\n",
    "\n",
    "OP_df_test_data['Prob_1'] = prob1\n",
    "OP_df_test_data['Prob_2'] = prob2\n",
    "OP_df_test_data['Prob_3'] = prob3\n",
    "# del df_preds['Reco_1_label']\n",
    "# del df_preds['Reco_2_label']\n",
    "# del df_preds['Reco_3_label']\n",
    "\n",
    "#df_preds.to_csv('Reco_final_list.csv',index=None)"
   ]
  },
  {
   "cell_type": "code",
   "execution_count": 167,
   "metadata": {},
   "outputs": [
    {
     "data": {
      "text/plain": [
       "(178530, (178530, 13), list)"
      ]
     },
     "execution_count": 167,
     "metadata": {},
     "output_type": "execute_result"
    }
   ],
   "source": [
    "len(prob1),OP_df_test_data.shape,type(prob1)"
   ]
  },
  {
   "cell_type": "code",
   "execution_count": 168,
   "metadata": {},
   "outputs": [
    {
     "data": {
      "text/plain": [
       "array([ 0.04154757,  0.02505129,  0.27324489,  0.06758145,  0.1065345 ,\n",
       "        0.23657091,  0.2494694 ], dtype=float32)"
      ]
     },
     "execution_count": 168,
     "metadata": {},
     "output_type": "execute_result"
    }
   ],
   "source": [
    "y_prob[0]"
   ]
  },
  {
   "cell_type": "code",
   "execution_count": null,
   "metadata": {},
   "outputs": [],
   "source": []
  },
  {
   "cell_type": "code",
   "execution_count": 170,
   "metadata": {},
   "outputs": [],
   "source": [
    "OP_df_test_data.to_csv('R20_test_data_with_labels_probs.csv',index=None)"
   ]
  },
  {
   "cell_type": "code",
   "execution_count": 131,
   "metadata": {},
   "outputs": [
    {
     "data": {
      "text/plain": [
       "(178530, 4)"
      ]
     },
     "execution_count": 131,
     "metadata": {},
     "output_type": "execute_result"
    }
   ],
   "source": [
    "OP_df_test_data.shape"
   ]
  },
  {
   "cell_type": "code",
   "execution_count": null,
   "metadata": {},
   "outputs": [],
   "source": [
    "#accuracy_score(y_, y_pred)"
   ]
  },
  {
   "cell_type": "code",
   "execution_count": null,
   "metadata": {},
   "outputs": [],
   "source": [
    "# feat_importances = pd.Series(clf.feature_importances_)\n",
    "# %matplotlib inline"
   ]
  },
  {
   "cell_type": "code",
   "execution_count": null,
   "metadata": {},
   "outputs": [],
   "source": [
    "# feat_importances.nlargest(len(feat_importances)).plot(kind='barh')"
   ]
  },
  {
   "cell_type": "code",
   "execution_count": 197,
   "metadata": {},
   "outputs": [
    {
     "data": {
      "text/plain": [
       "0.7885677477174704"
      ]
     },
     "execution_count": 197,
     "metadata": {},
     "output_type": "execute_result"
    }
   ],
   "source": [
    "tt = []\n",
    "for v in range(len(y_prob)):\n",
    "    ec = []\n",
    "    top_3_idx = np.argsort(y_prob[v])[-3:]\n",
    "    ec = list(top_3_idx)\n",
    "    tt.append(ec)\n",
    "\n",
    "c = 0\n",
    "e = []\n",
    "for vv in range(len(tt)):\n",
    "    e = tt[vv]\n",
    "    for i in range(3):\n",
    "        if e[i] == y_test[vv]:\n",
    "            c += 1\n",
    "            break\n",
    "c/len(tt)"
   ]
  },
  {
   "cell_type": "code",
   "execution_count": 196,
   "metadata": {},
   "outputs": [
    {
     "data": {
      "text/plain": [
       "0.7885677477174704"
      ]
     },
     "execution_count": 196,
     "metadata": {},
     "output_type": "execute_result"
    }
   ],
   "source": []
  },
  {
   "cell_type": "code",
   "execution_count": null,
   "metadata": {},
   "outputs": [],
   "source": []
  },
  {
   "cell_type": "code",
   "execution_count": null,
   "metadata": {},
   "outputs": [],
   "source": []
  },
  {
   "cell_type": "code",
   "execution_count": null,
   "metadata": {},
   "outputs": [],
   "source": []
  },
  {
   "cell_type": "code",
   "execution_count": 18,
   "metadata": {},
   "outputs": [],
   "source": [
    "import pandas as pd\n",
    "import numpy as np\n",
    "\n",
    "from sklearn.preprocessing import OneHotEncoder\n",
    "from sklearn.model_selection import train_test_split\n",
    "#from sklearn.metrics import accuracy_score\n",
    "import pickle\n",
    "\n",
    "import xgboost as xgb\n",
    "\n",
    "sql = False\n",
    "\n",
    "def sql_bypass(df):\n",
    "    #df =df[df['CATEGORY_DESC'] == 'LED']\n",
    "    df['city'] = df['CITY']\n",
    "    state_data = pd.read_csv('state_list.csv')\n",
    "    print(state_data.head())\n",
    "    df = pd.merge(df, state_data, on='city')\n",
    "    #df_clean = pd.DataFrame()\n",
    "    df['yyyymm'] = '201805'\n",
    "    df['yyyy'] = '2018'\n",
    "    df['mm'] = '05'\n",
    "    # Binnig age\n",
    "    g = []\n",
    "    for elem in range(100):\n",
    "        if elem % 5 == 0:\n",
    "            #print(elem)\n",
    "            g.append(elem)\n",
    "    df['AgeRange'] = pd.cut(df['AGE'], g)\n",
    "\n",
    "    # Getting ceil of age_range\n",
    "    temp = ''\n",
    "    a = []\n",
    "    for i,row in df.iterrows():\n",
    "        temp = str(row['AgeRange'])\n",
    "        temp = temp.replace('(','')\n",
    "        temp = temp.split(',')\n",
    "        a.append(temp[0])\n",
    "    df['age_bin'] = a\n",
    "    df[['customer_id','age','age_bin','yyyymm','yyyy','mm','etype','gender', 'maritalstatus', 'state']] = df[['CUSTOMER_ID','AGE','age_bin','yyyymm','yyyy','mm','EMPLOYMENTTYPE','GENDER', 'MARITALSTATUS', 'State']]\n",
    "    df = df.dropna()\n",
    "\n",
    "\n",
    "    df['EMPLOYMENTTYPE'] = df['EMPLOYMENTTYPE'].replace({'SELF EMPLOYED': 'self_employed', 'Self Employed': 'self_employed', 'SELF EMPLOYED PROFESSIONAL': 'self_employed','Self Employed Professional':'self_employed'})\n",
    "    df['EMPLOYMENTTYPE'] = df['EMPLOYMENTTYPE'].replace({'SALARIED': 'salaried', 'Salaried': 'salaried', 'SAL': 'salaried'})\n",
    "\n",
    "    df = df.dropna()\n",
    "    del df['AgeRange']\n",
    "    return df\n",
    "\n",
    "#\tage\tage_bin\tyyyymm\tyyyy\tmm\tlabel\tNot Categorized\tOTHERS\tsalaried\tself_employed\tFemale\tMale\tDIVORCEE\tMARRIED\tUNMARRIED\tWIDOW\tAP\tBH\tBR\tDELHI\tGJ\tHR\tKA\tKE\tMH\tMP\tOR\tPU\tRJ\tTN\tUK\tUP\tWB"
   ]
  },
  {
   "cell_type": "code",
   "execution_count": 19,
   "metadata": {},
   "outputs": [
    {
     "name": "stdout",
     "output_type": "stream",
     "text": [
      "   Unnamed: 0  CUSTOMER_ID    AGREEMENT_NO  DISBURSEMENT_DATE PRODUCT_ID  \\\n",
      "0           0     69992537  4W2RCD94212620           20181113        RCD   \n",
      "1           1     66045861  4380CD70492193           20180410         CD   \n",
      "2           2     59748755  4290CD89566138           20180930         CD   \n",
      "3           3    105045977  4D30CD93426426           20181108         CD   \n",
      "4           4     67682737  4400CD73400787           20180430         CD   \n",
      "\n",
      "   MODEL_ID  AMT_FIN     EMI   AGE EMPLOYMENTTYPE  GENDER MARITALSTATUS  \\\n",
      "0     97839  20500.0  1709.0   NaN            NaN     NaN           NaN   \n",
      "1     89206  25500.0  2125.0  30.0  SELF EMPLOYED    Male       MARRIED   \n",
      "2     97855  45000.0  2500.0  33.0  SELF EMPLOYED  Female       MARRIED   \n",
      "3     95606  21300.0  1775.0   NaN            NaN     NaN           NaN   \n",
      "4     82245  12750.0  1063.0  60.0  SELF EMPLOYED    Male       MARRIED   \n",
      "\n",
      "        CITY  \n",
      "0        NaN  \n",
      "1  JALANDHAR  \n",
      "2      ERODE  \n",
      "3        NaN  \n",
      "4     AMBALA  \n",
      "        city  State\n",
      "0  HYDERABAD     AP\n",
      "1  BANGALORE     KA\n",
      "2     MUMBAI     MH\n",
      "3    CHENNAI     TN\n",
      "4      DELHI  DELHI\n",
      "   Unnamed: 0  CUSTOMER_ID    AGREEMENT_NO  DISBURSEMENT_DATE PRODUCT_ID  \\\n",
      "0           1     66045861  4380CD70492193           20180410         CD   \n",
      "1          33     63132391  4380CD66233934           20180228         CD   \n",
      "2          93     38452266  4380CD89823486           20181006         CD   \n",
      "3          99     43166523  4380CD76189947           20180524         CD   \n",
      "4         126     15968976  4380CD93390190           20181108         CD   \n",
      "\n",
      "   MODEL_ID  AMT_FIN     EMI   AGE EMPLOYMENTTYPE  ...    yyyymm  yyyy  mm  \\\n",
      "0     89206  25500.0  2125.0  30.0  self_employed  ...    201805  2018  05   \n",
      "1     75303  32100.0  1784.0  38.0  self_employed  ...    201805  2018  05   \n",
      "2     74587  26500.0  2945.0  33.0  self_employed  ...    201805  2018  05   \n",
      "3     59757  34000.0  2834.0  41.0  self_employed  ...    201805  2018  05   \n",
      "4     74587  28430.0  1580.0  40.0       salaried  ...    201805  2018  05   \n",
      "\n",
      "  age_bin customer_id   age          etype  gender maritalstatus  state  \n",
      "0      25    66045861  30.0  SELF EMPLOYED    Male       MARRIED     PU  \n",
      "1      35    63132391  38.0  SELF EMPLOYED  Female       MARRIED     PU  \n",
      "2      30    38452266  33.0  SELF EMPLOYED  Female       MARRIED     PU  \n",
      "3      40    43166523  41.0  SELF EMPLOYED    Male       MARRIED     PU  \n",
      "4      35    15968976  40.0       SALARIED    Male       MARRIED     PU  \n",
      "\n",
      "[5 rows x 25 columns] Index(['Unnamed: 0', 'CUSTOMER_ID', 'AGREEMENT_NO', 'DISBURSEMENT_DATE',\n",
      "       'PRODUCT_ID', 'MODEL_ID', 'AMT_FIN', 'EMI', 'AGE', 'EMPLOYMENTTYPE',\n",
      "       'GENDER', 'MARITALSTATUS', 'CITY', 'city', 'State', 'yyyymm', 'yyyy',\n",
      "       'mm', 'age_bin', 'customer_id', 'age', 'etype', 'gender',\n",
      "       'maritalstatus', 'state'],\n",
      "      dtype='object')\n",
      "    customer_id   age age_bin  yyyymm  yyyy  mm          etype  gender  \\\n",
      "0      66045861  30.0      25  201805  2018  05  self_employed    Male   \n",
      "1      63132391  38.0      35  201805  2018  05  self_employed  Female   \n",
      "2      38452266  33.0      30  201805  2018  05  self_employed  Female   \n",
      "3      43166523  41.0      40  201805  2018  05  self_employed    Male   \n",
      "4      15968976  40.0      35  201805  2018  05       salaried    Male   \n",
      "5      20686212  30.0      25  201805  2018  05  self_employed    Male   \n",
      "6      16081251  49.0      45  201805  2018  05  self_employed  Female   \n",
      "7      62403560  32.0      30  201805  2018  05  self_employed    Male   \n",
      "8      41031261  29.0      25  201805  2018  05  self_employed    Male   \n",
      "9      18566938  46.0      45  201805  2018  05  self_employed    Male   \n",
      "10     60083932  30.0      25  201805  2018  05       salaried    Male   \n",
      "11     18404168  46.0      45  201805  2018  05  self_employed  Female   \n",
      "12     13490613  36.0      35  201805  2018  05  self_employed    Male   \n",
      "13     56895529  36.0      35  201805  2018  05  self_employed    Male   \n",
      "14     10657178  45.0      40  201805  2018  05       salaried    Male   \n",
      "15     51506602  52.0      50  201805  2018  05  self_employed    Male   \n",
      "16     40158250  25.0      20  201805  2018  05  self_employed    Male   \n",
      "17     68696249  41.0      40  201805  2018  05  self_employed  Female   \n",
      "18     26419025  34.0      30  201805  2018  05  self_employed    Male   \n",
      "19     58775035  38.0      35  201805  2018  05  self_employed    Male   \n",
      "\n",
      "   maritalstatus state  \n",
      "0        MARRIED    PU  \n",
      "1        MARRIED    PU  \n",
      "2        MARRIED    PU  \n",
      "3        MARRIED    PU  \n",
      "4        MARRIED    PU  \n",
      "5      UNMARRIED    PU  \n",
      "6        MARRIED    PU  \n",
      "7        MARRIED    PU  \n",
      "8        MARRIED    PU  \n",
      "9        MARRIED    PU  \n",
      "10       MARRIED    PU  \n",
      "11       MARRIED    PU  \n",
      "12       MARRIED    PU  \n",
      "13       MARRIED    PU  \n",
      "14       MARRIED    PU  \n",
      "15       MARRIED    PU  \n",
      "16     UNMARRIED    PU  \n",
      "17       MARRIED    PU  \n",
      "18       MARRIED    PU  \n",
      "19       MARRIED    PU  \n",
      "Please check the columns for feature matrix\n"
     ]
    }
   ],
   "source": [
    "if sql == False:\n",
    "    print(pd.read_csv('led_disbursements.csv').head())\n",
    "    df = pd.read_csv('led_disbursements.csv')\n",
    "    df = sql_bypass(df)\n",
    "    print(df.head(),df.columns)\n",
    "    df_pred = pd.DataFrame()\n",
    "    df_pred[['customer_id','age','age_bin','yyyymm','yyyy','mm','etype','gender', 'maritalstatus', 'state']] = df[['CUSTOMER_ID','AGE','age_bin','yyyymm','yyyy','mm','EMPLOYMENTTYPE','GENDER', 'MARITALSTATUS', 'State']]\n",
    "    print(df_pred.head(20))\n",
    "else:\n",
    "    df_pred = pd.read('led_sql_process.csv')\n",
    "\n",
    "\n",
    "del df\n",
    "df = pd.DataFrame()\n",
    "df = df_pred.dropna()\n",
    "\n",
    "df_preds = pd.DataFrame()\n",
    "df_preds['customer_id'] = df['customer_id']\n",
    "del df['customer_id']\n",
    "\n",
    "# One_hotting Data\n",
    "\n",
    "one_hot = pd.get_dummies(df['etype'])\n",
    "df = df.drop('etype',axis = 1)\n",
    "df = df.join(one_hot)\n",
    "\n",
    "one_hot = pd.get_dummies(df['gender'])\n",
    "df = df.drop('gender',axis = 1)\n",
    "df = df.join(one_hot)\n",
    "\n",
    "one_hot = pd.get_dummies(df['maritalstatus'])\n",
    "df = df.drop('maritalstatus',axis = 1)\n",
    "df = df.join(one_hot)\n",
    "\n",
    "one_hot = pd.get_dummies(df['state'])\n",
    "df = df.drop('state',axis = 1)\n",
    "df = df.join(one_hot)\n",
    "\n",
    "if df.shape[1] == 33:\n",
    "    print('Feature Generation complete, Moving forward for predictions')\n",
    "else:\n",
    "    print('Please check the columns for feature matrix')\n",
    "\n",
    "\n",
    "with open('R20.7.model','rb') as f:\n",
    "    model = pickle.load(f)\n",
    "with open('R20.7.le','rb') as f:\n",
    "    le = pickle.load(f)"
   ]
  },
  {
   "cell_type": "code",
   "execution_count": 20,
   "metadata": {},
   "outputs": [
    {
     "data": {
      "text/html": [
       "<div>\n",
       "<style scoped>\n",
       "    .dataframe tbody tr th:only-of-type {\n",
       "        vertical-align: middle;\n",
       "    }\n",
       "\n",
       "    .dataframe tbody tr th {\n",
       "        vertical-align: top;\n",
       "    }\n",
       "\n",
       "    .dataframe thead th {\n",
       "        text-align: right;\n",
       "    }\n",
       "</style>\n",
       "<table border=\"1\" class=\"dataframe\">\n",
       "  <thead>\n",
       "    <tr style=\"text-align: right;\">\n",
       "      <th></th>\n",
       "      <th>age</th>\n",
       "      <th>age_bin</th>\n",
       "      <th>yyyymm</th>\n",
       "      <th>yyyy</th>\n",
       "      <th>mm</th>\n",
       "      <th>Not Categorized</th>\n",
       "      <th>OTHERS</th>\n",
       "      <th>salaried</th>\n",
       "      <th>self_employed</th>\n",
       "      <th>Female</th>\n",
       "      <th>...</th>\n",
       "      <th>KE</th>\n",
       "      <th>MH</th>\n",
       "      <th>MP</th>\n",
       "      <th>OR</th>\n",
       "      <th>PU</th>\n",
       "      <th>RJ</th>\n",
       "      <th>TN</th>\n",
       "      <th>UK</th>\n",
       "      <th>UP</th>\n",
       "      <th>WB</th>\n",
       "    </tr>\n",
       "  </thead>\n",
       "  <tbody>\n",
       "    <tr>\n",
       "      <th>0</th>\n",
       "      <td>30.0</td>\n",
       "      <td>25</td>\n",
       "      <td>201805</td>\n",
       "      <td>2018</td>\n",
       "      <td>05</td>\n",
       "      <td>0</td>\n",
       "      <td>0</td>\n",
       "      <td>0</td>\n",
       "      <td>1</td>\n",
       "      <td>0</td>\n",
       "      <td>...</td>\n",
       "      <td>0</td>\n",
       "      <td>0</td>\n",
       "      <td>0</td>\n",
       "      <td>0</td>\n",
       "      <td>1</td>\n",
       "      <td>0</td>\n",
       "      <td>0</td>\n",
       "      <td>0</td>\n",
       "      <td>0</td>\n",
       "      <td>0</td>\n",
       "    </tr>\n",
       "    <tr>\n",
       "      <th>1</th>\n",
       "      <td>38.0</td>\n",
       "      <td>35</td>\n",
       "      <td>201805</td>\n",
       "      <td>2018</td>\n",
       "      <td>05</td>\n",
       "      <td>0</td>\n",
       "      <td>0</td>\n",
       "      <td>0</td>\n",
       "      <td>1</td>\n",
       "      <td>1</td>\n",
       "      <td>...</td>\n",
       "      <td>0</td>\n",
       "      <td>0</td>\n",
       "      <td>0</td>\n",
       "      <td>0</td>\n",
       "      <td>1</td>\n",
       "      <td>0</td>\n",
       "      <td>0</td>\n",
       "      <td>0</td>\n",
       "      <td>0</td>\n",
       "      <td>0</td>\n",
       "    </tr>\n",
       "    <tr>\n",
       "      <th>2</th>\n",
       "      <td>33.0</td>\n",
       "      <td>30</td>\n",
       "      <td>201805</td>\n",
       "      <td>2018</td>\n",
       "      <td>05</td>\n",
       "      <td>0</td>\n",
       "      <td>0</td>\n",
       "      <td>0</td>\n",
       "      <td>1</td>\n",
       "      <td>1</td>\n",
       "      <td>...</td>\n",
       "      <td>0</td>\n",
       "      <td>0</td>\n",
       "      <td>0</td>\n",
       "      <td>0</td>\n",
       "      <td>1</td>\n",
       "      <td>0</td>\n",
       "      <td>0</td>\n",
       "      <td>0</td>\n",
       "      <td>0</td>\n",
       "      <td>0</td>\n",
       "    </tr>\n",
       "    <tr>\n",
       "      <th>3</th>\n",
       "      <td>41.0</td>\n",
       "      <td>40</td>\n",
       "      <td>201805</td>\n",
       "      <td>2018</td>\n",
       "      <td>05</td>\n",
       "      <td>0</td>\n",
       "      <td>0</td>\n",
       "      <td>0</td>\n",
       "      <td>1</td>\n",
       "      <td>0</td>\n",
       "      <td>...</td>\n",
       "      <td>0</td>\n",
       "      <td>0</td>\n",
       "      <td>0</td>\n",
       "      <td>0</td>\n",
       "      <td>1</td>\n",
       "      <td>0</td>\n",
       "      <td>0</td>\n",
       "      <td>0</td>\n",
       "      <td>0</td>\n",
       "      <td>0</td>\n",
       "    </tr>\n",
       "    <tr>\n",
       "      <th>4</th>\n",
       "      <td>40.0</td>\n",
       "      <td>35</td>\n",
       "      <td>201805</td>\n",
       "      <td>2018</td>\n",
       "      <td>05</td>\n",
       "      <td>0</td>\n",
       "      <td>0</td>\n",
       "      <td>1</td>\n",
       "      <td>0</td>\n",
       "      <td>0</td>\n",
       "      <td>...</td>\n",
       "      <td>0</td>\n",
       "      <td>0</td>\n",
       "      <td>0</td>\n",
       "      <td>0</td>\n",
       "      <td>1</td>\n",
       "      <td>0</td>\n",
       "      <td>0</td>\n",
       "      <td>0</td>\n",
       "      <td>0</td>\n",
       "      <td>0</td>\n",
       "    </tr>\n",
       "  </tbody>\n",
       "</table>\n",
       "<p>5 rows × 32 columns</p>\n",
       "</div>"
      ],
      "text/plain": [
       "    age age_bin  yyyymm  yyyy  mm  Not Categorized  OTHERS  salaried  \\\n",
       "0  30.0      25  201805  2018  05                0       0         0   \n",
       "1  38.0      35  201805  2018  05                0       0         0   \n",
       "2  33.0      30  201805  2018  05                0       0         0   \n",
       "3  41.0      40  201805  2018  05                0       0         0   \n",
       "4  40.0      35  201805  2018  05                0       0         1   \n",
       "\n",
       "   self_employed  Female ...  KE  MH  MP  OR  PU  RJ  TN  UK  UP  WB  \n",
       "0              1       0 ...   0   0   0   0   1   0   0   0   0   0  \n",
       "1              1       1 ...   0   0   0   0   1   0   0   0   0   0  \n",
       "2              1       1 ...   0   0   0   0   1   0   0   0   0   0  \n",
       "3              1       0 ...   0   0   0   0   1   0   0   0   0   0  \n",
       "4              0       0 ...   0   0   0   0   1   0   0   0   0   0  \n",
       "\n",
       "[5 rows x 32 columns]"
      ]
     },
     "execution_count": 20,
     "metadata": {},
     "output_type": "execute_result"
    }
   ],
   "source": [
    "df.head()"
   ]
  },
  {
   "cell_type": "code",
   "execution_count": 40,
   "metadata": {},
   "outputs": [
    {
     "data": {
      "text/plain": [
       "Index(['age', 'age_bin', 'yyyymm', 'yyyy', 'mm', 'Not Categorized', 'OTHERS',\n",
       "       'salaried', 'self_employed', 'Female', 'Male', 'DIVORCEE', 'MARRIED',\n",
       "       'UNMARRIED', 'WIDOW', 'AP', 'BH', 'BR', 'DELHI', 'GJ', 'HR', 'KA', 'KE',\n",
       "       'MH', 'MP', 'OR', 'PU', 'RJ', 'TN', 'UK', 'UP', 'WB'],\n",
       "      dtype='object')"
      ]
     },
     "execution_count": 40,
     "metadata": {},
     "output_type": "execute_result"
    }
   ],
   "source": [
    "df.columns"
   ]
  },
  {
   "cell_type": "code",
   "execution_count": 41,
   "metadata": {
    "scrolled": true
   },
   "outputs": [
    {
     "data": {
      "text/plain": [
       "['age',\n",
       " 'age_bin',\n",
       " 'yyyymm',\n",
       " 'yyyy',\n",
       " 'mm',\n",
       " 'Not Categorized',\n",
       " 'OTHERS',\n",
       " 'salaried',\n",
       " 'self_employed',\n",
       " 'Female',\n",
       " 'Male',\n",
       " 'DIVORCEE',\n",
       " 'MARRIED',\n",
       " 'UNMARRIED',\n",
       " 'WIDOW',\n",
       " 'AP',\n",
       " 'BH',\n",
       " 'BR',\n",
       " 'DELHI',\n",
       " 'GJ',\n",
       " 'HR',\n",
       " 'KA',\n",
       " 'KE',\n",
       " 'MH',\n",
       " 'MP',\n",
       " 'OR',\n",
       " 'PU',\n",
       " 'RJ',\n",
       " 'TN',\n",
       " 'UK',\n",
       " 'UP',\n",
       " 'WB']"
      ]
     },
     "execution_count": 41,
     "metadata": {},
     "output_type": "execute_result"
    }
   ],
   "source": [
    "cols"
   ]
  },
  {
   "cell_type": "code",
   "execution_count": 39,
   "metadata": {},
   "outputs": [],
   "source": [
    "cols = ['age','age_bin','yyyymm','yyyy','mm','Not Categorized','OTHERS','salaried','self_employed','Female','Male','DIVORCEE','MARRIED','UNMARRIED','WIDOW','AP','BH','BR','DELHI','GJ','HR','KA','KE','MH','MP','OR','PU','RJ','TN','UK','UP','WB']"
   ]
  },
  {
   "cell_type": "code",
   "execution_count": 43,
   "metadata": {},
   "outputs": [],
   "source": [
    "df = df.reindex(cols,axis=1)"
   ]
  },
  {
   "cell_type": "code",
   "execution_count": null,
   "metadata": {},
   "outputs": [],
   "source": [
    "#['age', 'Not Categorized', 'OTHERS', 'salaried', 'self_employed',\n",
    "        'Female', 'Male', 'DIVORCEE', 'MARRIED', 'UNMARRIED', 'WIDOW', 'AP',\n",
    "        'BH', 'BR', 'DELHI', 'GJ', 'HR', 'KA', 'KE', 'MH', 'MP', 'OR', 'PU',\n",
    "        'RJ', 'TN', 'UK', 'UP', 'WB', 'yyyymm', 'yyyy', 'mm']"
   ]
  },
  {
   "cell_type": "code",
   "execution_count": null,
   "metadata": {},
   "outputs": [],
   "source": []
  },
  {
   "cell_type": "code",
   "execution_count": null,
   "metadata": {},
   "outputs": [],
   "source": [
    "#\tage\tage_bin\tyyyymm\tyyyy\tmm\tlabel\tNot Categorized\tOTHERS\tsalaried\tself_employed\tFemale\tMale\tDIVORCEE\tMARRIED\tUNMARRIED\tWIDOW\tAP\tBH\tBR\tDELHI\tGJ\tHR\tKA\tKE\tMH\tMP\tOR\tPU\tRJ\tTN\tUK\tUP\tWB"
   ]
  },
  {
   "cell_type": "code",
   "execution_count": null,
   "metadata": {},
   "outputs": [],
   "source": [
    "# df['age_bin']  = "
   ]
  },
  {
   "cell_type": "code",
   "execution_count": 6,
   "metadata": {},
   "outputs": [],
   "source": [
    "# df['yyyymm'] = '201805'\n",
    "# df['yyyy'] = '2018'\n",
    "# df['mm'] = '05'"
   ]
  },
  {
   "cell_type": "code",
   "execution_count": 21,
   "metadata": {},
   "outputs": [
    {
     "data": {
      "text/plain": [
       "(Index(['age', 'age_bin', 'yyyymm', 'yyyy', 'mm', 'Not Categorized', 'OTHERS',\n",
       "        'salaried', 'self_employed', 'Female', 'Male', 'DIVORCEE', 'MARRIED',\n",
       "        'UNMARRIED', 'WIDOW', 'AP', 'BH', 'BR', 'DELHI', 'GJ', 'HR', 'KA', 'KE',\n",
       "        'MH', 'MP', 'OR', 'PU', 'RJ', 'TN', 'UK', 'UP', 'WB'],\n",
       "       dtype='object'), (996042, 32))"
      ]
     },
     "execution_count": 21,
     "metadata": {},
     "output_type": "execute_result"
    }
   ],
   "source": [
    "df.columns,df.shape"
   ]
  },
  {
   "cell_type": "code",
   "execution_count": 44,
   "metadata": {},
   "outputs": [],
   "source": [
    "y_pred = model.predict(df.values)\n",
    "y_prob  = model.predict_proba(df.values)"
   ]
  },
  {
   "cell_type": "code",
   "execution_count": 45,
   "metadata": {
    "scrolled": true
   },
   "outputs": [],
   "source": [
    "tt = []\n",
    "for v in range(len(y_prob)):\n",
    "    ec = []\n",
    "    top_3_idx = np.argsort(y_prob[v])[-3:]\n",
    "    ec = list(top_3_idx)\n",
    "    tt.append(ec)\n",
    "\n",
    "# c = 0\n",
    "# e = []\n",
    "# for vv in range(len(tt)):\n",
    "#     e = tt[vv]\n",
    "#     for i in range(3):\n",
    "#         if e[i] == y_test[vv]:\n",
    "#             c += 1\n",
    "#             break\n",
    "\n",
    "df_preds['Reco_1_label'],df_preds['Reco_2_label'],df_preds['Reco_3_label'] = np.array(tt).T\n",
    "\n",
    "df_preds['Reco_1'] = le.inverse_transform(df_preds['Reco_1_label'].values)\n",
    "df_preds['Reco_2'] = le.inverse_transform(df_preds['Reco_2_label'].values)\n",
    "df_preds['Reco_3'] = le.inverse_transform(df_preds['Reco_3_label'].values)\n",
    "\n",
    "del df_preds['Reco_1_label']\n",
    "del df_preds['Reco_2_label']\n",
    "del df_preds['Reco_3_label']\n",
    "\n",
    "df_preds.to_csv('Reco_final_list.csv',index=None)\n",
    "#test_thing[\"Probs_HAIER APPLIANCES (INDIA) P.LIMITED\"], test_thing[\"Probs_INTEX\"], test_thing[\"Probs_LG ELECTRONICS INDIA PVT.LTD\"] = y_prob.T"
   ]
  },
  {
   "cell_type": "code",
   "execution_count": 46,
   "metadata": {},
   "outputs": [
    {
     "data": {
      "text/html": [
       "<div>\n",
       "<style scoped>\n",
       "    .dataframe tbody tr th:only-of-type {\n",
       "        vertical-align: middle;\n",
       "    }\n",
       "\n",
       "    .dataframe tbody tr th {\n",
       "        vertical-align: top;\n",
       "    }\n",
       "\n",
       "    .dataframe thead th {\n",
       "        text-align: right;\n",
       "    }\n",
       "</style>\n",
       "<table border=\"1\" class=\"dataframe\">\n",
       "  <thead>\n",
       "    <tr style=\"text-align: right;\">\n",
       "      <th></th>\n",
       "      <th>customer_id</th>\n",
       "      <th>Reco_1</th>\n",
       "      <th>Reco_2</th>\n",
       "      <th>Reco_3</th>\n",
       "    </tr>\n",
       "  </thead>\n",
       "  <tbody>\n",
       "    <tr>\n",
       "      <th>0</th>\n",
       "      <td>66045861</td>\n",
       "      <td>SONY INDIA LIMITED</td>\n",
       "      <td>LG ELECTRONICS INDIA PVT.LTD</td>\n",
       "      <td>SAMSUNG ELECTRONICS INDIA LIMITED</td>\n",
       "    </tr>\n",
       "    <tr>\n",
       "      <th>1</th>\n",
       "      <td>63132391</td>\n",
       "      <td>SONY INDIA LIMITED</td>\n",
       "      <td>LG ELECTRONICS INDIA PVT.LTD</td>\n",
       "      <td>SAMSUNG ELECTRONICS INDIA LIMITED</td>\n",
       "    </tr>\n",
       "    <tr>\n",
       "      <th>2</th>\n",
       "      <td>38452266</td>\n",
       "      <td>SONY INDIA LIMITED</td>\n",
       "      <td>LG ELECTRONICS INDIA PVT.LTD</td>\n",
       "      <td>SAMSUNG ELECTRONICS INDIA LIMITED</td>\n",
       "    </tr>\n",
       "    <tr>\n",
       "      <th>3</th>\n",
       "      <td>43166523</td>\n",
       "      <td>LG ELECTRONICS INDIA PVT.LTD</td>\n",
       "      <td>SONY INDIA LIMITED</td>\n",
       "      <td>SAMSUNG ELECTRONICS INDIA LIMITED</td>\n",
       "    </tr>\n",
       "    <tr>\n",
       "      <th>4</th>\n",
       "      <td>15968976</td>\n",
       "      <td>LG ELECTRONICS INDIA PVT.LTD</td>\n",
       "      <td>SAMSUNG ELECTRONICS INDIA LIMITED</td>\n",
       "      <td>SONY INDIA LIMITED</td>\n",
       "    </tr>\n",
       "  </tbody>\n",
       "</table>\n",
       "</div>"
      ],
      "text/plain": [
       "   customer_id                        Reco_1  \\\n",
       "0     66045861            SONY INDIA LIMITED   \n",
       "1     63132391            SONY INDIA LIMITED   \n",
       "2     38452266            SONY INDIA LIMITED   \n",
       "3     43166523  LG ELECTRONICS INDIA PVT.LTD   \n",
       "4     15968976  LG ELECTRONICS INDIA PVT.LTD   \n",
       "\n",
       "                              Reco_2                             Reco_3  \n",
       "0       LG ELECTRONICS INDIA PVT.LTD  SAMSUNG ELECTRONICS INDIA LIMITED  \n",
       "1       LG ELECTRONICS INDIA PVT.LTD  SAMSUNG ELECTRONICS INDIA LIMITED  \n",
       "2       LG ELECTRONICS INDIA PVT.LTD  SAMSUNG ELECTRONICS INDIA LIMITED  \n",
       "3                 SONY INDIA LIMITED  SAMSUNG ELECTRONICS INDIA LIMITED  \n",
       "4  SAMSUNG ELECTRONICS INDIA LIMITED                 SONY INDIA LIMITED  "
      ]
     },
     "execution_count": 46,
     "metadata": {},
     "output_type": "execute_result"
    }
   ],
   "source": [
    "df_preds.head()"
   ]
  },
  {
   "cell_type": "code",
   "execution_count": null,
   "metadata": {},
   "outputs": [],
   "source": []
  }
 ],
 "metadata": {
  "kernelspec": {
   "display_name": "Python 3",
   "language": "python",
   "name": "python3"
  },
  "language_info": {
   "codemirror_mode": {
    "name": "ipython",
    "version": 3
   },
   "file_extension": ".py",
   "mimetype": "text/x-python",
   "name": "python",
   "nbconvert_exporter": "python",
   "pygments_lexer": "ipython3",
   "version": "3.6.6"
  }
 },
 "nbformat": 4,
 "nbformat_minor": 2
}
